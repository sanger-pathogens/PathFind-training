{
 "cells": [
  {
   "cell_type": "markdown",
   "metadata": {},
   "source": [
    "# PathFind scripts"
   ]
  },
  {
   "cell_type": "markdown",
   "metadata": {},
   "source": [
    "## Introduction\n",
    "\n",
    "A series of scripts were developed so that users can access imported sequence data and the results of the analysis pipelines. These are referred to as the **PathFind** or **pf** scripts. The source code for the Perl module which is used to run the pf scripts can be found on the [sanger-pathogens Git repository](https://github.com/sanger-pathogens) as [Bio-Path-Find](https://github.com/sanger-pathogens/Bio-Path-Find)."
   ]
  },
  {
   "cell_type": "markdown",
   "metadata": {},
   "source": [
    "## Learning outcomes\n",
    "\n",
    "By the end of this tutorial you can expect to be able to:\n",
    "\n",
    "  * Find the pipeline status for your lane(s) using the pf scripts\n",
    "  * Find the data for your lane(s) using the pf scripts\n",
    "  * Find the quality control (QC) results for your lane(s) using the pf scripts\n",
    "  * Find the analysis pipeline results for your lane(s) using the pf scripts\n",
    "  * Find a reference using the pf scripts"
   ]
  },
  {
   "cell_type": "markdown",
   "metadata": {},
   "source": [
    "## Tutorial sections\n",
    "\n",
    "  * [Introduction](introduction.ipynb)\n",
    "  * [Finding your data](finding-your-data.ipynb)\n",
    "  * [Sample information and accessions](information-and-accessions.ipynb)\n",
    "  * [Analysis pipeline status](pipeline-status.ipynb)\n",
    "  * [QC pipeline results](qc-pipeline-results.ipynb)\n",
    "  * [Mapping pipeline results](mapping-pipeline-results.ipynb)\n",
    "  * [SNP pipeline results](snp-pipeline-results.ipynb)\n",
    "  * [Assembly pipeline results](assembly-pipeline-results.ipynb)\n",
    "  * [Annotation pipeline results](annotation-pipeline-results.ipynb)\n",
    "  * [RNA-Seq expression pipeline results](rnaseq-pipeline-results.ipynb)\n",
    "  * [Finding a reference](finding-a-reference.ipynb)\n",
    "  * [Troubleshooting](troubleshooting.ipynb)"
   ]
  },
  {
   "cell_type": "markdown",
   "metadata": {},
   "source": [
    "## Authors\n",
    "\n",
    "This tutorial was created by [Victoria Offord](https://github.com/vaofford)."
   ]
  },
  {
   "cell_type": "markdown",
   "metadata": {},
   "source": [
    "## Running the commands from this tutorial\n",
    "\n",
    "You can run the commands in this tutorial either directly from the Jupyter notebook (if using Jupyter), or by typing the commands in your terminal window.\n",
    "\n",
    "### Running commands on Jupyter\n",
    "\n",
    "If you are using Jupyter, command cells (like the one below) can be run by selecting the cell and clicking _Cell -> Run_ from the menu above or using _Ctrl Enter_ to run the command. Let's give this a try by printing our working directory using the `pwd` command and listing the files within it. Run the commands in the two cells below."
   ]
  },
  {
   "cell_type": "code",
   "execution_count": null,
   "metadata": {
    "collapsed": true
   },
   "outputs": [],
   "source": [
    "pwd"
   ]
  },
  {
   "cell_type": "code",
   "execution_count": null,
   "metadata": {
    "collapsed": true
   },
   "outputs": [],
   "source": [
    "ls -l"
   ]
  },
  {
   "cell_type": "markdown",
   "metadata": {},
   "source": [
    "### Running commands in the terminal\n",
    "\n",
    "You can also follow this tutorial by typing all the commands you see into a terminal window. This is similar to the \"Command Prompt\" window on MS Windows systems, which allows the user to type DOS commands to manage files.\n",
    "\n",
    "To get started, select the cell below with the mouse and then either press control and enter or choose _Cell -> Run_ in the menu at the top of the page."
   ]
  },
  {
   "cell_type": "code",
   "execution_count": null,
   "metadata": {
    "collapsed": true
   },
   "outputs": [],
   "source": [
    "echo cd $PWD"
   ]
  },
  {
   "cell_type": "markdown",
   "metadata": {},
   "source": [
    "Open a new terminal on your computer and type the command that was output by the previous cell followed by the enter key. The command will look similar to this:"
   ]
  },
  {
   "cell_type": "code",
   "execution_count": null,
   "metadata": {
    "collapsed": true
   },
   "outputs": [],
   "source": [
    "cd /home/manager/pathogen-informatics-training/Notebooks/PathFind/"
   ]
  },
  {
   "cell_type": "markdown",
   "metadata": {},
   "source": [
    "Now you can follow the instructions in the tutorial from here."
   ]
  },
  {
   "cell_type": "markdown",
   "metadata": {},
   "source": [
    "## Prerequisites\n",
    "\n",
    "This tutorial assumes that you have [Bio-Path-Find](https://github.com/sanger-pathogens/Bio-Path-Find) installed on your computer. \n",
    "\n",
    "To be able to access the tutorial dataset, we need to add a few lines to our configuration file which tell it where to write the log file and the location of the tutorial data. We also need to add the paths for our tutorial reference sequences to `data/refs.index`.\n",
    "\n",
    "**Please run the following commands.**"
   ]
  },
  {
   "cell_type": "code",
   "execution_count": null,
   "metadata": {
    "collapsed": true
   },
   "outputs": [],
   "source": [
    "./setup_config.sh"
   ]
  },
  {
   "cell_type": "code",
   "execution_count": 2,
   "metadata": {
    "collapsed": false
   },
   "outputs": [
    {
     "name": "stdout",
     "output_type": "stream",
     "text": []
    }
   ],
   "source": [
    "./setup_refs.sh"
   ]
  },
  {
   "cell_type": "markdown",
   "metadata": {},
   "source": [
    "You will be asked to run the following command in each section of the tutorial. This tells the system where to find our configuration file. Please run the command now."
   ]
  },
  {
   "cell_type": "code",
   "execution_count": null,
   "metadata": {
    "collapsed": false
   },
   "outputs": [],
   "source": [
    "export PF_CONFIG_FILE=$PWD/data/pathfind.conf"
   ]
  },
  {
   "cell_type": "markdown",
   "metadata": {},
   "source": [
    "To check that you have installed Bio-Path-Find correctly and that you can access the tutorial, please run the following command:"
   ]
  },
  {
   "cell_type": "code",
   "execution_count": null,
   "metadata": {
    "collapsed": false
   },
   "outputs": [],
   "source": [
    "pf -h"
   ]
  },
  {
   "cell_type": "markdown",
   "metadata": {},
   "source": [
    "This should return the help message for the pf scripts."
   ]
  },
  {
   "cell_type": "markdown",
   "metadata": {},
   "source": [
    "## Let's get started!\n",
    "\n",
    "To get started with the tutorial, head to the first section: [Introduction](introduction.ipynb)."
   ]
  }
 ],
 "metadata": {
  "anaconda-cloud": {},
  "kernelspec": {
   "display_name": "Bash",
   "language": "bash",
   "name": "bash"
  },
  "language_info": {
   "codemirror_mode": "shell",
   "file_extension": ".sh",
   "mimetype": "text/x-sh",
   "name": "bash"
  }
 },
 "nbformat": 4,
 "nbformat_minor": 2
}
