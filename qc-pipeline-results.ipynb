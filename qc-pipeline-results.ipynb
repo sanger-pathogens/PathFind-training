{
 "cells": [
  {
   "cell_type": "markdown",
   "metadata": {},
   "source": [
    "# Quality control (QC) pipeline results"
   ]
  },
  {
   "cell_type": "markdown",
   "metadata": {},
   "source": [
    "***"
   ]
  },
  {
   "cell_type": "markdown",
   "metadata": {},
   "source": [
    "## Introduction\n",
    "\n",
    "When your sample data is in the Pathogen Informatics databases, it becomes available to the automated analysis pipelines. After the analysis pipelines have been requested and run, you can use the `pf` scripts to return the results of each of the automated analysis pipelines.\n",
    "\n",
    "First up, we're going to look at how you can get the output from the QC pipeline. The [QC pipeline](http://mediawiki.internal.sanger.ac.uk/index.php/Pathogen_Sequencing_Informatics#QC_Pipeline) generates a series of QC statistics about your data and runs [Kraken](https://ccb.jhu.edu/software/kraken/) which assigns each read to a taxon and will broadly tell you what's been sequenced. To get the QC results, we use `pf qc` which returns the location of the Kraken report for a given study, sample or lane.\n",
    "\n",
    "In this section of the tutorial we will cover:\n",
    "\n",
    "  * using `pf qc` to get quality control (QC) pipeline results\n"
   ]
  },
  {
   "cell_type": "markdown",
   "metadata": {},
   "source": [
    "***"
   ]
  },
  {
   "cell_type": "markdown",
   "metadata": {},
   "source": [
    "## Exercise 5"
   ]
  },
  {
   "cell_type": "markdown",
   "metadata": {},
   "source": [
    "**First, let's tell the system the location of our tutorial configuration file.**"
   ]
  },
  {
   "cell_type": "code",
   "execution_count": null,
   "metadata": {
    "collapsed": false
   },
   "outputs": [],
   "source": [
    "export PF_CONFIG_FILE=$PWD/data/pathfind.conf"
   ]
  },
  {
   "cell_type": "markdown",
   "metadata": {},
   "source": [
    "**Let's take a look at the `pf qc` usage.**"
   ]
  },
  {
   "cell_type": "code",
   "execution_count": 89,
   "metadata": {
    "collapsed": false
   },
   "outputs": [
    {
     "name": "stdout",
     "output_type": "stream",
     "text": [
      "\u001b[1musage:\u001b[0m\r\n",
      "      pf qc --id <id> --type <ID type> [options]\r\n",
      "\r\n",
      "\u001b[1mdescription:\u001b[0m\r\n",
      "    The qc command will return quality control data. Specify the type of data\r\n",
      "    using --type and give the accession, name or identifier for the data using\r\n",
      "    --id.\r\n",
      "    \r\n",
      "    Use \"pf man\" or \"pf man qc\" to see more information.\r\n",
      "\r\n",
      "\u001b[1moptions:\u001b[0m\r\n",
      "    --archive -a                create a tar archive of data files\r\n",
      "    --counts -C                 use counts in summary instead of percentages\r\n",
      "                                [Flag]\r\n",
      "    --csv-separator -c          field separator to use when writing CSV files\r\n",
      "                                [Default:\",\"; Env: PF_CSV_SEP]\r\n",
      "    --directly -d               report reads assigned directly to this taxon\r\n",
      "                                [Flag]\r\n",
      "    --file-id-type --ft         type of IDs in the input file [Default:\"lane\"\r\n",
      "                                ; Possible values: lane, library, sample,\r\n",
      "                                species, study]\r\n",
      "    --force -F                  force commands to overwrite existing files [\r\n",
      "                                Flag; Env: PF_FORCE_OVERWRITE]\r\n",
      "    --help -h --usage -?        Prints this usage information. [Flag]\r\n",
      "    --id -i                     ID or name of file containing IDs [Required;\r\n",
      "                                Env: PF_ID]\r\n",
      "    --ignore-processed-flag -I  ignore \"processed\" flag when finding lanes [\r\n",
      "                                Flag]\r\n",
      "    --level -L                  <D|P|C|O|F|G|S|T> output specified taxonomic\r\n",
      "                                level [Default:\"T\"]\r\n",
      "    --no-progress-bars -N       don't show progress bars [Flag; Env: PF_NO_\r\n",
      "                                PROGRESS_BARS]\r\n",
      "    --no-tar-compression -u     don't compress tar archives [Flag]\r\n",
      "    --rename -r                 replace hash (#) with underscore (_) in\r\n",
      "                                filenames [Flag]\r\n",
      "    --summary -s                write summary info to a CSV file\r\n",
      "    --symlink -l                create symlinks for data files in the\r\n",
      "                                specified directory\r\n",
      "    --transpose -T              transpose rows and columns in summary [Flag]\r\n",
      "    --type -t                   ID type. Use \"file\" to read IDs from file [\r\n",
      "                                Required; Possible values: database, file,\r\n",
      "                                lane, library, sample, species, study; Env:\r\n",
      "                                PF_TYPE]\r\n",
      "    --verbose -v                show debugging messages [Default:\"0\"; Integer\r\n",
      "                                ; Env: PF_VERBOSE]\r\n",
      "    --zip -z                    create a zip archive of data files\r\n",
      "\r\n"
     ]
    }
   ],
   "source": [
    "pf qc -h"
   ]
  },
  {
   "cell_type": "markdown",
   "metadata": {},
   "source": [
    "**Now, let's get the QC pipeline results for lane 5477_6#1.**"
   ]
  },
  {
   "cell_type": "code",
   "execution_count": 90,
   "metadata": {
    "collapsed": false
   },
   "outputs": [
    {
     "name": "stdout",
     "output_type": "stream",
     "text": [
      "\r",
      "finding lanes:   0% [                                                ]\r",
      "finding lanes: 100% [================================================]D 0h00m00s\r",
      "                                                                                \r",
      "\r",
      "                                                                                \r",
      "/Users/vo1/sanger-pathogens/pathogen-informatics-training/Notebooks/PathFind/data/prokaryotes/seq-pipelines/Streptococcus/pneumoniae/TRACKING/664/Tw01_0055/SLX/Tw01_0055_1373893/5477_6#1/kraken.report\r\n"
     ]
    }
   ],
   "source": [
    "pf qc -t lane -i 5477_6#1"
   ]
  },
  {
   "cell_type": "markdown",
   "metadata": {},
   "source": [
    "This returned the location of the Kraken report on disk.\n",
    "\n",
    "**Let's take a quick look at the Kraken report.**"
   ]
  },
  {
   "cell_type": "code",
   "execution_count": null,
   "metadata": {
    "collapsed": false
   },
   "outputs": [],
   "source": [
    "pf qc -t lane -i 5477_6#1 | xargs head"
   ]
  },
  {
   "cell_type": "markdown",
   "metadata": {},
   "source": [
    "Notice that we used `xargs` to give the filename that was returned to another command, in this case `head`. \n",
    "\n",
    "We can get a summary of this Kraken report using the `--summary` or `-s` option that will generate a new file called \"qc_summary.csv\" containing the taxon level Kraken results.\n",
    "\n",
    "**Let's get our _taxon_ (strain) level QC summary for lane 5477_6#1.**"
   ]
  },
  {
   "cell_type": "code",
   "execution_count": null,
   "metadata": {
    "collapsed": false
   },
   "outputs": [],
   "source": [
    "pf qc -t lane -i 5477_6#1 -s"
   ]
  },
  {
   "cell_type": "code",
   "execution_count": null,
   "metadata": {
    "collapsed": false
   },
   "outputs": [],
   "source": [
    "head qc_summary.csv"
   ]
  },
  {
   "cell_type": "markdown",
   "metadata": {},
   "source": [
    "Here you can see the taxon level Kraken results i.e 1.08% of the reads were assigned to the _Streptococcus pneumoniae_ strain Hungary19A-6.\n",
    "\n",
    "We can look at the results for different taxonomic levels using the `--level` or `-L` option.\n",
    "\n",
    "**Let's try looking at the species level QC results for lane 5477_6#1.**"
   ]
  },
  {
   "cell_type": "code",
   "execution_count": null,
   "metadata": {
    "collapsed": false
   },
   "outputs": [],
   "source": [
    "pf qc -t lane -i 5477_6#1 -L S -s qc_species_summary.csv"
   ]
  },
  {
   "cell_type": "code",
   "execution_count": null,
   "metadata": {
    "collapsed": false
   },
   "outputs": [],
   "source": [
    "head qc_species_summary.csv"
   ]
  },
  {
   "cell_type": "markdown",
   "metadata": {},
   "source": [
    "Here we can see that 87.58% of the reads were classified as _Streptococcus pneumoniae_. This is promising as the sample is from _Streptococcus pneumoniae_."
   ]
  },
  {
   "cell_type": "markdown",
   "metadata": {},
   "source": [
    "### QC Grind\n",
    "\n",
    "The QC pipeline also generates a series of QC statistics for a given study, sample or lane which can be found on [QC Grind](http://pathweb.internal.sanger.ac.uk:8000/cgi-bin/overview.pl)."
   ]
  },
  {
   "cell_type": "markdown",
   "metadata": {},
   "source": [
    "***"
   ]
  },
  {
   "cell_type": "markdown",
   "metadata": {},
   "source": [
    "## Questions\n",
    "\n",
    "**Q1: What percentage of the reads from lane 10050_2#1 were \"unclassified\" by Kraken?**  \n",
    "_Hint: you can use `xargs` and `head` to look at the start of the Kraken report returned by `pf qc`_"
   ]
  },
  {
   "cell_type": "code",
   "execution_count": null,
   "metadata": {
    "collapsed": false
   },
   "outputs": [],
   "source": []
  },
  {
   "cell_type": "markdown",
   "metadata": {},
   "source": [
    "**Q2: What percentage of the reads from the lane 10050_2#1 were classified to the genus _Streptococcus_ by Kraken?**  \n",
    "_Hint: look at the level options in the `pf qc` usage_"
   ]
  },
  {
   "cell_type": "code",
   "execution_count": null,
   "metadata": {
    "collapsed": true
   },
   "outputs": [],
   "source": []
  },
  {
   "cell_type": "code",
   "execution_count": null,
   "metadata": {
    "collapsed": true
   },
   "outputs": [],
   "source": []
  },
  {
   "cell_type": "markdown",
   "metadata": {},
   "source": [
    "***"
   ]
  },
  {
   "cell_type": "markdown",
   "metadata": {},
   "source": [
    "## What's next?\n",
    "\n",
    "For a quick recap of how to get metadata and accessions, head back to [analysis pipeline status](pipeline-status.ipynb).\n",
    "\n",
    "Otherwise, let's move on to how to get your [analysis pipeline results](pipeline-results.ipynb)."
   ]
  }
 ],
 "metadata": {
  "anaconda-cloud": {},
  "kernelspec": {
   "display_name": "Bash",
   "language": "bash",
   "name": "bash"
  },
  "language_info": {
   "codemirror_mode": "shell",
   "file_extension": ".sh",
   "mimetype": "text/x-sh",
   "name": "bash"
  }
 },
 "nbformat": 4,
 "nbformat_minor": 2
}
