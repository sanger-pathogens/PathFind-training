{
 "cells": [
  {
   "cell_type": "markdown",
   "metadata": {},
   "source": [
    "# Accessing pathogen data and analysis pipeline results"
   ]
  },
  {
   "cell_type": "markdown",
   "metadata": {},
   "source": [
    "***"
   ]
  },
  {
   "cell_type": "markdown",
   "metadata": {},
   "source": [
    "## Introduction\n",
    "\n",
    "[Pathogen Informatics](http://mediawiki.internal.sanger.ac.uk/index.php/Pathogen_Informatics) maintain a series of databases which track the progress of pathogen studies and samples.  These samples may have been through the Sanger sequencing pipeline (internal) or imported from other sources (external).\n",
    "\n",
    "### Automated analysis pipelines\n",
    "\n",
    "Once the sample data is in the Pathogen Informatics databases, it is then available to the automated analysis pipelines. Pathogen Informatics maintain the following automated analysis pipelines:\n",
    "\n",
    "  * [Quality control (QC)](http://mediawiki.internal.sanger.ac.uk/index.php/Pathogen_Sequencing_Informatics#QC_Pipeline)\n",
    "  * [Mapping](http://mediawiki.internal.sanger.ac.uk/index.php/Pathogen_Informatics_Mapping_Pipeline)\n",
    "  * [SNP calling](http://mediawiki.internal.sanger.ac.uk/index.php/Pathogen_Informatics_SNP_Calling_Pipeline)\n",
    "  * [Bacterial](http://mediawiki.internal.sanger.ac.uk/index.php/Pathogen_Informatics_Bacterial_Assembly_Pipeline), [Eukaryote](http://mediawiki.internal.sanger.ac.uk/index.php/Pathogen_Informatics_Eukaryote_Assembly_Pipeline) and [Pacbio](http://mediawiki.internal.sanger.ac.uk/index.php/Pathogen_Informatics_Automated_PacBio_Assembly_Pipeline) assembly\n",
    "  * [Annotation](http://mediawiki.internal.sanger.ac.uk/index.php/Pathogen_Informatics_Automated_Annotation_Pipeline)\n",
    "  * [RNA-Seq expression](http://mediawiki.internal.sanger.ac.uk/index.php/Pathogen_Informatics_RNA-Seq_Expression_Pipeline)\n",
    "\n",
    "For more information on study registration, external data tracking and the automated analysis pipelines, please see the [Pathogen Informatics wiki](http://mediawiki.internal.sanger.ac.uk/index.php/Pathogen_Informatics).\n",
    "\n",
    "\n",
    "### Accessing pathogen data and analysis results\n",
    "\n",
    "A series of scripts were developed so that users can access imported sequence data and the results of the analysis pipelines. These are referred to as the **pathfind** or **pf** scripts.\n",
    "\n",
    "| Command | Description                                                                                     |\n",
    "| ---                   | ---                                                                                  |\n",
    "| **pf status**     | used to find the pipeline progress for a given study, sample or lane                     |  \n",
    "| **pf data**       | used to find the FASTQ or PacBio files for a given study, sample or lane                 |\n",
    "| **pf info**       | used to match sample internal ids and and supplier ids for a given study, sample or lane |\n",
    "| **pf accession**  | used to obtain accession numbers for a given study, sample or lane                       |\n",
    "| **pf qc**         | used to find the kraken results for a given study, sample or lane                        | \n",
    "| **pf map**        | used to find the location of BAM files produced by the mapping pipeline                  |           \n",
    "| **pf snp**        | used to find the location of VCF files produced by the SNP calling pipeline              |\n",
    "| **pf assembly**   | used to find the location of the contig FASTA files produced by the assembly pipeline    | \n",
    "| **pf annotation** | used to find the location of the GFF files produced by the annotation pipeline           | \n",
    "| **pf rnaseq**     | used to find the location of expression counts produced by the RNA-Seq analysis pipeline |\n",
    "| **pf ref**        | used to find the location of a reference on pathogen disk                                |\n",
    "\n",
    "#### Getting help\n",
    "\n",
    "You can look at an overview of all the pf commands using `pf -h` "
   ]
  },
  {
   "cell_type": "code",
   "execution_count": null,
   "metadata": {
    "collapsed": false
   },
   "outputs": [],
   "source": [
    "pf -h"
   ]
  },
  {
   "cell_type": "markdown",
   "metadata": {},
   "source": [
    "Or, you can look at the usage and available options for a particular command using `pf <command> -h`."
   ]
  },
  {
   "cell_type": "code",
   "execution_count": null,
   "metadata": {
    "collapsed": false
   },
   "outputs": [],
   "source": [
    "pf data -h"
   ]
  },
  {
   "cell_type": "markdown",
   "metadata": {},
   "source": [
    "***"
   ]
  },
  {
   "cell_type": "markdown",
   "metadata": {},
   "source": [
    "## Exercise 1\n",
    "\n",
    "The pf scripts return information or locations for each lane that is found. To specify which lanes we want to retrieve, we use the **`--type`** (**`-t`** or **`--type`**) and **`--id`** (**`-i`** or **`--id`**) options. \n",
    "\n",
    "There are four ID types (**`-t`**) you can use to search for information:\n",
    "\n",
    "  * **study**  \n",
    "    _retrieve all lanes associated with a study using a study ID_\n",
    "     \n",
    "     \n",
    "  * **lane**   \n",
    "    _retrieve a single lane using a lane ID_\n",
    "    \n",
    "    \n",
    "  * **sample**   \n",
    "    _retrieve a single sample using a sample ID_\n",
    "    \n",
    "    \n",
    "  * **file**   \n",
    "    _retrieve all lanes which are listed in the file using the filename as the identifier_\n",
    "\n",
    "This exercise uses `pf data` to walk you through using these ID types to search for information.\n",
    "    \n",
    "**First, let's tell the system the location of our tutorial configuration file.**"
   ]
  },
  {
   "cell_type": "code",
   "execution_count": null,
   "metadata": {
    "collapsed": false
   },
   "outputs": [],
   "source": [
    "export PF_CONFIG_FILE=$PWD/data/pathfind.conf"
   ]
  },
  {
   "cell_type": "markdown",
   "metadata": {},
   "source": [
    "### Retrieving all lanes associated with a study\n",
    "\n",
    "To retrieve all of the lanes which are associated with a study we will set the type (**`-t`**) to **study** and the id (**`-i`**) to **664**. \n",
    "\n",
    "**Let's try searching for lanes associated with study 664.**"
   ]
  },
  {
   "cell_type": "code",
   "execution_count": null,
   "metadata": {
    "collapsed": false
   },
   "outputs": [],
   "source": [
    "pf data -t study -i 664"
   ]
  },
  {
   "cell_type": "markdown",
   "metadata": {},
   "source": [
    "We can also search for a study using its name. In [Sequencescape](http://psd-support.internal.sanger.ac.uk:6600/studies/664/information) we can see that the name of study 644 is _\"Streptococcus pneumoniae global lineages\"_. \n",
    "\n",
    "**Let's try searching using the study name.**"
   ]
  },
  {
   "cell_type": "code",
   "execution_count": 20,
   "metadata": {
    "collapsed": false
   },
   "outputs": [],
   "source": [
    "pf data -t study -i \"Streptococcus pneumoniae global lineages\""
   ]
  },
  {
   "cell_type": "markdown",
   "metadata": {
    "collapsed": true
   },
   "source": [
    "Finally, we can count the number of lanes that were returned using `wc -l`."
   ]
  },
  {
   "cell_type": "code",
   "execution_count": 21,
   "metadata": {
    "collapsed": false
   },
   "outputs": [
    {
     "name": "stdout",
     "output_type": "stream",
     "text": [
      "      11\r\n"
     ]
    }
   ],
   "source": [
    "pf data -t study -i 664 | wc -l"
   ]
  },
  {
   "cell_type": "markdown",
   "metadata": {
    "collapsed": true
   },
   "source": [
    "### Retrieving a single lane\n",
    "\n",
    "When we don't want all the lanes from a study, we can search for individual lanes. To do this we need to set the type (**`-t`**) to **lane** and give the lane ID as our identifier (**`-i`**).\n",
    "\n",
    "**Let's try searching for a lane using the lane ID.**"
   ]
  },
  {
   "cell_type": "code",
   "execution_count": null,
   "metadata": {
    "collapsed": false
   },
   "outputs": [],
   "source": [
    "pf data -t lane -i 5477_6#1"
   ]
  },
  {
   "cell_type": "markdown",
   "metadata": {},
   "source": [
    "### Retrieving a run\n",
    "\n",
    "If there are multiple lanes you want to retrieve from a run, we can search for all lanes associated with that run. To do this we need to set the type (**`-t`**) to **lane** and give the run ID as our identifier (**`-i`**).\n",
    "\n",
    "**Let's try searching for lanes associated with run 5477_6.**"
   ]
  },
  {
   "cell_type": "code",
   "execution_count": null,
   "metadata": {
    "collapsed": false
   },
   "outputs": [],
   "source": [
    "pf data -t lane -i 5477_6"
   ]
  },
  {
   "cell_type": "markdown",
   "metadata": {
    "collapsed": true
   },
   "source": [
    "### Retrieving a single sample\n",
    "\n",
    "Perhaps you don't have the lane id but you do have the sample name. To seach using a sample name we need to set the type (**`-t`**) to **sample** and give the sample name as the id (**`-i`**). \n",
    "\n",
    "**Let's try searching for a sample using the sample ID.**"
   ]
  },
  {
   "cell_type": "code",
   "execution_count": null,
   "metadata": {
    "collapsed": false
   },
   "outputs": [],
   "source": [
    "pf data -t sample -i Tw01_0055"
   ]
  },
  {
   "cell_type": "markdown",
   "metadata": {
    "collapsed": true
   },
   "source": [
    "### Retrieving multiple lanes using a file\n",
    "\n",
    "Last, but not least, we can retrieve information for a list of lanes which are stored in a file. First, let's take a look at our file of lanes."
   ]
  },
  {
   "cell_type": "code",
   "execution_count": null,
   "metadata": {
    "collapsed": false
   },
   "outputs": [],
   "source": [
    "cat data/lanes.txt"
   ]
  },
  {
   "cell_type": "markdown",
   "metadata": {
    "collapsed": true
   },
   "source": [
    "Here you can see we have one lane id per line in our file. To use this file, we need to set the type (**`-t`**) to **file** and give the file name as the id (**`-i`**). \n",
    "\n",
    "**Let's try searching for information on the lanes in \"data/lanes.txt\".**"
   ]
  },
  {
   "cell_type": "code",
   "execution_count": null,
   "metadata": {
    "collapsed": false
   },
   "outputs": [],
   "source": [
    "pf data -t file -i data/lanes.txt"
   ]
  },
  {
   "cell_type": "markdown",
   "metadata": {},
   "source": [
    "***"
   ]
  },
  {
   "cell_type": "markdown",
   "metadata": {},
   "source": [
    "## Questions\n",
    "\n",
    "**Q1: How many lanes are associated with study 2363?**  \n",
    "_Hint: you can use `wc -l` to count the number of lines (lanes) returned by `pf data`_\n",
    "\n",
    "**Q2: How many lanes are returned if you search using the file \"data/lanes_to_search.txt\"?**\n",
    "_Hint: you can use `wc -l` to count the number of lines (lanes) returned by `pf data`_"
   ]
  },
  {
   "cell_type": "markdown",
   "metadata": {},
   "source": [
    "***"
   ]
  },
  {
   "cell_type": "markdown",
   "metadata": {},
   "source": [
    "## What's next?\n",
    "\n",
    "For a quick recap of what the tutorial covers and the software you will need, head back to the [Introduction](index.ipynb).\n",
    "\n",
    "Otherwise, let's get started with looking at [finding your data](data.ipynb)."
   ]
  }
 ],
 "metadata": {
  "anaconda-cloud": {},
  "kernelspec": {
   "display_name": "Bash",
   "language": "bash",
   "name": "bash"
  },
  "language_info": {
   "codemirror_mode": "shell",
   "file_extension": ".sh",
   "mimetype": "text/x-sh",
   "name": "bash"
  }
 },
 "nbformat": 4,
 "nbformat_minor": 2
}
