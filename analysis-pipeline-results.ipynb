{
 "cells": [
  {
   "cell_type": "markdown",
   "metadata": {},
   "source": [
    "# Analysis pipeline results"
   ]
  },
  {
   "cell_type": "markdown",
   "metadata": {},
   "source": [
    "***"
   ]
  },
  {
   "cell_type": "markdown",
   "metadata": {},
   "source": [
    "## Introduction\n",
    "\n",
    "Once your sample data is in the Pathogen Informatics databases, it becomes available to the automated analysis pipelines. Pathogen Informatics maintain the following automated analysis pipelines:\n",
    "\n",
    "  * [Quality control (QC)](http://mediawiki.internal.sanger.ac.uk/index.php/Pathogen_Sequencing_Informatics#QC_Pipeline)\n",
    "  * [Mapping](http://mediawiki.internal.sanger.ac.uk/index.php/Pathogen_Informatics_Mapping_Pipeline)\n",
    "  * [SNP calling](http://mediawiki.internal.sanger.ac.uk/index.php/Pathogen_Informatics_SNP_Calling_Pipeline)\n",
    "  * [Bacterial](http://mediawiki.internal.sanger.ac.uk/index.php/Pathogen_Informatics_Bacterial_Assembly_Pipeline), [Eukaryote](http://mediawiki.internal.sanger.ac.uk/index.php/Pathogen_Informatics_Eukaryote_Assembly_Pipeline) and [Pacbio](http://mediawiki.internal.sanger.ac.uk/index.php/Pathogen_Informatics_Automated_PacBio_Assembly_Pipeline) assembly\n",
    "  * [Annotation](http://mediawiki.internal.sanger.ac.uk/index.php/Pathogen_Informatics_Automated_Annotation_Pipeline)\n",
    "  * [RNA-Seq expression](http://mediawiki.internal.sanger.ac.uk/index.php/Pathogen_Informatics_RNA-Seq_Expression_Pipeline)\n",
    "\n",
    "Once the pipelines have been requested and run, you can use the `pf` scripts to return the results of each of the automated analysis pipelines.\n",
    "\n",
    "| Command | Description |\n",
    "| ---     | ---         |\n",
    "| **pf qc**         | used to find the Kraken results for a given study, sample or lane | \n",
    "| **pf map**        | used to find the location of BAM files produced by the mapping pipeline |           \n",
    "| **pf snp**        | used to find the location of VCF files produced by the SNP calling pipeline |\n",
    "| **pf assembly**   | used to find the location of the contig FASTA files produced by the assembly pipeline | \n",
    "| **pf annotation** | used to find the location of the GFF files produced by the annotation pipeline | \n",
    "| **pf rnaseq**     | used to find the location of expression counts produced by the RNA-Seq analysis pipeline |\n",
    "\n",
    "In this section of the tutorial we will cover:\n",
    "\n",
    "  * using `pf qc` to get quality control (QC) pipeline results\n",
    "  * using `pf map` to get mapping pipeline results\n",
    "  * using `pf snp` to get SNP calling pipeline results\n",
    "  * using `pf assembly` to get assembly pipeline results\n",
    "  * using `pf annotation` to get annotation pipeline results\n",
    "  * using `pf rnaseq` to get RNA-Seq expression pipeline results"
   ]
  },
  {
   "cell_type": "markdown",
   "metadata": {},
   "source": [
    "***"
   ]
  },
  {
   "cell_type": "markdown",
   "metadata": {},
   "source": [
    "## Exercise 5"
   ]
  },
  {
   "cell_type": "markdown",
   "metadata": {},
   "source": [
    "**First, let's tell the system the location of our tutorial configuration file.**"
   ]
  },
  {
   "cell_type": "code",
   "execution_count": null,
   "metadata": {
    "collapsed": false
   },
   "outputs": [],
   "source": [
    "export PF_CONFIG_FILE=$PWD/data/pathfind.conf"
   ]
  },
  {
   "cell_type": "markdown",
   "metadata": {},
   "source": [
    "###  Getting quality control (QC) pipeline results\n",
    "\n",
    "First up, we're going to look at how to get the output from the QC pipeline. The QC pipeline generates a series of QC statistics about your data and runs [Kraken](https://ccb.jhu.edu/software/kraken/) which assigns each read to a taxon and will broadly tell you what's been sequenced.\n",
    "\n",
    "To get the QC results, we will be using `pf qc` which returns the location of the Kraken report for a given study, sample or lane.\n",
    "\n",
    "**First, let's take a look at the `pf qc` usage.**"
   ]
  },
  {
   "cell_type": "code",
   "execution_count": null,
   "metadata": {
    "collapsed": false
   },
   "outputs": [],
   "source": [
    "pf qc -h"
   ]
  },
  {
   "cell_type": "markdown",
   "metadata": {},
   "source": [
    "**Let's get the QC results for lane 5477_6#1.**"
   ]
  },
  {
   "cell_type": "code",
   "execution_count": null,
   "metadata": {
    "collapsed": false
   },
   "outputs": [],
   "source": [
    "pf qc -t lane -i 5477_6#1"
   ]
  },
  {
   "cell_type": "markdown",
   "metadata": {},
   "source": [
    "This returned the location of the Kraken report on disk.\n",
    "\n",
    "We can get a summary of the Kraken report using the `--summary` or `-s` option. This will generate a new file called \"qc_summary.csv\" which contains the taxon level Kraken results.\n",
    "\n",
    "**Let's get our taxon level QC summary for lane 5477_6#1.**"
   ]
  },
  {
   "cell_type": "code",
   "execution_count": null,
   "metadata": {
    "collapsed": false
   },
   "outputs": [],
   "source": [
    "pf qc -t lane -i 5477_6#1 -s"
   ]
  },
  {
   "cell_type": "markdown",
   "metadata": {},
   "source": [
    "**Let's take a look at \"qc_summary.csv\".**"
   ]
  },
  {
   "cell_type": "code",
   "execution_count": null,
   "metadata": {
    "collapsed": false
   },
   "outputs": [],
   "source": [
    "head qc_summary.csv"
   ]
  },
  {
   "cell_type": "markdown",
   "metadata": {},
   "source": [
    "Here you can see the taxon level Kraken results i.e 1.08% of the reads were assigned to the _Streptococcus pneumoniae_ strain Hungary19A-6.\n",
    "\n",
    "We can look at the results for different taxonomic levels using the `--level` or `-L` option.\n",
    "\n",
    "**Let's try looking at the species level QC results for lane 5477_6#1.**"
   ]
  },
  {
   "cell_type": "code",
   "execution_count": null,
   "metadata": {
    "collapsed": false
   },
   "outputs": [],
   "source": [
    "pf qc -t lane -i 5477_6#1 -L S -s qc_species_summary.csv"
   ]
  },
  {
   "cell_type": "code",
   "execution_count": null,
   "metadata": {
    "collapsed": false
   },
   "outputs": [],
   "source": [
    "head qc_species_summary.csv"
   ]
  },
  {
   "cell_type": "markdown",
   "metadata": {},
   "source": [
    "Here we can see that 87.58% of the reads were classified as _Streptococcus pneumoniae_. This is promising as the sample is from _Streptococcus pneumoniae_."
   ]
  },
  {
   "cell_type": "markdown",
   "metadata": {},
   "source": [
    "### Getting mapping pipeline results\n",
    "\n",
    "\n"
   ]
  },
  {
   "cell_type": "code",
   "execution_count": null,
   "metadata": {
    "collapsed": false
   },
   "outputs": [],
   "source": [
    "pf map -t lane -i 5477_6#1 --details"
   ]
  },
  {
   "cell_type": "code",
   "execution_count": null,
   "metadata": {
    "collapsed": true
   },
   "outputs": [],
   "source": []
  },
  {
   "cell_type": "code",
   "execution_count": null,
   "metadata": {
    "collapsed": true
   },
   "outputs": [],
   "source": []
  },
  {
   "cell_type": "code",
   "execution_count": null,
   "metadata": {
    "collapsed": true
   },
   "outputs": [],
   "source": []
  },
  {
   "cell_type": "markdown",
   "metadata": {},
   "source": [
    "***"
   ]
  },
  {
   "cell_type": "markdown",
   "metadata": {},
   "source": [
    "## Questions"
   ]
  },
  {
   "cell_type": "markdown",
   "metadata": {},
   "source": [
    "***"
   ]
  },
  {
   "cell_type": "markdown",
   "metadata": {},
   "source": [
    "## What's next?\n",
    "\n",
    "For a quick recap of how to get metadata and accessions, head back to [analysis pipeline status](pipeline-status.ipynb).\n",
    "\n",
    "Otherwise, let's move on to how to get your [analysis pipeline results](pipeline-results.ipynb)."
   ]
  }
 ],
 "metadata": {
  "anaconda-cloud": {},
  "kernelspec": {
   "display_name": "Bash",
   "language": "bash",
   "name": "bash"
  },
  "language_info": {
   "codemirror_mode": "shell",
   "file_extension": ".sh",
   "mimetype": "text/x-sh",
   "name": "bash"
  }
 },
 "nbformat": 4,
 "nbformat_minor": 2
}
