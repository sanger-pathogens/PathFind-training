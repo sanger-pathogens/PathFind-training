{
 "cells": [
  {
   "cell_type": "markdown",
   "metadata": {},
   "source": [
    "# Answers"
   ]
  },
  {
   "cell_type": "markdown",
   "metadata": {},
   "source": [
    "***"
   ]
  },
  {
   "cell_type": "markdown",
   "metadata": {},
   "source": [
    "Here are the answers to the questions from each of the tutorial sections.\n",
    "\n",
    "  * [Introduction](#Introduction)\n",
    "  * [Finding your data](#Finding-your-data)\n",
    "  * [Sample information and accessions](#Sample-information-and-accessions)\n",
    "  * [Analysis pipeline status](Analysis-pipeline-status)\n",
    "  * [QC pipeline results](QC-pipeline-results)  \n",
    "  * [Mapping pipeline results](Mapping-pipeline-results)  \n",
    "  * [SNP calling pipeline results](snp-pipeline-results)  \n",
    "  * [Assembly pipeline results](assembly-pipeline-results)  \n",
    "  * [Annotation pipeline results](annotation-pipeline-results)\n",
    "  * [RNA-Seq expression pipeline results](RNA-Seq-expression-pipeline-results)\n",
    "\n",
    "**First, let's tell the system the location of our tutorial configuration file.**"
   ]
  },
  {
   "cell_type": "code",
   "execution_count": null,
   "metadata": {
    "collapsed": false
   },
   "outputs": [],
   "source": [
    "export PF_CONFIG_FILE=$PWD/data/pathfind.conf"
   ]
  },
  {
   "cell_type": "markdown",
   "metadata": {},
   "source": [
    "***"
   ]
  },
  {
   "cell_type": "markdown",
   "metadata": {},
   "source": [
    "## Introduction\n",
    "\n",
    "**Q1: How many lanes are associated with study 2363?**\n",
    "\n",
    "**88**\n",
    "\n",
    "For this search, you need to set the type (`-t`) to study and the id (`-i`) to 2363. You can then pipe the locations returned by `pf data` into `wc -l` to count the number of locations (lines) returned."
   ]
  },
  {
   "cell_type": "code",
   "execution_count": null,
   "metadata": {
    "collapsed": false
   },
   "outputs": [],
   "source": [
    "pf data -t study -i 2363 | wc -l"
   ]
  },
  {
   "cell_type": "markdown",
   "metadata": {},
   "source": [
    "**Q2: How many lanes are returned if you search using the file \"data/lanes_to_search.txt\"?** \n",
    "\n",
    "**25**\n",
    "\n",
    "For this search, you need to set the type (`-t`) to file and the id (`-i`) to the location of the file, \"data/lanes_to_search.txt\". You can then pipe the locations returned by `pf data` into `wc -l` to count the number of locations (lines) returned."
   ]
  },
  {
   "cell_type": "code",
   "execution_count": null,
   "metadata": {
    "collapsed": false
   },
   "outputs": [],
   "source": [
    "pf data -t file -i data/lanes_to_search.txt | wc -l"
   ]
  },
  {
   "cell_type": "markdown",
   "metadata": {},
   "source": [
    "You can check that all the lanes in the file have been found by counting the number of lanes in the file."
   ]
  },
  {
   "cell_type": "code",
   "execution_count": null,
   "metadata": {
    "collapsed": false
   },
   "outputs": [],
   "source": [
    "wc -l data/lanes_to_search.txt"
   ]
  },
  {
   "cell_type": "markdown",
   "metadata": {},
   "source": [
    "***"
   ]
  },
  {
   "cell_type": "markdown",
   "metadata": {
    "collapsed": true
   },
   "source": [
    "## Finding your data\n",
    "\n",
    "**Q1: What is the location of the top level directory for data and results associated with lane 10050_2#1?**\n",
    "\n",
    "The location of the top directory on disk is:\n",
    "\n",
    "**/Users/vo1/sanger-pathogens/pathogen-informatics-training/Notebooks/PathFind/data/prokaryotes/seq-pipelines/Streptococcus/pneumoniae/TRACKING/2363/2363STDY5509234/SLX/7376889/10050_2#1**"
   ]
  },
  {
   "cell_type": "code",
   "execution_count": null,
   "metadata": {
    "collapsed": false
   },
   "outputs": [],
   "source": [
    "pf data -t lane -i 10050_2#1"
   ]
  },
  {
   "cell_type": "markdown",
   "metadata": {},
   "source": [
    "**Q2: What is the location of the two FASTQ files associated with lane 10050_2#1?**\n",
    "\n",
    "The location of the two FASTQ files are:\n",
    "\n",
    "**/Users/vo1/sanger-pathogens/pathogen-informatics-training/Notebooks/PathFind/data/prokaryotes/seq-pipelines/Streptococcus/pneumoniae/TRACKING/2363/2363STDY5509234/SLX/7376889/10050_2#1/10050_2#1_2.fastq.gz**\n",
    "\n",
    "**/Users/vo1/sanger-pathogens/pathogen-informatics-training/Notebooks/PathFind/data/prokaryotes/seq-pipelines/Streptococcus/pneumoniae/TRACKING/2363/2363STDY5509234/SLX/7376889/10050_2#1/10050_2#1_1.fastq.gz**\n",
    "\n",
    "You need to use the `-f` or `--filetype` option to get the location of the FASTQ files."
   ]
  },
  {
   "cell_type": "code",
   "execution_count": null,
   "metadata": {
    "collapsed": false
   },
   "outputs": [],
   "source": [
    "pf data -t lane -i 10050_2#1 -f fastq"
   ]
  },
  {
   "cell_type": "markdown",
   "metadata": {},
   "source": [
    "**Q3: Symlink the FASTQ files from study 2363 into a directory called \"study_2363_links\". How many FASTQ files were symlinked to \"study_2363_links?**\n",
    "\n",
    "**176**\n",
    "\n",
    "First, we need to get the FASTQ files for study 2363 using the `-f` or `--filetype` option in case there are any non-FASTQ files. We then add the `-l` or `--symlink` option with directory we want to symlink to \"study_2363_links\"."
   ]
  },
  {
   "cell_type": "code",
   "execution_count": null,
   "metadata": {
    "collapsed": false
   },
   "outputs": [],
   "source": [
    "pf data -t study -i 2363 -f fastq -l study_2363_links"
   ]
  },
  {
   "cell_type": "markdown",
   "metadata": {},
   "source": [
    "We then look at the contents of \"study_2363_links\" with `ls` and count the number of files (lines) returned with `wc -l`."
   ]
  },
  {
   "cell_type": "code",
   "execution_count": null,
   "metadata": {
    "collapsed": false
   },
   "outputs": [],
   "source": [
    "ls study_2363_links | wc -l"
   ]
  },
  {
   "cell_type": "markdown",
   "metadata": {},
   "source": [
    "**Q4: What reference was used to map lane 10050_2#1 during QC and what percentage of the reads were mapped to the reference?**\n",
    "\n",
    "**Streptococcus_pneumoniae_INV200_v1** and **89.9%**\n",
    "\n",
    "First, we need to get the statistics for lane 10050_2#1 using the `-s` or `--stats` option."
   ]
  },
  {
   "cell_type": "code",
   "execution_count": null,
   "metadata": {
    "collapsed": false
   },
   "outputs": [],
   "source": [
    "pf data -t lane -i 10050_2#1 -sF"
   ]
  },
  {
   "cell_type": "markdown",
   "metadata": {},
   "source": [
    "Then, we need to find the \"Reference\" and \"Mapped %\" column in the statistics file (10050_2_1.pathfind_stats.csv)."
   ]
  },
  {
   "cell_type": "code",
   "execution_count": null,
   "metadata": {
    "collapsed": false
   },
   "outputs": [],
   "source": [
    "cat 10050_2_1.pathfind_stats.csv"
   ]
  },
  {
   "cell_type": "markdown",
   "metadata": {},
   "source": [
    "***"
   ]
  },
  {
   "cell_type": "markdown",
   "metadata": {},
   "source": [
    "## Sample information and accessions"
   ]
  },
  {
   "cell_type": "markdown",
   "metadata": {},
   "source": [
    "**Q1: What is the sample name that corresponds with lane 10050_2#1?**\n",
    "\n",
    "**2363STDY5509234**\n",
    "\n",
    "We can use the default output from running `pf info` with the identifier type (`-t` or `--type`) set as \"lane\" and the identifier (`-i` or `--id`) as 10050_2#1 to get the sample name."
   ]
  },
  {
   "cell_type": "code",
   "execution_count": null,
   "metadata": {
    "collapsed": false
   },
   "outputs": [],
   "source": [
    "pf info -t lane -i 10050_2#1"
   ]
  },
  {
   "cell_type": "markdown",
   "metadata": {},
   "source": [
    "We could also have used `pf accession`."
   ]
  },
  {
   "cell_type": "code",
   "execution_count": null,
   "metadata": {
    "collapsed": false
   },
   "outputs": [],
   "source": [
    "pf accession -t lane -i 10050_2#1"
   ]
  },
  {
   "cell_type": "markdown",
   "metadata": {},
   "source": [
    "**Q2: What is the lane name that corresponds with sample 2363STDY5509320?**\n",
    "\n",
    "**10050_2#87**\n",
    "\n",
    "We can use the default output from running `pf info` with the identifier type (`-t` or `--type`) set as \"sample\" and the identifier (`-i` or `--id`) as 2363STDY5509320 to get the sample name."
   ]
  },
  {
   "cell_type": "code",
   "execution_count": null,
   "metadata": {
    "collapsed": false
   },
   "outputs": [],
   "source": [
    "pf info -t sample -i 2363STDY5509320"
   ]
  },
  {
   "cell_type": "markdown",
   "metadata": {},
   "source": [
    "Again, we could also have used `pf accession`."
   ]
  },
  {
   "cell_type": "code",
   "execution_count": null,
   "metadata": {
    "collapsed": false
   },
   "outputs": [],
   "source": [
    "pf accession -t sample -i 2363STDY5509320"
   ]
  },
  {
   "cell_type": "markdown",
   "metadata": {},
   "source": [
    "**Q3: What are the sample and lane names of the last lane in the file \"data/lanes_to_search.txt\"?**\n",
    "\n",
    "**10050_2#25** and **2363STDY5509258**\n",
    "\n",
    "We can use the default output from running `pf info` with the identifier type (`-t` or `--type`) set as \"file\" and the identifier (`-i` or `--id`) as \"data/lanes_to_search.txt\" to get the lane and sample names. To get the last line output (analogous to the last line in the file) we can use `tail -1`."
   ]
  },
  {
   "cell_type": "code",
   "execution_count": null,
   "metadata": {
    "collapsed": false
   },
   "outputs": [],
   "source": [
    "pf info -t file -i data/lanes_to_search.txt | tail -1"
   ]
  },
  {
   "cell_type": "markdown",
   "metadata": {},
   "source": [
    "Again, we could also have used `pf accession`."
   ]
  },
  {
   "cell_type": "code",
   "execution_count": null,
   "metadata": {
    "collapsed": false
   },
   "outputs": [],
   "source": [
    "pf accession -t file -i data/lanes_to_search.txt | tail -1"
   ]
  },
  {
   "cell_type": "markdown",
   "metadata": {},
   "source": [
    "**Q4: What are the sample and lane accessions for lane 10050_2#1?**\n",
    "\n",
    "**ERS225583** and **ERR331391**\n",
    "\n",
    "We can use the default output from running `pf accession` with the identifier type (-t or --type) set as \"lane\" and the identifier (-i or --id) as 10050_2#1 to get the lane and sample accessions."
   ]
  },
  {
   "cell_type": "code",
   "execution_count": null,
   "metadata": {
    "collapsed": false
   },
   "outputs": [],
   "source": [
    "pf accession -t lane -i 10050_2#1"
   ]
  },
  {
   "cell_type": "markdown",
   "metadata": {},
   "source": [
    "**Q5: What are the two URLs which can be used to download the FASTQ files for lane 10050_2#1 from the ENA?**\n",
    "\n",
    "**ftp://ftp.sra.ebi.ac.uk/vol1/fastq/ERR331/ERR331391/ERR331391_1.fastq.gz**\n",
    "\n",
    "and \n",
    "\n",
    "**ftp://ftp.sra.ebi.ac.uk/vol1/fastq/ERR331/ERR331391/ERR331391_2.fastq.gz**\n",
    "\n",
    "We can get the ENA download URLs by running pf accession with the identifier type (-t or --type) set as \"lane\" and the identifier (-i or --id) as 10050_2#1 with the option `-f` or `--fastq`."
   ]
  },
  {
   "cell_type": "code",
   "execution_count": null,
   "metadata": {
    "collapsed": false
   },
   "outputs": [],
   "source": [
    "pf accession -t lane -i 10050_2#1 -f"
   ]
  },
  {
   "cell_type": "markdown",
   "metadata": {},
   "source": [
    "This will generate \"fastq_urls.txt\" which contains the two URLS you're looking for."
   ]
  },
  {
   "cell_type": "code",
   "execution_count": null,
   "metadata": {
    "collapsed": false
   },
   "outputs": [],
   "source": [
    "cat fastq_urls.txt"
   ]
  },
  {
   "cell_type": "markdown",
   "metadata": {},
   "source": [
    "_Note: if the file \"fastq&#95;urls.txt\" already exists you will need to remove it before you can use `pf accession` to create it again._"
   ]
  },
  {
   "cell_type": "markdown",
   "metadata": {},
   "source": [
    "***"
   ]
  },
  {
   "cell_type": "markdown",
   "metadata": {},
   "source": [
    "## Analysis pipeline status"
   ]
  },
  {
   "cell_type": "markdown",
   "metadata": {},
   "source": [
    "**Q1: Has the assembly pipeline been run on lane 10018_1#1? If so, what is the status?**\n",
    "\n",
    "**No**.  \n",
    "\n",
    "The status for the assembly pipeline for lane 10018_1#1 is '-' which means that the assembly pipeline has not been run for this data."
   ]
  },
  {
   "cell_type": "code",
   "execution_count": null,
   "metadata": {
    "collapsed": false
   },
   "outputs": [],
   "source": [
    "pf status -t lane -i 10018_1#1"
   ]
  },
  {
   "cell_type": "markdown",
   "metadata": {},
   "source": [
    "**Q2: Which lanes in study 607 has the assembly pipeline been run on?**\n",
    "\n",
    "**10018_1#2**, **10018_1#2**, **10018_1#2**, **10018_1#2** and  **10018_1#51** \n",
    "\n",
    "We can pipe the output of `pf status` for study 607 into `awk`. The assembly pipeline status is found in column 9 and we want to filter for values which are \"Done\".  This should return five lanes."
   ]
  },
  {
   "cell_type": "code",
   "execution_count": null,
   "metadata": {
    "collapsed": false
   },
   "outputs": [],
   "source": [
    "pf status -t study -i 607 | awk '$9 == \"Done\"'"
   ]
  },
  {
   "cell_type": "markdown",
   "metadata": {},
   "source": [
    "**Q3: How many lanes in study 607 has the mapping pipeline been run on?**\n",
    "\n",
    "**41**\n",
    "\n",
    "The command structure here is similar to before except we want to filter values for the mapping pipeline in column 4. We can then count the number of lines returned with `wc -l`."
   ]
  },
  {
   "cell_type": "code",
   "execution_count": null,
   "metadata": {
    "collapsed": false
   },
   "outputs": [],
   "source": [
    "pf status -t study -i 607 | awk '$4 == \"Done\"' | wc -l"
   ]
  },
  {
   "cell_type": "markdown",
   "metadata": {},
   "source": [
    "***"
   ]
  },
  {
   "cell_type": "markdown",
   "metadata": {},
   "source": [
    "## QC pipeline results\n",
    "\n",
    "**Q1: What percentage of the reads from lane 10050_2#1 were \"unclassified\" by Kraken?**\n",
    "\n",
    "**0.03**\n",
    "\n",
    "We can use the default output from running `pf qc` with the identifier type (`-t` or `--type`) set as \"lane\" and the identifier (`-i` or `--id`) as 10050_2#1 to get the location of the Kraken report. We then use `xargs` to pass this location to `head` so that we can see the first few lines of the report."
   ]
  },
  {
   "cell_type": "code",
   "execution_count": null,
   "metadata": {
    "collapsed": false
   },
   "outputs": [],
   "source": [
    "pf qc -t lane -i 10050_2#1 | xargs head"
   ]
  },
  {
   "cell_type": "markdown",
   "metadata": {},
   "source": [
    "**Q2: What percentage of the reads from the lane 10050_2#1 were classified to the genus _Streptococcus_ by Kraken?**\n",
    "\n",
    "**99.9%**\n",
    "\n",
    "We can write a summary of the Kraken report using the `--summary` or `-s` option. Here we called this file \"qc_genus_summary.csv\". To set the taxonomic level for the summary we use the `--level` or `-L` option. Genus is represented by a \"G\"."
   ]
  },
  {
   "cell_type": "code",
   "execution_count": null,
   "metadata": {
    "collapsed": false
   },
   "outputs": [],
   "source": [
    "pf qc -t lane -i 10050_2#1 -L G -s qc_genus_summary.csv"
   ]
  },
  {
   "cell_type": "markdown",
   "metadata": {},
   "source": [
    "We then look to the summary file to see what precentage of reads were classified to the genus _Streptococcus_."
   ]
  },
  {
   "cell_type": "code",
   "execution_count": null,
   "metadata": {
    "collapsed": false
   },
   "outputs": [],
   "source": [
    "head qc_genus_summary.csv"
   ]
  },
  {
   "cell_type": "markdown",
   "metadata": {},
   "source": [
    "***"
   ]
  },
  {
   "cell_type": "markdown",
   "metadata": {},
   "source": [
    "## Mapping pipeline results"
   ]
  },
  {
   "cell_type": "markdown",
   "metadata": {},
   "source": [
    "**Q1: How many BAM files are returned by default for lane 25243_6#1?**\n",
    "\n",
    "**3** \n",
    "\n",
    "You can use `grep -c` to count the number of returned locations ending in .bam (\".bam$\"). Notice we use a dollar sign to signify the end as we don't want to count the index files (.bam.bai)."
   ]
  },
  {
   "cell_type": "code",
   "execution_count": null,
   "metadata": {
    "collapsed": false
   },
   "outputs": [],
   "source": [
    "pf map -t lane -i 25243_6#1 | grep -c \".bam$\""
   ]
  },
  {
   "cell_type": "markdown",
   "metadata": {},
   "source": [
    "**Q2: Which mappers have been used with the mapping pipeline for lane 25243_6#1?**\n",
    "\n",
    "**bwa** and **smalt**\n",
    "\n",
    "We can use the `--details` or `-d` option to get information about which mapper and reference were used to generate each of the BAM files.  Then we can use `awk` to get the 3rd column which contains the mapper.  "
   ]
  },
  {
   "cell_type": "code",
   "execution_count": null,
   "metadata": {
    "collapsed": false
   },
   "outputs": [],
   "source": [
    "pf map -t lane -i 25243_6#1 -d | awk '{print $3}' "
   ]
  },
  {
   "cell_type": "markdown",
   "metadata": {},
   "source": [
    "If you want you can also `sort` to find the unique mappers with `uniq`."
   ]
  },
  {
   "cell_type": "code",
   "execution_count": null,
   "metadata": {
    "collapsed": false
   },
   "outputs": [],
   "source": [
    "pf map -t lane -i 25243_6#1 -d | awk '{print $3}' | sort | uniq"
   ]
  },
  {
   "cell_type": "markdown",
   "metadata": {},
   "source": [
    "**Q3: Which references have been used with the mapping pipeline for lane 25243_6#1?**\n",
    "\n",
    "**Salmonella_enterica_subsp_enterica_serovar_Typhimurium_VNB151_ST34_v0.1**\n",
    "and \n",
    "**Salmonella_enterica_subsp_enterica_serovar_Typhimurium_str_D23580_GCF_000027025_1**\n",
    "\n",
    "You can us the same command as before except this time we are looking for the references in column 2 with `awk`."
   ]
  },
  {
   "cell_type": "code",
   "execution_count": null,
   "metadata": {
    "collapsed": true
   },
   "outputs": [],
   "source": [
    "pf map -t lane -i 25243_6#1 -d | awk '{print $2}' | sort | uniq"
   ]
  },
  {
   "cell_type": "markdown",
   "metadata": {},
   "source": [
    "**Q4: What percentage of the reads from lane lane 25243_6#1 were mapped to \"Salmonella_enterica_subsp_enterica_serovar_Typhimurium_VNB151_ST34_v0.1\" using bwa?**\n",
    "\n",
    "**99.0%**\n",
    "\n",
    "First, we need to filter our returned mapping pipeline results by reference using the `--reference` or `-R` option. Then we write the comma-delimited statistics for the returned BAM files to file using the `--stats` or `-s` option."
   ]
  },
  {
   "cell_type": "code",
   "execution_count": null,
   "metadata": {
    "collapsed": true
   },
   "outputs": [],
   "source": [
    "pf map -t lane -i 25243_6#1 -R \"Salmonella_enterica_subsp_enterica_serovar_Typhimurium_VNB151_ST34_v0.1\" -s"
   ]
  },
  {
   "cell_type": "markdown",
   "metadata": {},
   "source": [
    "This generates \"25243_6_1.mapping_stats.csv\" which we can filter by mapper (column 10) using `awk` and return only the mapping percentage (column 12)."
   ]
  },
  {
   "cell_type": "code",
   "execution_count": null,
   "metadata": {
    "collapsed": true
   },
   "outputs": [],
   "source": [
    "awk -F',' '$10==\"bwa\" {print $12}' 25243_6_1.mapping_stats.csv"
   ]
  },
  {
   "cell_type": "markdown",
   "metadata": {},
   "source": [
    "***"
   ]
  },
  {
   "cell_type": "markdown",
   "metadata": {},
   "source": [
    "## SNP pipeline results"
   ]
  },
  {
   "cell_type": "markdown",
   "metadata": {},
   "source": [
    "**Q1: How many lanes from run 10018_1 has the SNP calling pipeline been completed on?**  \n",
    "\n",
    "**3**\n",
    "\n",
    "You can use `pf status` to tell you which of the lanes in run 10018_1 the SNP calling pipeline has been completed on."
   ]
  },
  {
   "cell_type": "code",
   "execution_count": null,
   "metadata": {
    "collapsed": true
   },
   "outputs": [],
   "source": [
    "pf status -t lane -i 10018_1"
   ]
  },
  {
   "cell_type": "markdown",
   "metadata": {},
   "source": [
    "To count these you can get all of the rows where the SNP calling is \"Done\" (column 7) with `awk` and then count the number of lines returned with `wc -l`."
   ]
  },
  {
   "cell_type": "code",
   "execution_count": null,
   "metadata": {
    "collapsed": true
   },
   "outputs": [],
   "source": [
    "pf status -t lane -i 10018_1 | awk '$7==\"Done\"' | wc -l"
   ]
  },
  {
   "cell_type": "markdown",
   "metadata": {},
   "source": [
    "**Q2: How many gzipped VCF files are returned by default for lane 10018_1#20?**\n",
    "\n",
    "**1**"
   ]
  },
  {
   "cell_type": "code",
   "execution_count": null,
   "metadata": {
    "collapsed": false
   },
   "outputs": [],
   "source": [
    "pf snp -t lane -i 10018_1#20"
   ]
  },
  {
   "cell_type": "markdown",
   "metadata": {},
   "source": [
    "**Q3: Which mapper and reference was used by the SNP calling pipeline for lane 10018_1#20?**\n",
    "\n",
    "**smalt** and ***Streptococcus_suis_P1_7_v1***\n",
    "\n",
    "You can get the mapper and reference information using the `--details` or `-d` option."
   ]
  },
  {
   "cell_type": "code",
   "execution_count": null,
   "metadata": {
    "collapsed": false
   },
   "outputs": [],
   "source": [
    "pf snp -t lane -i 10018_1#20 -d"
   ]
  },
  {
   "cell_type": "markdown",
   "metadata": {},
   "source": [
    "**Q4: Generate the pseudogenome for lane 10018_1#20 excluding the reference.**\n",
    "\n",
    "To generate the pseudogenome you can use the `--pseudogenome` or `-p` option and `--exclude-reference` or `-x` option to exclude the reference."
   ]
  },
  {
   "cell_type": "code",
   "execution_count": null,
   "metadata": {
    "collapsed": false
   },
   "outputs": [],
   "source": [
    "pf snp -t lane -i 10018_1#20 -p -x"
   ]
  },
  {
   "cell_type": "markdown",
   "metadata": {},
   "source": [
    "**Q5: Symlink the gzipped VCF files generated by the SNP calling pipeline for run 10018_1 to a new directory called \"10010_1_vcfs\".**\n",
    "\n",
    "You can symlink the VCF files using the `--symlink` or `-l` option, followed by the name of the directory you want to create."
   ]
  },
  {
   "cell_type": "code",
   "execution_count": null,
   "metadata": {
    "collapsed": false
   },
   "outputs": [],
   "source": [
    "pf snp -t lane -i 10018_1#20 -l 10010_1_vcfs"
   ]
  },
  {
   "cell_type": "markdown",
   "metadata": {},
   "source": [
    "***"
   ]
  },
  {
   "cell_type": "markdown",
   "metadata": {},
   "source": [
    "# Assembly pipeline results\n",
    "\n",
    "**Q1: How many assembly files are returned by default for lane 10018_1#50?**\n",
    "\n",
    "**2**\n",
    "\n",
    "Assemblies have been generated using IVA and SPAdes (look at the result paths)."
   ]
  },
  {
   "cell_type": "code",
   "execution_count": null,
   "metadata": {
    "collapsed": false
   },
   "outputs": [],
   "source": [
    "pf assembly -t lane -i 10018_1#50"
   ]
  },
  {
   "cell_type": "markdown",
   "metadata": {},
   "source": [
    "**Q2: Which program was used to generate the assembly for lane 10018_1#51?**  \n",
    "\n",
    "**velvet**\n",
    "\n",
    "Look at the end of the path - \"10018_1#51/**velvet**_assembly/contigs.fa\"."
   ]
  },
  {
   "cell_type": "code",
   "execution_count": null,
   "metadata": {
    "collapsed": false
   },
   "outputs": [],
   "source": [
    "pf assembly -t lane -i 10018_1#51"
   ]
  },
  {
   "cell_type": "markdown",
   "metadata": {},
   "source": [
    "**Q3: Symlink the assembly/assemblies generated by \"IVA\" for run 10018_1 into a new directory called \"iva_results\".**  "
   ]
  },
  {
   "cell_type": "code",
   "execution_count": null,
   "metadata": {
    "collapsed": true
   },
   "outputs": [],
   "source": [
    "pf assembly -t lane -i 10018_1 -P iva -l iva_results"
   ]
  },
  {
   "cell_type": "markdown",
   "metadata": {},
   "source": [
    "**Q4: How many contigs were assembled for lane 5477_6#1 and what is the N50?**  \n",
    "\n",
    "**66** contigs with an N50 of **61,250**\n",
    "\n",
    "First, you need to generate the statistics file using the `--stats` or `-s` option."
   ]
  },
  {
   "cell_type": "code",
   "execution_count": null,
   "metadata": {
    "collapsed": true
   },
   "outputs": [],
   "source": [
    "pf assembly -t lane -i 5477_6#1 -s"
   ]
  },
  {
   "cell_type": "markdown",
   "metadata": {},
   "source": [
    "Then, you need to look at the contents."
   ]
  },
  {
   "cell_type": "code",
   "execution_count": null,
   "metadata": {
    "collapsed": true
   },
   "outputs": [],
   "source": [
    "cat 5477_6_1.assemblyfind_stats.csv"
   ]
  },
  {
   "cell_type": "markdown",
   "metadata": {},
   "source": [
    "***"
   ]
  },
  {
   "cell_type": "markdown",
   "metadata": {
    "collapsed": true
   },
   "source": [
    "## Annotation pipeline results\n",
    "\n",
    "**Q1: How many GFF files are returned by default for lane 10018_1#1?**\n",
    "\n",
    "**2**\n",
    "\n",
    "There are two GFF file returned, one for an IVA assembly and one for a SPAdes assembly."
   ]
  },
  {
   "cell_type": "code",
   "execution_count": null,
   "metadata": {
    "collapsed": false
   },
   "outputs": [],
   "source": [
    "pf annotation -t lane -i 10018_1#1"
   ]
  },
  {
   "cell_type": "markdown",
   "metadata": {},
   "source": [
    "**Q2: What is the location of the annotation for the SPAdes assembly of lane 10018_1#1?**\n",
    "\n",
    "The location of the SPAdes annotation is:\n",
    "\n",
    "**/Users/vo1/sanger-pathogens/pathogen-informatics-training/Notebooks/PathFind/data/prokaryotes/seq-pipelines/Actinobacillus/pleuropneumoniae/TRACKING/607/APP_N2_OP1/SLX/APP_N2_OP1_7492530/10018_1#1/spades_assembly/annotation/10018_1#1.gff**\n",
    "\n",
    "You need to use the `--program` or `-P` option to filter the results by assembler."
   ]
  },
  {
   "cell_type": "code",
   "execution_count": null,
   "metadata": {
    "collapsed": false
   },
   "outputs": [],
   "source": [
    "pf annotation -t lane -i 10018_1#1 -P spades"
   ]
  },
  {
   "cell_type": "markdown",
   "metadata": {},
   "source": [
    "**Q3: What is the location of the translated CDS sequence file for the SPAdes assembly of lane 10018_1#1?**\n",
    "\n",
    "The location of the translated CDS sequence file for the SPAdes assembly is:\n",
    "\n",
    "**/Users/vo1/sanger-pathogens/pathogen-informatics-training/Notebooks/PathFind/data/prokaryotes/seq-pipelines/Actinobacillus/pleuropneumoniae/TRACKING/607/APP_N2_OP1/SLX/APP_N2_OP1_7492530/10018_1#1/spades_assembly/annotation/10018_1#1.faa**\n",
    "\n",
    "To get the translated CDS sequence file you need to use the `--filetype` or `-f` option."
   ]
  },
  {
   "cell_type": "code",
   "execution_count": null,
   "metadata": {
    "collapsed": false
   },
   "outputs": [],
   "source": [
    "pf annotation -t lane -i 10018_1#1 -P spades -f faa"
   ]
  },
  {
   "cell_type": "markdown",
   "metadata": {},
   "source": [
    "**Q4: How many of the assemblies for run 5477_6 contain the gene \"_dnaG_\"?**  \n",
    "\n",
    "**3**\n",
    "\n",
    "You need to use the `--gene` or `-g` option to search for a gene name."
   ]
  },
  {
   "cell_type": "code",
   "execution_count": null,
   "metadata": {
    "collapsed": false
   },
   "outputs": [],
   "source": [
    "pf annotation -t lane -i 5477_6 -g dnaG "
   ]
  },
  {
   "cell_type": "markdown",
   "metadata": {},
   "source": [
    "***"
   ]
  },
  {
   "cell_type": "markdown",
   "metadata": {
    "collapsed": true
   },
   "source": [
    "## RNA-Seq expression pipeline results"
   ]
  },
  {
   "cell_type": "code",
   "execution_count": null,
   "metadata": {
    "collapsed": true
   },
   "outputs": [],
   "source": []
  },
  {
   "cell_type": "code",
   "execution_count": null,
   "metadata": {
    "collapsed": true
   },
   "outputs": [],
   "source": []
  },
  {
   "cell_type": "code",
   "execution_count": null,
   "metadata": {
    "collapsed": true
   },
   "outputs": [],
   "source": []
  },
  {
   "cell_type": "code",
   "execution_count": null,
   "metadata": {
    "collapsed": true
   },
   "outputs": [],
   "source": []
  },
  {
   "cell_type": "code",
   "execution_count": null,
   "metadata": {
    "collapsed": true
   },
   "outputs": [],
   "source": []
  },
  {
   "cell_type": "code",
   "execution_count": null,
   "metadata": {
    "collapsed": true
   },
   "outputs": [],
   "source": []
  },
  {
   "cell_type": "markdown",
   "metadata": {},
   "source": [
    "***"
   ]
  },
  {
   "cell_type": "code",
   "execution_count": null,
   "metadata": {
    "collapsed": true
   },
   "outputs": [],
   "source": []
  }
 ],
 "metadata": {
  "anaconda-cloud": {},
  "kernelspec": {
   "display_name": "Bash",
   "language": "bash",
   "name": "bash"
  },
  "language_info": {
   "codemirror_mode": "shell",
   "file_extension": ".sh",
   "mimetype": "text/x-sh",
   "name": "bash"
  }
 },
 "nbformat": 4,
 "nbformat_minor": 2
}
