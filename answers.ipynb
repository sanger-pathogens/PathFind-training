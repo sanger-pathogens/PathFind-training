{
 "cells": [
  {
   "cell_type": "markdown",
   "metadata": {},
   "source": [
    "# Answers"
   ]
  },
  {
   "cell_type": "markdown",
   "metadata": {},
   "source": [
    "***"
   ]
  },
  {
   "cell_type": "markdown",
   "metadata": {},
   "source": [
    "Here are the answers to the questions from each of the tutorial sections.\n",
    "\n",
    "**First, let's tell the system the location of our tutorial configuration file.**"
   ]
  },
  {
   "cell_type": "code",
   "execution_count": 1,
   "metadata": {
    "collapsed": false
   },
   "outputs": [
    {
     "name": "stdout",
     "output_type": "stream",
     "text": []
    }
   ],
   "source": [
    "export PF_CONFIG_FILE=$PWD/data/pathfind.conf"
   ]
  },
  {
   "cell_type": "markdown",
   "metadata": {},
   "source": [
    "***"
   ]
  },
  {
   "cell_type": "markdown",
   "metadata": {},
   "source": [
    "## Accessing pathogen data and analysis pipeline results\n",
    "\n",
    "**Q1: How many lanes are associated with study 2363?**\n",
    "\n",
    "**88**\n",
    "\n",
    "For this search, you need to set the type (-t) to study and the id (-i) to 2363. You can then pipe the locations returned by `pf data` into `wc -l` to count the number of locations (lines) returned."
   ]
  },
  {
   "cell_type": "code",
   "execution_count": 2,
   "metadata": {
    "collapsed": false
   },
   "outputs": [
    {
     "name": "stdout",
     "output_type": "stream",
     "text": [
      "      88\r\n"
     ]
    }
   ],
   "source": [
    "pf data -t study -i 2363 | wc -l"
   ]
  },
  {
   "cell_type": "markdown",
   "metadata": {},
   "source": [
    "**Q2: How many lanes are returned if you search using the file \"data/lanes_to_search.txt\"?** \n",
    "\n",
    "**25**\n",
    "\n",
    "For this search, you need to set the type (-t) to file and the id (-i) to the location of the file, \"data/lanes_to_search.txt\". You can then pipe the locations returned by `pf data` into `wc -l` to count the number of locations (lines) returned."
   ]
  },
  {
   "cell_type": "code",
   "execution_count": 6,
   "metadata": {
    "collapsed": false
   },
   "outputs": [
    {
     "name": "stdout",
     "output_type": "stream",
     "text": [
      "      25\r\n"
     ]
    }
   ],
   "source": [
    "pf data -t file -i data/lanes_to_search.txt | wc -l"
   ]
  },
  {
   "cell_type": "markdown",
   "metadata": {},
   "source": [
    "You can check that all the lanes in the file have been found by counting the number of lanes in the file."
   ]
  },
  {
   "cell_type": "code",
   "execution_count": 7,
   "metadata": {
    "collapsed": false
   },
   "outputs": [
    {
     "name": "stdout",
     "output_type": "stream",
     "text": [
      "      25 data/lanes_to_search.txt\r\n"
     ]
    }
   ],
   "source": [
    "wc -l data/lanes_to_search.txt"
   ]
  },
  {
   "cell_type": "markdown",
   "metadata": {},
   "source": [
    "***"
   ]
  },
  {
   "cell_type": "code",
   "execution_count": null,
   "metadata": {
    "collapsed": true
   },
   "outputs": [],
   "source": []
  }
 ],
 "metadata": {
  "anaconda-cloud": {},
  "kernelspec": {
   "display_name": "Bash",
   "language": "bash",
   "name": "bash"
  },
  "language_info": {
   "codemirror_mode": "shell",
   "file_extension": ".sh",
   "mimetype": "text/x-sh",
   "name": "bash"
  }
 },
 "nbformat": 4,
 "nbformat_minor": 2
}
