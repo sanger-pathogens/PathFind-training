{
 "cells": [
  {
   "cell_type": "markdown",
   "metadata": {},
   "source": [
    "# Answers"
   ]
  },
  {
   "cell_type": "markdown",
   "metadata": {},
   "source": [
    "***"
   ]
  },
  {
   "cell_type": "markdown",
   "metadata": {},
   "source": [
    "Here are the answers to the questions from each of the tutorial sections.\n",
    "\n",
    "  * [Introduction](#Introduction)\n",
    "  * [Finding your data](#Finding-your-data)\n",
    "  * [Sample information and accessions](#Sample-information-and-accessions)\n",
    "\n",
    "**First, let's tell the system the location of our tutorial configuration file.**"
   ]
  },
  {
   "cell_type": "code",
   "execution_count": null,
   "metadata": {
    "collapsed": false
   },
   "outputs": [],
   "source": [
    "export PF_CONFIG_FILE=$PWD/data/pathfind.conf"
   ]
  },
  {
   "cell_type": "markdown",
   "metadata": {},
   "source": [
    "***"
   ]
  },
  {
   "cell_type": "markdown",
   "metadata": {},
   "source": [
    "## Introduction\n",
    "\n",
    "**Q1: How many lanes are associated with study 2363?**\n",
    "\n",
    "**88**\n",
    "\n",
    "For this search, you need to set the type (-t) to study and the id (-i) to 2363. You can then pipe the locations returned by `pf data` into `wc -l` to count the number of locations (lines) returned."
   ]
  },
  {
   "cell_type": "code",
   "execution_count": null,
   "metadata": {
    "collapsed": false
   },
   "outputs": [],
   "source": [
    "pf data -t study -i 2363 | wc -l"
   ]
  },
  {
   "cell_type": "markdown",
   "metadata": {},
   "source": [
    "**Q2: How many lanes are returned if you search using the file \"data/lanes_to_search.txt\"?** \n",
    "\n",
    "**25**\n",
    "\n",
    "For this search, you need to set the type (-t) to file and the id (-i) to the location of the file, \"data/lanes_to_search.txt\". You can then pipe the locations returned by `pf data` into `wc -l` to count the number of locations (lines) returned."
   ]
  },
  {
   "cell_type": "code",
   "execution_count": null,
   "metadata": {
    "collapsed": false
   },
   "outputs": [],
   "source": [
    "pf data -t file -i data/lanes_to_search.txt | wc -l"
   ]
  },
  {
   "cell_type": "markdown",
   "metadata": {},
   "source": [
    "You can check that all the lanes in the file have been found by counting the number of lanes in the file."
   ]
  },
  {
   "cell_type": "code",
   "execution_count": null,
   "metadata": {
    "collapsed": false
   },
   "outputs": [],
   "source": [
    "wc -l data/lanes_to_search.txt"
   ]
  },
  {
   "cell_type": "markdown",
   "metadata": {},
   "source": [
    "***"
   ]
  },
  {
   "cell_type": "markdown",
   "metadata": {
    "collapsed": true
   },
   "source": [
    "## Finding your data\n",
    "\n",
    "**Q1: What is the location of the top level directory for data and results associated with lane 10050_2#1?**\n",
    "\n",
    "The location of the top directory on disk is:\n",
    "\n",
    "**/Users/vo1/sanger-pathogens/pathogen-informatics-training/Notebooks/PathFind/data/prokaryotes/seq-pipelines/Streptococcus/pneumoniae/TRACKING/2363/2363STDY5509234/SLX/7376889/10050_2#1**"
   ]
  },
  {
   "cell_type": "code",
   "execution_count": null,
   "metadata": {
    "collapsed": false
   },
   "outputs": [],
   "source": [
    "pf data -t lane -i 10050_2#1"
   ]
  },
  {
   "cell_type": "markdown",
   "metadata": {},
   "source": [
    "**Q2: What is the location of the two FASTQ files associated with lane 10050_2#1?**\n",
    "\n",
    "The location of the two FASTQ files are:\n",
    "\n",
    "**/Users/vo1/sanger-pathogens/pathogen-informatics-training/Notebooks/PathFind/data/prokaryotes/seq-pipelines/Streptococcus/pneumoniae/TRACKING/2363/2363STDY5509234/SLX/7376889/10050_2#1/10050_2#1_2.fastq.gz**\n",
    "\n",
    "**/Users/vo1/sanger-pathogens/pathogen-informatics-training/Notebooks/PathFind/data/prokaryotes/seq-pipelines/Streptococcus/pneumoniae/TRACKING/2363/2363STDY5509234/SLX/7376889/10050_2#1/10050_2#1_1.fastq.gz**\n",
    "\n",
    "You need to use the `-f` or `--filetype` option to get the location of the FASTQ files."
   ]
  },
  {
   "cell_type": "code",
   "execution_count": null,
   "metadata": {
    "collapsed": false
   },
   "outputs": [],
   "source": [
    "pf data -t lane -i 10050_2#1 -f fastq"
   ]
  },
  {
   "cell_type": "markdown",
   "metadata": {},
   "source": [
    "**Q3: Symlink the FASTQ files from study 2363 into a directory called \"study_2363_links\". How many FASTQ files were symlinked to \"study_2363_links?**\n",
    "\n",
    "**176**\n",
    "\n",
    "First, we need to get the FASTQ files for study 2363 using the `-f` or `--filetype` option in case there are non-FASTQ files. We then add the `-l` or `--symlink` option with directory we want to symlink to \"study_2363_links\"."
   ]
  },
  {
   "cell_type": "code",
   "execution_count": null,
   "metadata": {
    "collapsed": false
   },
   "outputs": [],
   "source": [
    "pf data -t study -i 2363 -f fastq -l study_2363_links"
   ]
  },
  {
   "cell_type": "markdown",
   "metadata": {},
   "source": [
    "We then look at the contents of \"study_2363_links\" with `ls` and count the number of files (lines) returned with `wc -l`."
   ]
  },
  {
   "cell_type": "code",
   "execution_count": null,
   "metadata": {
    "collapsed": false
   },
   "outputs": [],
   "source": [
    "ls study_2363_links | wc -l"
   ]
  },
  {
   "cell_type": "markdown",
   "metadata": {},
   "source": [
    "**Q4: What reference was used to map lane 10050_2#1 during QC and what percentage of the reads were mapped to the reference?**\n",
    "\n",
    "**Streptococcus_pneumoniae_INV200_v1** and **89.9%**\n",
    "\n",
    "First, we need to get the statistics for lane 10050_2#1 using the `-s` or `--stats` option."
   ]
  },
  {
   "cell_type": "code",
   "execution_count": null,
   "metadata": {
    "collapsed": false
   },
   "outputs": [],
   "source": [
    "pf data -t lane -i 10050_2#1 -s"
   ]
  },
  {
   "cell_type": "markdown",
   "metadata": {},
   "source": [
    "Then, we need to find the \"Reference\" and \"Mapped %\" column in the statistics file (10050_2_1.pathfind_stats.csv)."
   ]
  },
  {
   "cell_type": "code",
   "execution_count": null,
   "metadata": {
    "collapsed": false
   },
   "outputs": [],
   "source": [
    "cat 10050_2_1.pathfind_stats.csv"
   ]
  },
  {
   "cell_type": "markdown",
   "metadata": {},
   "source": [
    "***"
   ]
  },
  {
   "cell_type": "markdown",
   "metadata": {},
   "source": [
    "## Sample information and accessions"
   ]
  },
  {
   "cell_type": "markdown",
   "metadata": {},
   "source": [
    "**Q1: What is the sample name that corresponds with lane 10050_2#1?**\n",
    "\n",
    "**2363STDY5509234**\n",
    "\n",
    "We can use the default output from running `pf info` with the identifier type (`-t` or `--type`) set as \"lane\" and the identifier (`-i` or `--id`) as 10050_2#1 to get the sample name."
   ]
  },
  {
   "cell_type": "code",
   "execution_count": null,
   "metadata": {
    "collapsed": false
   },
   "outputs": [],
   "source": [
    "pf info -t lane -i 10050_2#1"
   ]
  },
  {
   "cell_type": "markdown",
   "metadata": {},
   "source": [
    "We could also have used `pf accession`."
   ]
  },
  {
   "cell_type": "code",
   "execution_count": null,
   "metadata": {
    "collapsed": false
   },
   "outputs": [],
   "source": [
    "pf accession -t lane -i 10050_2#1"
   ]
  },
  {
   "cell_type": "markdown",
   "metadata": {},
   "source": [
    "**Q2: What is the lane name that corresponds with sample 2363STDY5509320?**\n",
    "\n",
    "**10050_2#87**\n",
    "\n",
    "We can use the default output from running `pf info` with the identifier type (`-t` or `--type`) set as \"sample\" and the identifier (`-i` or `--id`) as 2363STDY5509320 to get the sample name."
   ]
  },
  {
   "cell_type": "code",
   "execution_count": null,
   "metadata": {
    "collapsed": false
   },
   "outputs": [],
   "source": [
    "pf info -t sample -i 2363STDY5509320"
   ]
  },
  {
   "cell_type": "markdown",
   "metadata": {},
   "source": [
    "Again, we could also have used `pf accession`."
   ]
  },
  {
   "cell_type": "code",
   "execution_count": null,
   "metadata": {
    "collapsed": false
   },
   "outputs": [],
   "source": [
    "pf accession -t sample -i 2363STDY5509320"
   ]
  },
  {
   "cell_type": "markdown",
   "metadata": {},
   "source": [
    "**Q3: What are the sample and lane names of the last lane in the file \"data/lanes_to_search.txt\"?**\n",
    "\n",
    "**10050_2#25** and **2363STDY5509258**\n",
    "\n",
    "We can use the default output from running `pf info` with the identifier type (`-t` or `--type`) set as \"file\" and the identifier (`-i` or `--id`) as \"data/lanes_to_search.txt\" to get the lane and sample names. To get the last line output (analogous to the last line in the file) we can use `tail -1`."
   ]
  },
  {
   "cell_type": "code",
   "execution_count": null,
   "metadata": {
    "collapsed": false
   },
   "outputs": [],
   "source": [
    "pf info -t file -i data/lanes_to_search.txt | tail -1"
   ]
  },
  {
   "cell_type": "markdown",
   "metadata": {},
   "source": [
    "Again, we could also have used `pf accession`."
   ]
  },
  {
   "cell_type": "code",
   "execution_count": null,
   "metadata": {
    "collapsed": false
   },
   "outputs": [],
   "source": [
    "pf accession -t file -i data/lanes_to_search.txt | tail -1"
   ]
  },
  {
   "cell_type": "markdown",
   "metadata": {},
   "source": [
    "**Q4: What are the sample and lane accessions for lane 10050_2#1?**\n",
    "\n",
    "**ERS225583** and **ERR331391**\n",
    "\n",
    "We can use the default output from running `pf accession` with the identifier type (-t or --type) set as \"lane\" and the identifier (-i or --id) as 10050_2#1 to get the lane and sample accessions."
   ]
  },
  {
   "cell_type": "code",
   "execution_count": null,
   "metadata": {
    "collapsed": false
   },
   "outputs": [],
   "source": [
    "pf accession -t lane -i 10050_2#1"
   ]
  },
  {
   "cell_type": "markdown",
   "metadata": {},
   "source": [
    "**Q5: What are the two URLs which can be used to download the FASTQ files for lane 10050_2#1 from the ENA?**\n",
    "\n",
    "**ftp://ftp.sra.ebi.ac.uk/vol1/fastq/ERR331/ERR331391/ERR331391_1.fastq.gz**\n",
    "\n",
    "and \n",
    "\n",
    "**ftp://ftp.sra.ebi.ac.uk/vol1/fastq/ERR331/ERR331391/ERR331391_2.fastq.gz**\n",
    "\n",
    "We can get the ENA download URLs by running pf accession with the identifier type (-t or --type) set as \"lane\" and the identifier (-i or --id) as 10050_2#1 with the option `-f` or `--fastq`."
   ]
  },
  {
   "cell_type": "code",
   "execution_count": null,
   "metadata": {
    "collapsed": false
   },
   "outputs": [],
   "source": [
    "pf accession -t lane -i 10050_2#1 -f"
   ]
  },
  {
   "cell_type": "markdown",
   "metadata": {},
   "source": [
    "This will generate \"fastq_urls.txt\" which contains the two URLS you're looking for."
   ]
  },
  {
   "cell_type": "code",
   "execution_count": null,
   "metadata": {
    "collapsed": false
   },
   "outputs": [],
   "source": [
    "cat fastq_urls.txt"
   ]
  },
  {
   "cell_type": "markdown",
   "metadata": {},
   "source": [
    "_Note: if the file \"fastq&#95;urls.txt\" already exists you will need to remove it before you can use `pf accession` to create it again._"
   ]
  },
  {
   "cell_type": "markdown",
   "metadata": {},
   "source": [
    "***"
   ]
  },
  {
   "cell_type": "code",
   "execution_count": null,
   "metadata": {
    "collapsed": true
   },
   "outputs": [],
   "source": []
  }
 ],
 "metadata": {
  "anaconda-cloud": {},
  "kernelspec": {
   "display_name": "Bash",
   "language": "bash",
   "name": "bash"
  },
  "language_info": {
   "codemirror_mode": "shell",
   "file_extension": ".sh",
   "mimetype": "text/x-sh",
   "name": "bash"
  }
 },
 "nbformat": 4,
 "nbformat_minor": 2
}
