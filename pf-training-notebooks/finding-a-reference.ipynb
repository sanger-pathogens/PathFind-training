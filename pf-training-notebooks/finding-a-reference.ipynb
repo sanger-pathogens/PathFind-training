{
 "cells": [
  {
   "cell_type": "markdown",
   "metadata": {},
   "source": [
    "# Finding a reference"
   ]
  },
  {
   "cell_type": "markdown",
   "metadata": {},
   "source": [
    "## Introduction"
   ]
  },
  {
   "cell_type": "markdown",
   "metadata": {},
   "source": [
    "For a reference to be used with the Pathogen Informatics analysis pipelines, the reference must first be in the pathogen databases. All complete bacterial genomes from [RefSeq](https://www.ncbi.nlm.nih.gov/refseq/) are automatically imported and updated. There are user-submitted references too. \n",
    "\n",
    "We can look at the available reference sequences using `pf ref`. This differs from the other `pf` scripts that we've looked at in that it doesn't require a type (`-t`). It only needs a partial id (`id` or `i`).\n",
    "\n",
    "In this section of the tutorial we will cover:\n",
    "\n",
    "  * using `pf ref` to find a FASTA-formatted reference\n",
    "  * using `pf ref` to find the GFF annotation for a reference\n",
    "  * using `pf ref` to symlink a reference"
   ]
  },
  {
   "cell_type": "markdown",
   "metadata": {},
   "source": [
    "## Exercise 11"
   ]
  },
  {
   "cell_type": "markdown",
   "metadata": {},
   "source": [
    "**First, let's tell the system the location of our tutorial configuration file.**"
   ]
  },
  {
   "cell_type": "code",
   "execution_count": null,
   "metadata": {
    "collapsed": false
   },
   "outputs": [],
   "source": [
    "export PF_CONFIG_FILE=$PWD/data/pathfind.conf"
   ]
  },
  {
   "cell_type": "markdown",
   "metadata": {},
   "source": [
    "We can find a reference using part of the reference name using `pf ref`.\n",
    "\n",
    "**Let's take a look at the usage information for `pf ref`.**"
   ]
  },
  {
   "cell_type": "code",
   "execution_count": null,
   "metadata": {
    "collapsed": false
   },
   "outputs": [],
   "source": [
    "pf ref -h"
   ]
  },
  {
   "cell_type": "markdown",
   "metadata": {},
   "source": [
    "So, if we wanted to look which mouse (_Mus&#95;musculus_) references are available we can run:\n",
    "\n",
    "```\n",
    "pf ref -i Mus_musculus\n",
    "```\n",
    "\n",
    "Notice that there are no spaces between the genus, species and strain. Instead, these are replaced with underscores!\n",
    "\n",
    "The command above would give you:\n",
    "\n",
    "    No exact match for \"Mus_musculus\". Did you mean:\n",
    "      [1] Mus_musculus_mm10\n",
    "      [2] Mus_musculus_mm9\n",
    "      [a] all references\n",
    "    Which reference?\n",
    "\n",
    "You would then enter the number corresponding to the reference location you need. Say we want to find the reference for \"Mus_musculus_mm9\", we would enter 1 which would give us:\n",
    "\n",
    "    /path/to/refs/Mus/musculus/Mus_musculus_mm10.fa\n",
    "\n",
    "We can't do that in this notebook as it will wait forever in the background for us to enter an option. So, instead we need to use the `--all` or `-A` option to list all of the available references that match our query.\n",
    "\n",
    "**Let's see which _Salmonella_ references are available.**"
   ]
  },
  {
   "cell_type": "code",
   "execution_count": null,
   "metadata": {
    "collapsed": false
   },
   "outputs": [],
   "source": [
    "pf ref -i Salmonella -A"
   ]
  },
  {
   "cell_type": "markdown",
   "metadata": {},
   "source": [
    "This gives us the location of the reference FASTA file on disk. However, maybe we just want to see the reference names. We can do this using the `--reference-names` or `-R` option.  These can be useful where you need to specify a reference name when requesting the analysis pipelines on the command line.\n",
    "\n",
    "**Now, let's get the _Salmonella_ reference names.**"
   ]
  },
  {
   "cell_type": "code",
   "execution_count": null,
   "metadata": {
    "collapsed": false
   },
   "outputs": [],
   "source": [
    "pf ref -i Salmonella -A -R"
   ]
  },
  {
   "cell_type": "markdown",
   "metadata": {},
   "source": [
    "Notice the version numbers at the end of the reference name. There is usually a naming convention with the references based on their source:\n",
    "\n",
    "  * RefSeq accession (e.g. GCF_001887015_1) - complete genome imported from RefSeq\n",
    "  * version (v) >=1 (e.g. v1) - genome requested by user and imported from public repository (e.g. ENA/GenBank)\n",
    "  * version (v) <1 (e.g. v0.1) - internal genome assembly requested by user\n",
    "  \n",
    "But, perhaps you don't want the FASTA file, perhaps you want the reference annotation (i.e. GFF file). To get this, we need to use the `--filetype` or `-f` option.\n",
    "  \n",
    "**Let's get the annotation (GFF) locations for the available _Salmonella_ references.**"
   ]
  },
  {
   "cell_type": "code",
   "execution_count": null,
   "metadata": {
    "collapsed": false
   },
   "outputs": [],
   "source": [
    "pf ref -i Salmonella -A -f gff"
   ]
  },
  {
   "cell_type": "markdown",
   "metadata": {},
   "source": [
    "Finally, you might want to use the reference files in an analysis. The simplest way is to symlink them using the `--symlink` or `-l` option.\n",
    "\n",
    "**Let's symlink our _Salmonella_ reference genomes to a directory called \"salmonella_refs\".**"
   ]
  },
  {
   "cell_type": "code",
   "execution_count": null,
   "metadata": {
    "collapsed": false
   },
   "outputs": [],
   "source": [
    "pf ref -i Salmonella -A -l salmonella_refs"
   ]
  },
  {
   "cell_type": "code",
   "execution_count": null,
   "metadata": {
    "collapsed": false
   },
   "outputs": [],
   "source": [
    "ls salmonella_refs"
   ]
  },
  {
   "cell_type": "markdown",
   "metadata": {},
   "source": [
    "## Questions"
   ]
  },
  {
   "cell_type": "markdown",
   "metadata": {},
   "source": [
    "Don't forget to use the **`-A`** option for all of these questions if you're running the `pf ref` commands inside the notebook!\n",
    "\n",
    "**Q1: How many _Streptococcus pneumoniae_ references are available?**  \n",
    "_Hint: you can use `wc` to count the number of references returned_"
   ]
  },
  {
   "cell_type": "code",
   "execution_count": null,
   "metadata": {
    "collapsed": false
   },
   "outputs": [],
   "source": [
    "# Enter your answer here"
   ]
  },
  {
   "cell_type": "markdown",
   "metadata": {},
   "source": [
    "**Q2: How many of those _Streptococcus pneumoniae_ references were imported from a public repository ?**  \n",
    "_Hint: think about the version in the suffix, using the `-R` option to get only the names might make things clearer_"
   ]
  },
  {
   "cell_type": "code",
   "execution_count": null,
   "metadata": {
    "collapsed": false
   },
   "outputs": [],
   "source": [
    "# Enter your answer here"
   ]
  },
  {
   "cell_type": "markdown",
   "metadata": {},
   "source": [
    "**Q3: What is the location of the annotation (GFF) file for _Streptococcus pneumoniae P1031_.**"
   ]
  },
  {
   "cell_type": "code",
   "execution_count": null,
   "metadata": {
    "collapsed": false
   },
   "outputs": [],
   "source": [
    "# Enter your answer here"
   ]
  },
  {
   "cell_type": "markdown",
   "metadata": {},
   "source": [
    "**Q4: Symlink the annotation (GFF) file for _Streptococcus pneumoniae P1031_ to your current directory.**"
   ]
  },
  {
   "cell_type": "code",
   "execution_count": null,
   "metadata": {
    "collapsed": true
   },
   "outputs": [],
   "source": [
    "# Enter your answer here"
   ]
  },
  {
   "cell_type": "markdown",
   "metadata": {},
   "source": [
    "## What's next?\n",
    "\n",
    "You can head back to [RNA-Seq expression pipeline results](rnaseq-pipeline-results.ipynb).\n",
    "\n",
    "Otherwise, let's move on to looking at [troubleshooting](troubleshooting.ipynb)."
   ]
  }
 ],
 "metadata": {
  "anaconda-cloud": {},
  "kernelspec": {
   "display_name": "Bash",
   "language": "bash",
   "name": "bash"
  },
  "language_info": {
   "codemirror_mode": "shell",
   "file_extension": ".sh",
   "mimetype": "text/x-sh",
   "name": "bash"
  }
 },
 "nbformat": 4,
 "nbformat_minor": 2
}
