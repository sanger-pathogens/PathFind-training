{
 "cells": [
  {
   "cell_type": "markdown",
   "metadata": {},
   "source": [
    "# Answers"
   ]
  },
  {
   "cell_type": "markdown",
   "metadata": {},
   "source": [
    "***"
   ]
  },
  {
   "cell_type": "markdown",
   "metadata": {},
   "source": [
    "Here are the answers to the questions from each of the tutorial sections.\n",
    "\n",
    "  * [Introduction](#Introduction)\n",
    "  * [Finding your data](#Finding-your-data)\n",
    "  * [Sample information and accessions](#Sample-information-and-accessions)\n",
    "  * [Analysis pipeline status](Analysis-pipeline-status)\n",
    "  * [QC pipeline results](QC-pipeline-results)  \n",
    "  * [Mapping pipeline results](Mapping-pipeline-results)  \n",
    "  * [SNP calling pipeline results](snp-pipeline-results)  \n",
    "  * [Assembly pipeline results](assembly-pipeline-results)  \n",
    "  * [Annotation pipeline results](annotation-pipeline-results)\n",
    "  * [RNA-Seq expression pipeline results](RNA-Seq-expression-pipeline-results)\n",
    "\n",
    "**First, let's tell the system the location of our tutorial configuration file.**"
   ]
  },
  {
   "cell_type": "code",
   "execution_count": null,
   "metadata": {
    "collapsed": false
   },
   "outputs": [],
   "source": [
    "export PF_CONFIG_FILE=$PWD/data/pathfind.conf"
   ]
  },
  {
   "cell_type": "markdown",
   "metadata": {},
   "source": [
    "***"
   ]
  },
  {
   "cell_type": "markdown",
   "metadata": {},
   "source": [
    "## Introduction\n",
    "\n",
    "**Q1: How many lanes are associated with study 607?**\n",
    "\n",
    "**50**\n",
    "\n",
    "For this search, you need to set the type (`-t`) to study and the id (`-i`) to 607. You can then pipe the locations returned by `pf data` into `wc -l` to count the number of locations (lines) returned."
   ]
  },
  {
   "cell_type": "code",
   "execution_count": null,
   "metadata": {
    "collapsed": false
   },
   "outputs": [],
   "source": [
    "pf data -t study -i 607 | wc -l"
   ]
  },
  {
   "cell_type": "markdown",
   "metadata": {},
   "source": [
    "**Q2: How many lanes are returned if you search using the file \"data/lanes_to_search.txt\"?** \n",
    "\n",
    "**10**\n",
    "\n",
    "For this search, you need to set the type (`-t`) to file and the id (`-i`) to the location of the file, \"data/lanes_to_search.txt\". You can then pipe the locations returned by `pf data` into `wc -l` to count the number of locations (lines) returned."
   ]
  },
  {
   "cell_type": "code",
   "execution_count": null,
   "metadata": {
    "collapsed": false
   },
   "outputs": [],
   "source": [
    "pf data -t file -i data/lanes_to_search.txt | wc -l"
   ]
  },
  {
   "cell_type": "markdown",
   "metadata": {},
   "source": [
    "You can check that all the lanes in the file have been found by counting the number of lanes in the file."
   ]
  },
  {
   "cell_type": "code",
   "execution_count": null,
   "metadata": {
    "collapsed": false
   },
   "outputs": [],
   "source": [
    "wc -l data/lanes_to_search.txt"
   ]
  },
  {
   "cell_type": "markdown",
   "metadata": {},
   "source": [
    "***"
   ]
  },
  {
   "cell_type": "markdown",
   "metadata": {
    "collapsed": true
   },
   "source": [
    "## Finding your data\n",
    "\n",
    "**Q1: What is the location of the top level directory for data and results associated with lane 10018_1#1?**\n",
    "\n",
    "The location of the top directory can be found with:"
   ]
  },
  {
   "cell_type": "code",
   "execution_count": null,
   "metadata": {
    "collapsed": false
   },
   "outputs": [],
   "source": [
    "pf data -t lane -i 10018_1#1"
   ]
  },
  {
   "cell_type": "markdown",
   "metadata": {},
   "source": [
    "**Q2: What is the location of the FASTQ file(s) associated with lane 10018_1#1?**\n",
    "\n",
    "The location of the FASTQ file can be found by using the `-f` or `--filetype` option to get the location of the FASTQ files:"
   ]
  },
  {
   "cell_type": "code",
   "execution_count": null,
   "metadata": {
    "collapsed": false
   },
   "outputs": [],
   "source": [
    "pf data -t lane -i 10018_1#1 -f fastq"
   ]
  },
  {
   "cell_type": "markdown",
   "metadata": {},
   "source": [
    "**Q3: Symlink the FASTQ files from study 607 into a directory called \"study_607_links\". How many FASTQ files were symlinked to \"study_607_links?**\n",
    "\n",
    "**50**\n",
    "\n",
    "First, we need to get the FASTQ files for study 607 using the `-f` or `--filetype` option in case there are any non-FASTQ files. We then add the `-l` or `--symlink` option with directory we want to symlink to \"study_607_links\"."
   ]
  },
  {
   "cell_type": "code",
   "execution_count": null,
   "metadata": {
    "collapsed": false
   },
   "outputs": [],
   "source": [
    "pf data -t study -i 607 -f fastq -l study_607_links"
   ]
  },
  {
   "cell_type": "markdown",
   "metadata": {},
   "source": [
    "We then look at the contents of \"study_607_links\" with `ls` and count the number of files (lines) returned with `wc -l`."
   ]
  },
  {
   "cell_type": "code",
   "execution_count": null,
   "metadata": {
    "collapsed": false
   },
   "outputs": [],
   "source": [
    "ls study_607_links | wc -l"
   ]
  },
  {
   "cell_type": "markdown",
   "metadata": {},
   "source": [
    "**Q4: What reference was used to map lane 10018_1#1 during QC and what percentage of the reads were mapped to the reference?**\n",
    "\n",
    "**Streptococcus_suis_P1_7_v1** and **0.00%**\n",
    "\n",
    "First, we need to get the statistics for lane 10018_1#1 using the `-s` or `--stats` option."
   ]
  },
  {
   "cell_type": "code",
   "execution_count": null,
   "metadata": {
    "collapsed": false
   },
   "outputs": [],
   "source": [
    "pf data -t lane -i 10018_1#1 -s"
   ]
  },
  {
   "cell_type": "markdown",
   "metadata": {},
   "source": [
    "Then, we need to find the \"Reference\" and \"Mapped %\" column in the statistics file (10018_1_1.pathfind_stats.csv)."
   ]
  },
  {
   "cell_type": "code",
   "execution_count": null,
   "metadata": {
    "collapsed": false
   },
   "outputs": [],
   "source": [
    "cat 10018_1_1.pathfind_stats.csv"
   ]
  },
  {
   "cell_type": "markdown",
   "metadata": {},
   "source": [
    "***"
   ]
  },
  {
   "cell_type": "markdown",
   "metadata": {},
   "source": [
    "## Sample information and accessions"
   ]
  },
  {
   "cell_type": "markdown",
   "metadata": {},
   "source": [
    "**Q1: What is the sample name that corresponds with lane 10018_1#1?**\n",
    "\n",
    "**APP_N2_OP1**\n",
    "\n",
    "We can use the default output from running `pf info` with the identifier type (`-t` or `--type`) set as \"lane\" and the identifier (`-i` or `--id`) as 10018_1#1 to get the sample name."
   ]
  },
  {
   "cell_type": "code",
   "execution_count": null,
   "metadata": {
    "collapsed": false
   },
   "outputs": [],
   "source": [
    "pf info -t lane -i 10018_1#1"
   ]
  },
  {
   "cell_type": "markdown",
   "metadata": {},
   "source": [
    "We could also have used `pf accession`."
   ]
  },
  {
   "cell_type": "code",
   "execution_count": null,
   "metadata": {
    "collapsed": false
   },
   "outputs": [],
   "source": [
    "pf accession -t lane -i 10018_1#1"
   ]
  },
  {
   "cell_type": "markdown",
   "metadata": {},
   "source": [
    "**Q2: What lane name(s) correspond with sample APP_T1_OP2?**\n",
    "\n",
    "**10018_1#3** and **10018_1#34**\n",
    "\n",
    "We can use the default output from running `pf info` with the identifier type (`-t` or `--type`) set as \"sample\" and the identifier (`-i` or `--id`) as APP_T1_OP2 to get the sample name."
   ]
  },
  {
   "cell_type": "code",
   "execution_count": null,
   "metadata": {
    "collapsed": false
   },
   "outputs": [],
   "source": [
    "pf info -t sample -i APP_T1_OP2"
   ]
  },
  {
   "cell_type": "markdown",
   "metadata": {},
   "source": [
    "Again, we could also have used `pf accession`."
   ]
  },
  {
   "cell_type": "code",
   "execution_count": null,
   "metadata": {
    "collapsed": false
   },
   "outputs": [],
   "source": [
    "pf accession -t sample -i APP_T1_OP2"
   ]
  },
  {
   "cell_type": "markdown",
   "metadata": {},
   "source": [
    "**Q3: What are the sample and lane names of the last lane in the file \"data/lanes_to_search.txt\"?**\n",
    "\n",
    "**10018_1#51** and **APP_T5_OP2**\n",
    "\n",
    "We can use the default output from running `pf info` with the identifier type (`-t` or `--type`) set as \"file\" and the identifier (`-i` or `--id`) as \"data/lanes_to_search.txt\" to get the lane and sample names. To get the last line output (analogous to the last line in the file) we can use `tail -1`."
   ]
  },
  {
   "cell_type": "code",
   "execution_count": null,
   "metadata": {
    "collapsed": false
   },
   "outputs": [],
   "source": [
    "pf info -t file -i data/lanes_to_search.txt | tail -1"
   ]
  },
  {
   "cell_type": "markdown",
   "metadata": {},
   "source": [
    "Again, we could also have used `pf accession`."
   ]
  },
  {
   "cell_type": "code",
   "execution_count": null,
   "metadata": {
    "collapsed": false
   },
   "outputs": [],
   "source": [
    "pf accession -t file -i data/lanes_to_search.txt | tail -1"
   ]
  },
  {
   "cell_type": "markdown",
   "metadata": {},
   "source": [
    "**Q4: What are the sample and lane accessions for lane 5477_6#1?**\n",
    "\n",
    "**ERS015862** and **ERR028809**\n",
    "\n",
    "We can use the default output from running `pf accession` with the identifier type (-t or --type) set as \"lane\" and the identifier (-i or --id) as 5477_6#1 to get the lane and sample accessions."
   ]
  },
  {
   "cell_type": "code",
   "execution_count": null,
   "metadata": {
    "collapsed": false
   },
   "outputs": [],
   "source": [
    "pf accession -t lane -i 5477_6#1"
   ]
  },
  {
   "cell_type": "markdown",
   "metadata": {},
   "source": [
    "**Q5: What are the two URLs which can be used to download the FASTQ files for lane 5477_6#1from the ENA?**\n",
    "\n",
    "**ftp://ftp.sra.ebi.ac.uk/vol1/fastq/ERR028/ERR028809/ERR028809_1.fastq.gz**\n",
    "\n",
    "and \n",
    "\n",
    "**ftp://ftp.sra.ebi.ac.uk/vol1/fastq/ERR028/ERR028809/ERR028809_2.fastq.gz**\n",
    "\n",
    "We can get the ENA download URLs by running pf accession with the identifier type (-t or --type) set as \"lane\" and the identifier (-i or --id) as 5477_6#1 with the option `-f` or `--fastq`."
   ]
  },
  {
   "cell_type": "code",
   "execution_count": null,
   "metadata": {
    "collapsed": false
   },
   "outputs": [],
   "source": [
    "pf accession -t lane -i 5477_6#1 -f"
   ]
  },
  {
   "cell_type": "markdown",
   "metadata": {},
   "source": [
    "This will generate \"fastq_urls.txt\" which contains the two URLS you're looking for."
   ]
  },
  {
   "cell_type": "code",
   "execution_count": null,
   "metadata": {
    "collapsed": false
   },
   "outputs": [],
   "source": [
    "cat fastq_urls.txt"
   ]
  },
  {
   "cell_type": "markdown",
   "metadata": {},
   "source": [
    "_Note: if the file \"fastq&#95;urls.txt\" already exists you will need to remove it before you can use `pf accession` to create it again._"
   ]
  },
  {
   "cell_type": "markdown",
   "metadata": {},
   "source": [
    "***"
   ]
  },
  {
   "cell_type": "markdown",
   "metadata": {},
   "source": [
    "## Analysis pipeline status"
   ]
  },
  {
   "cell_type": "markdown",
   "metadata": {},
   "source": [
    "**Q1: Has the assembly pipeline been run on lane 10018_1#1? If so, what is the status?**\n",
    "\n",
    "**No**.  \n",
    "\n",
    "The status for the assembly pipeline for lane 10018_1#1 is '-' which means that the assembly pipeline has not been run for this data."
   ]
  },
  {
   "cell_type": "code",
   "execution_count": null,
   "metadata": {
    "collapsed": false
   },
   "outputs": [],
   "source": [
    "pf status -t lane -i 10018_1#1"
   ]
  },
  {
   "cell_type": "markdown",
   "metadata": {},
   "source": [
    "**Q2: Which lanes in study 607 has the assembly pipeline been run on?**\n",
    "\n",
    "**10018_1#2**, **10018_1#2**, **10018_1#2**, **10018_1#2** and  **10018_1#51** \n",
    "\n",
    "We can pipe the output of `pf status` for study 607 into `awk`. The assembly pipeline status is found in column 9 and we want to filter for values which are \"Done\".  This should return five lanes."
   ]
  },
  {
   "cell_type": "code",
   "execution_count": null,
   "metadata": {
    "collapsed": false
   },
   "outputs": [],
   "source": [
    "pf status -t study -i 607 | awk '$9 == \"Done\"'"
   ]
  },
  {
   "cell_type": "markdown",
   "metadata": {},
   "source": [
    "**Q3: How many lanes in study 607 has the mapping pipeline been run on?**\n",
    "\n",
    "**41**\n",
    "\n",
    "The command structure here is similar to before except we want to filter values for the mapping pipeline in column 4. We can then count the number of lines returned with `wc -l`."
   ]
  },
  {
   "cell_type": "code",
   "execution_count": null,
   "metadata": {
    "collapsed": false
   },
   "outputs": [],
   "source": [
    "pf status -t study -i 607 | awk '$4 == \"Done\"' | wc -l"
   ]
  },
  {
   "cell_type": "markdown",
   "metadata": {},
   "source": [
    "***"
   ]
  },
  {
   "cell_type": "markdown",
   "metadata": {},
   "source": [
    "## QC pipeline results\n",
    "\n",
    "**Q1: What percentage of the reads from lane 10018_1#1 were \"unclassified\" by Kraken?**\n",
    "\n",
    "**69.55**\n",
    "\n",
    "We can use the default output from running `pf qc` with the identifier type (`-t` or `--type`) set as \"lane\" and the identifier (`-i` or `--id`) as 10018_1#1 to get the location of the Kraken report. We then use `xargs` to pass this location to `head` so that we can see the first few lines of the report."
   ]
  },
  {
   "cell_type": "code",
   "execution_count": null,
   "metadata": {
    "collapsed": false
   },
   "outputs": [],
   "source": [
    "pf qc -t lane -i 10018_1#1 | xargs head"
   ]
  },
  {
   "cell_type": "markdown",
   "metadata": {},
   "source": [
    "**Q2: What percentage of the reads from the lane 10018_1#1 were classified to the genus _Actinobacillus_ by Kraken?**\n",
    "\n",
    "**28.77%**\n",
    "\n",
    "We can write a summary of the Kraken report using the `--summary` or `-s` option. Here we called this file \"qc_genus_summary.csv\". To set the taxonomic level for the summary we use the `--level` or `-L` option. Genus is represented by a \"G\"."
   ]
  },
  {
   "cell_type": "code",
   "execution_count": null,
   "metadata": {
    "collapsed": false
   },
   "outputs": [],
   "source": [
    "pf qc -t lane -i 10018_1#1 -L G -s qc_genus_summary.csv"
   ]
  },
  {
   "cell_type": "markdown",
   "metadata": {},
   "source": [
    "We then look to the summary file to see what precentage of reads were classified to the genus _Actinobacillus_."
   ]
  },
  {
   "cell_type": "code",
   "execution_count": null,
   "metadata": {
    "collapsed": false
   },
   "outputs": [],
   "source": [
    "head qc_genus_summary.csv"
   ]
  },
  {
   "cell_type": "markdown",
   "metadata": {},
   "source": [
    "***"
   ]
  },
  {
   "cell_type": "markdown",
   "metadata": {},
   "source": [
    "## Mapping pipeline results"
   ]
  },
  {
   "cell_type": "markdown",
   "metadata": {},
   "source": [
    "**Q1: How many BAM files are returned by default for lane 5477_6#10?**\n",
    "\n",
    "**4** \n",
    "\n",
    "You can use `grep -c` to count the number of returned locations ending in .bam (\".bam$\"). Notice we use a dollar sign to signify the end as we don't want to count the index files (.bam.bai)."
   ]
  },
  {
   "cell_type": "code",
   "execution_count": null,
   "metadata": {
    "collapsed": false
   },
   "outputs": [],
   "source": [
    "pf map -t lane -i 5477_6#10 | grep -c \".bam$\""
   ]
  },
  {
   "cell_type": "markdown",
   "metadata": {},
   "source": [
    "**Q2: Which mappers have been used with the mapping pipeline for lane 5477_6#10?**\n",
    "\n",
    "**bowtie2**, **smalt** and **tophat**\n",
    "\n",
    "We can use the `--details` or `-d` option to get information about which mapper and reference were used to generate each of the BAM files.  Then we can use `awk` to get the 3rd column which contains the mapper.  "
   ]
  },
  {
   "cell_type": "code",
   "execution_count": null,
   "metadata": {
    "collapsed": false
   },
   "outputs": [],
   "source": [
    "pf map -t lane -i 5477_6#10 -d | awk '{print $3}' "
   ]
  },
  {
   "cell_type": "markdown",
   "metadata": {},
   "source": [
    "If you want you can also `sort` to find the unique mappers with `uniq`."
   ]
  },
  {
   "cell_type": "code",
   "execution_count": null,
   "metadata": {
    "collapsed": false
   },
   "outputs": [],
   "source": [
    "pf map -t lane -i 5477_6#10 -d | awk '{print $3}' | sort | uniq"
   ]
  },
  {
   "cell_type": "markdown",
   "metadata": {},
   "source": [
    "**Q3: Which references have been used with the mapping pipeline for lane 5477_6#10?**\n",
    "\n",
    "The references used were:\n",
    "\n",
    "**Streptococcus_pneumoniae_ATCC_700669_v1**  \n",
    "**Streptococcus_pneumoniae_OXC141_v1**  \n",
    "**Streptococcus_pneumoniae_Taiwan19F-14_v1**    \n",
    "\n",
    "You can us the same command as before except this time we are looking for the references in column 2 with `awk`."
   ]
  },
  {
   "cell_type": "code",
   "execution_count": null,
   "metadata": {
    "collapsed": false
   },
   "outputs": [],
   "source": [
    "pf map -t lane -i 5477_6#10 -d | awk '{print $2}' | sort | uniq"
   ]
  },
  {
   "cell_type": "markdown",
   "metadata": {},
   "source": [
    "**Q4: What percentage of the reads from lane 5477_6#10 were mapped to \"Streptococcus_pneumoniae_OXC141_v1\"?**\n",
    "\n",
    "**97.5%**\n",
    "\n",
    "First, we need to filter our returned mapping pipeline results by reference using the `--reference` or `-R` option. Then we write the comma-delimited statistics for the returned BAM files to file using the `--stats` or `-s` option."
   ]
  },
  {
   "cell_type": "code",
   "execution_count": null,
   "metadata": {
    "collapsed": false
   },
   "outputs": [],
   "source": [
    "pf map -t lane -i 5477_6#10 -R \"Streptococcus_pneumoniae_OXC141_v1\" -s"
   ]
  },
  {
   "cell_type": "code",
   "execution_count": null,
   "metadata": {
    "collapsed": false
   },
   "outputs": [],
   "source": [
    "cat 5477_6_10.mapping_stats.csv"
   ]
  },
  {
   "cell_type": "markdown",
   "metadata": {},
   "source": [
    "This generates \"5477_6_10.mapping_stats.csv\" which we can filter by mapper (column 10) using `awk` and return only the mapping percentage (column 12)."
   ]
  },
  {
   "cell_type": "code",
   "execution_count": null,
   "metadata": {
    "collapsed": false
   },
   "outputs": [],
   "source": [
    "awk -F',' '$8==\"Streptococcus_pneumoniae_OXC141_v1\" {print $12}' 5477_6_10.mapping_stats.csv"
   ]
  },
  {
   "cell_type": "markdown",
   "metadata": {},
   "source": [
    "***"
   ]
  },
  {
   "cell_type": "markdown",
   "metadata": {},
   "source": [
    "## SNP pipeline results"
   ]
  },
  {
   "cell_type": "markdown",
   "metadata": {},
   "source": [
    "**Q1: How many lanes from run 10018_1 has the SNP calling pipeline been completed on?**  \n",
    "\n",
    "**3**\n",
    "\n",
    "You can use `pf status` to tell you which of the lanes in run 10018_1 the SNP calling pipeline has been completed on."
   ]
  },
  {
   "cell_type": "code",
   "execution_count": null,
   "metadata": {
    "collapsed": false
   },
   "outputs": [],
   "source": [
    "pf status -t lane -i 10018_1"
   ]
  },
  {
   "cell_type": "markdown",
   "metadata": {},
   "source": [
    "To count these you can get all of the rows where the SNP calling is \"Done\" (column 7) with `awk` and then count the number of lines returned with `wc -l`."
   ]
  },
  {
   "cell_type": "code",
   "execution_count": null,
   "metadata": {
    "collapsed": false
   },
   "outputs": [],
   "source": [
    "pf status -t lane -i 10018_1 | awk '$7==\"Done\"' | wc -l"
   ]
  },
  {
   "cell_type": "markdown",
   "metadata": {},
   "source": [
    "**Q2: How many gzipped VCF files are returned by default for lane 10018_1#20?**\n",
    "\n",
    "**1**"
   ]
  },
  {
   "cell_type": "code",
   "execution_count": null,
   "metadata": {
    "collapsed": false
   },
   "outputs": [],
   "source": [
    "pf snp -t lane -i 10018_1#20"
   ]
  },
  {
   "cell_type": "markdown",
   "metadata": {},
   "source": [
    "**Q3: Which mapper and reference was used by the SNP calling pipeline for lane 10018_1#20?**\n",
    "\n",
    "**smalt** and ***Streptococcus_suis_P1_7_v1***\n",
    "\n",
    "You can get the mapper and reference information using the `--details` or `-d` option."
   ]
  },
  {
   "cell_type": "code",
   "execution_count": null,
   "metadata": {
    "collapsed": false
   },
   "outputs": [],
   "source": [
    "pf snp -t lane -i 10018_1#20 -d"
   ]
  },
  {
   "cell_type": "markdown",
   "metadata": {},
   "source": [
    "**Q4: Generate the pseudogenome for lane 10018_1#20 excluding the reference.**\n",
    "\n",
    "To generate the pseudogenome you can use the `--pseudogenome` or `-p` option and `--exclude-reference` or `-x` option to exclude the reference."
   ]
  },
  {
   "cell_type": "code",
   "execution_count": null,
   "metadata": {
    "collapsed": false
   },
   "outputs": [],
   "source": [
    "pf snp -t lane -i 10018_1#20 -p -x"
   ]
  },
  {
   "cell_type": "markdown",
   "metadata": {},
   "source": [
    "**Q5: Symlink the gzipped VCF files generated by the SNP calling pipeline for run 10018_1 to a new directory called \"10010_1_vcfs\".**\n",
    "\n",
    "You can symlink the VCF files using the `--symlink` or `-l` option, followed by the name of the directory you want to create."
   ]
  },
  {
   "cell_type": "code",
   "execution_count": null,
   "metadata": {
    "collapsed": false
   },
   "outputs": [],
   "source": [
    "pf snp -t lane -i 10018_1#20 -l 10010_1_vcfs"
   ]
  },
  {
   "cell_type": "markdown",
   "metadata": {},
   "source": [
    "***"
   ]
  },
  {
   "cell_type": "markdown",
   "metadata": {},
   "source": [
    "# Assembly pipeline results\n",
    "\n",
    "**Q1: How many assembly files are returned by default for lane 10018_1#50?**\n",
    "\n",
    "**2**\n",
    "\n",
    "Assemblies have been generated using IVA and SPAdes (look at the result paths)."
   ]
  },
  {
   "cell_type": "code",
   "execution_count": null,
   "metadata": {
    "collapsed": false
   },
   "outputs": [],
   "source": [
    "pf assembly -t lane -i 10018_1#50"
   ]
  },
  {
   "cell_type": "markdown",
   "metadata": {},
   "source": [
    "**Q2: Which program was used to generate the assembly for lane 10018_1#51?**  \n",
    "\n",
    "**velvet**\n",
    "\n",
    "Look at the end of the path - \"10018_1#51/**velvet**_assembly/contigs.fa\"."
   ]
  },
  {
   "cell_type": "code",
   "execution_count": null,
   "metadata": {
    "collapsed": false
   },
   "outputs": [],
   "source": [
    "pf assembly -t lane -i 10018_1#51"
   ]
  },
  {
   "cell_type": "markdown",
   "metadata": {},
   "source": [
    "**Q3: Symlink the assembly/assemblies generated by \"IVA\" for run 10018_1 into a new directory called \"iva_results\".**  "
   ]
  },
  {
   "cell_type": "code",
   "execution_count": null,
   "metadata": {
    "collapsed": false
   },
   "outputs": [],
   "source": [
    "pf assembly -t lane -i 10018_1 -P iva -l iva_results"
   ]
  },
  {
   "cell_type": "markdown",
   "metadata": {},
   "source": [
    "**Q4: How many contigs were assembled by velvet for lane 5477_6#1 and what is the N50?**  \n",
    "\n",
    "**66** contigs with an N50 of **61,250**\n",
    "\n",
    "First, you need to generate the statistics file using the `--stats` or `-s` option. We need to filter our results so that we only get the statistics for the velvet assembly. We can do this with the `--program` or `-P` option."
   ]
  },
  {
   "cell_type": "code",
   "execution_count": null,
   "metadata": {
    "collapsed": false
   },
   "outputs": [],
   "source": [
    "pf assembly -t lane -i 5477_6#1 -s -P velvet"
   ]
  },
  {
   "cell_type": "markdown",
   "metadata": {},
   "source": [
    "Then, you need to look at the contents."
   ]
  },
  {
   "cell_type": "code",
   "execution_count": null,
   "metadata": {
    "collapsed": false
   },
   "outputs": [],
   "source": [
    "cat 5477_6_1.assemblyfind_stats.csv"
   ]
  },
  {
   "cell_type": "markdown",
   "metadata": {},
   "source": [
    "***"
   ]
  },
  {
   "cell_type": "markdown",
   "metadata": {
    "collapsed": true
   },
   "source": [
    "## Annotation pipeline results\n",
    "\n",
    "**Q1: How many GFF files are returned by default for lane 10018_1#1?**\n",
    "\n",
    "**2**\n",
    "\n",
    "There are two GFF files returned, one for an IVA assembly and one for a SPAdes assembly."
   ]
  },
  {
   "cell_type": "code",
   "execution_count": null,
   "metadata": {
    "collapsed": false
   },
   "outputs": [],
   "source": [
    "pf annotation -t lane -i 10018_1#1"
   ]
  },
  {
   "cell_type": "markdown",
   "metadata": {},
   "source": [
    "**Q2: What is the location of the annotation for the SPAdes assembly of lane 10018_1#1?**\n",
    "\n",
    "To get the location of the SPAdes annotation, you need to use the `--program` or `-P` option to filter the results by assembler:"
   ]
  },
  {
   "cell_type": "code",
   "execution_count": null,
   "metadata": {
    "collapsed": false
   },
   "outputs": [],
   "source": [
    "pf annotation -t lane -i 10018_1#1 -P spades"
   ]
  },
  {
   "cell_type": "markdown",
   "metadata": {},
   "source": [
    "**Q3: What is the location of the translated CDS sequence file for the SPAdes assembly of lane 10018_1#1?**\n",
    "\n",
    "To get the translated CDS sequence file you need to use the `--filetype` or `-f` option:"
   ]
  },
  {
   "cell_type": "code",
   "execution_count": null,
   "metadata": {
    "collapsed": false
   },
   "outputs": [],
   "source": [
    "pf annotation -t lane -i 10018_1#1 -P spades -f faa"
   ]
  },
  {
   "cell_type": "markdown",
   "metadata": {},
   "source": [
    "**Q4: How many of the assemblies for run 5477_6 contain the gene \"_dnaG_\"?**  \n",
    "\n",
    "**3**\n",
    "\n",
    "You need to use the `--gene` or `-g` option to search for a gene name."
   ]
  },
  {
   "cell_type": "code",
   "execution_count": null,
   "metadata": {
    "collapsed": false
   },
   "outputs": [],
   "source": [
    "pf annotation -t lane -i 5477_6 -g dnaG "
   ]
  },
  {
   "cell_type": "markdown",
   "metadata": {},
   "source": [
    "***"
   ]
  },
  {
   "cell_type": "markdown",
   "metadata": {
    "collapsed": true
   },
   "source": [
    "## RNA-Seq expression pipeline results"
   ]
  },
  {
   "cell_type": "markdown",
   "metadata": {
    "collapsed": true
   },
   "source": [
    "**Q1: How many count files are returned by default for run 8479_4?**\n",
    "\n",
    "**5**"
   ]
  },
  {
   "cell_type": "code",
   "execution_count": null,
   "metadata": {
    "collapsed": false
   },
   "outputs": [],
   "source": [
    "pf rnaseq -t lane -i 8479_4"
   ]
  },
  {
   "cell_type": "markdown",
   "metadata": {
    "collapsed": true
   },
   "source": [
    "**Q2: Which mappers have been used with the mapping pipeline for lane 8479_4#18?**\n",
    "\n",
    "**bwa**\n",
    "\n",
    "You can get the mapper details using the `--details` or `-d` option."
   ]
  },
  {
   "cell_type": "code",
   "execution_count": null,
   "metadata": {
    "collapsed": true
   },
   "outputs": [],
   "source": [
    "pf rnaseq -t lane -i 8479_4#18 -d"
   ]
  },
  {
   "cell_type": "markdown",
   "metadata": {
    "collapsed": true
   },
   "source": [
    "**Q3: Which reference was used with the mapping pipeline for lane 8479_4#18?**\n",
    "\n",
    "**Mus_musculus_mm10**\n",
    "\n",
    "You can get the reference details using the `--details` or `-d` option."
   ]
  },
  {
   "cell_type": "code",
   "execution_count": null,
   "metadata": {
    "collapsed": false
   },
   "outputs": [],
   "source": [
    "pf rnaseq -t lane -i 8479_4#18 -d"
   ]
  },
  {
   "cell_type": "markdown",
   "metadata": {
    "collapsed": true
   },
   "source": [
    "**Q4: What is the location or path of the featurecounts file for lane 8479_4#18?**\n",
    "\n",
    "You can get the location of the featurecounts file by using the `--filetype` or `-f` option:"
   ]
  },
  {
   "cell_type": "code",
   "execution_count": null,
   "metadata": {
    "collapsed": false
   },
   "outputs": [],
   "source": [
    "pf rnaseq -t lane -i 8479_4#18 -f featurecounts"
   ]
  },
  {
   "cell_type": "markdown",
   "metadata": {
    "collapsed": true
   },
   "source": [
    "**Q5: Which of the lanes in run 8479_4 has the lowest percentage of mapped reads?**\n",
    "\n",
    "**8479_4#17**\n",
    "\n",
    "You can get the mapping statistics for the run using the `--statistics` or `-s` option."
   ]
  },
  {
   "cell_type": "code",
   "execution_count": null,
   "metadata": {
    "collapsed": true
   },
   "outputs": [],
   "source": [
    "pf rnaseq -t lane -i 8479_4 -s"
   ]
  },
  {
   "cell_type": "markdown",
   "metadata": {},
   "source": [
    "This generates a new file called \"8479_4.rnaseqfind_stats.csv\".  You can get the lane name and mapping percentage using `awk` to print the third and twelfth columns."
   ]
  },
  {
   "cell_type": "code",
   "execution_count": null,
   "metadata": {
    "collapsed": false
   },
   "outputs": [],
   "source": [
    "awk -F',' '{print $3\"\\t\"$12}' 8479_4.rnaseqfind_stats.csv"
   ]
  },
  {
   "cell_type": "markdown",
   "metadata": {},
   "source": [
    "**Q6: What is the sample name and symlinked file name associated with lane 8479_4#18?**\n",
    "\n",
    "**WT1xCtrl_2** and **8479_4#18.390152.pe.markdup.bam.expression.csv**\n",
    "\n",
    "You can use the `--summary` or `-S` option to get the relationship between lane, sample and symlinked file names."
   ]
  },
  {
   "cell_type": "code",
   "execution_count": null,
   "metadata": {
    "collapsed": false
   },
   "outputs": [],
   "source": [
    "pf rnaseq -t lane -i 8479_4#18 -S"
   ]
  },
  {
   "cell_type": "code",
   "execution_count": null,
   "metadata": {
    "collapsed": false
   },
   "outputs": [],
   "source": [
    "cat 8479_4_18.rnaseqfind_summary.tsv"
   ]
  },
  {
   "cell_type": "markdown",
   "metadata": {},
   "source": [
    "***"
   ]
  },
  {
   "cell_type": "markdown",
   "metadata": {
    "collapsed": true
   },
   "source": [
    "## Finding a reference \n",
    "\n",
    "**Q1: How many Streptococcus pneumoniae references are available?**\n",
    "\n",
    "**6**\n",
    "\n",
    "Don't forget that genus, species and strain should be separated by an underscore (not a space!) in your query."
   ]
  },
  {
   "cell_type": "code",
   "execution_count": null,
   "metadata": {
    "collapsed": false
   },
   "outputs": [],
   "source": [
    "pf ref -i Streptococcus_pneumoniae -A | wc -l"
   ]
  },
  {
   "cell_type": "markdown",
   "metadata": {},
   "source": [
    "If you got more, that's because your search wasn't specific enough e.g.:"
   ]
  },
  {
   "cell_type": "code",
   "execution_count": null,
   "metadata": {
    "collapsed": false
   },
   "outputs": [],
   "source": [
    "pf ref -i Streptococcus -AR"
   ]
  },
  {
   "cell_type": "markdown",
   "metadata": {},
   "source": [
    "**Q2: How many of the _Streptococcus pneumoniae_ references were imported from a public repository?** \n",
    "\n",
    "**5**\n",
    "\n",
    "One of the references, \"Streptococcus_pneumoniae_str_110.58_v0.4\",  has a version < 1 which means it is an internal assembly and so hasn't been imported from a public repository."
   ]
  },
  {
   "cell_type": "markdown",
   "metadata": {},
   "source": [
    "**Q3: What is the location of the annotation (GFF) file for _Streptococcus pneumoniae P1031_.**\n",
    "\n",
    "You need to use the `--filetype` or `-f` option to get the location."
   ]
  },
  {
   "cell_type": "code",
   "execution_count": null,
   "metadata": {
    "collapsed": false
   },
   "outputs": [],
   "source": [
    "pf ref -i Streptococcus_pneumoniae_P1031 -f gff"
   ]
  },
  {
   "cell_type": "markdown",
   "metadata": {},
   "source": [
    "**Q4: Symlink the annotation (GFF) file for _Streptococcus pneumoniae P1031_ to your current directory.**"
   ]
  },
  {
   "cell_type": "code",
   "execution_count": null,
   "metadata": {
    "collapsed": false
   },
   "outputs": [],
   "source": [
    "pf ref -i Streptococcus_pneumoniae_P1031 -f gff -l"
   ]
  }
 ],
 "metadata": {
  "anaconda-cloud": {},
  "kernelspec": {
   "display_name": "Bash",
   "language": "bash",
   "name": "bash"
  },
  "language_info": {
   "codemirror_mode": "shell",
   "file_extension": ".sh",
   "mimetype": "text/x-sh",
   "name": "bash"
  }
 },
 "nbformat": 4,
 "nbformat_minor": 2
}
