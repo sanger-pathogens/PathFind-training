{
 "cells": [
  {
   "cell_type": "markdown",
   "metadata": {},
   "source": [
    "# PathFind scripts"
   ]
  },
  {
   "cell_type": "markdown",
   "metadata": {},
   "source": [
    "## Introduction\n",
    "\n",
    "A series of scripts were developed so that users can access imported sequence data and the results of the analysis pipelines. These are referred to as the **PathFind** or **pf** scripts. The source code for the Perl module which is used to run the pf scripts can be found on the [sanger-pathogens Git repository](https://github.com/sanger-pathogens) as [Bio-Path-Find](https://github.com/sanger-pathogens/Bio-Path-Find)."
   ]
  },
  {
   "cell_type": "markdown",
   "metadata": {},
   "source": [
    "## Learning outcomes\n",
    "\n",
    "By the end of this tutorial you can expect to be able to:\n",
    "\n",
    "  * Find the pipeline status for your lane(s) using the pf scripts\n",
    "  * Find the data for your lane(s) using the pf scripts\n",
    "  * Find the quality control (QC) results for your lane(s) using the pf scripts\n",
    "  * Find the analysis pipeline results for your lane(s) using the pf scripts\n",
    "  * Find a reference using the pf scripts"
   ]
  },
  {
   "cell_type": "markdown",
   "metadata": {},
   "source": [
    "## Tutorial sections\n",
    "\n",
    "  * [Introduction](introduction.ipynb)\n",
    "  * [Finding your data](finding-your-data.ipynb)\n",
    "  * [Sample information and accessions](information-and-accessions.ipynb)\n",
    "  * [Analysis pipeline status](pipeline-status.ipynb)\n",
    "  * [QC pipeline results](qc-pipeline-results.ipynb)\n",
    "  * [Mapping pipeline results](mapping-pipeline-results.ipynb)\n",
    "  * [SNP pipeline results](snp-pipeline-results.ipynb)\n",
    "  * [Assembly pipeline results](assembly-pipeline-results.ipynb)\n",
    "  * [Annotation pipeline results](annotation-pipeline-results.ipynb)\n",
    "  * [RNA-Seq expression pipeline results](rnaseq-pipeline-results.ipynb)\n",
    "  * [Finding a reference](finding-a-reference.ipynb)\n",
    "  * [Troubleshooting](troubleshooting.ipynb)"
   ]
  },
  {
   "cell_type": "markdown",
   "metadata": {},
   "source": [
    "## Authors\n",
    "\n",
    "This tutorial was created by [Victoria Offord](https://github.com/vaofford)."
   ]
  },
  {
   "cell_type": "markdown",
   "metadata": {},
   "source": [
    "## Running the commands from this tutorial\n",
    "\n",
    "To run the commands in this tutorial you will need to load a terminal on your own computer and log into the farm or pcs6. If you aren't sure how to do this please contact the Pathogen Informatics help-desk at path-help@sanger.ac.uk\n",
    "\n",
    "If you aren't comfortable running commands in a terminal we recommend going back to the Unix tutorial.\n",
    "\n",
    "Any commands in this tutorial will be shown in a box like below: "
   ]
  },
  {
   "cell_type": "code",
   "execution_count": null,
   "metadata": {},
   "outputs": [],
   "source": [
    "ls"
   ]
  },
  {
   "cell_type": "markdown",
   "metadata": {},
   "source": [
    "Simply copy and paste the command in the box into the terminal and hit `enter` to run it. \n",
    "Now you can follow the instructions in the tutorial from here."
   ]
  },
  {
   "cell_type": "markdown",
   "metadata": {},
   "source": [
    "## Loading the pf commands\n",
    "\n",
    "The pf commands are stored in a module on the farm. If you haven't had a Pathogen Informatics induction yet and therefore can't access the modules, please contact path-help@sanger.ac.uk \n",
    "If you need a refresher on what modules are and how to use them see [here](http://scratchy.internal.sanger.ac.uk/index.php/Pathogen_Informatics_use_of_Modules).\n",
    "\n",
    "You will need to run the following command before running any of the pf scripts. If you log out of the farm/pcs6 at any point during this tutorial, you will need to run this command again to re-load the `pf module`."
   ]
  },
  {
   "cell_type": "code",
   "execution_count": null,
   "metadata": {},
   "outputs": [],
   "source": [
    "module load pf"
   ]
  },
  {
   "cell_type": "markdown",
   "metadata": {},
   "source": [
    "## Let's get started!\n",
    "\n",
    "To get started with the tutorial, head to the first section: [Introduction](introduction.ipynb)."
   ]
  }
 ],
 "metadata": {
  "anaconda-cloud": {},
  "kernelspec": {
   "display_name": "Bash",
   "language": "bash",
   "name": "bash"
  },
  "language_info": {
   "codemirror_mode": "shell",
   "file_extension": ".sh",
   "mimetype": "text/x-sh",
   "name": "bash"
  }
 },
 "nbformat": 4,
 "nbformat_minor": 4
}
