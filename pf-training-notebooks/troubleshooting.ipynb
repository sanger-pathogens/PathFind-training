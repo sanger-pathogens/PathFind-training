{
 "cells": [
  {
   "cell_type": "markdown",
   "metadata": {},
   "source": [
    "# Troubleshooting"
   ]
  },
  {
   "cell_type": "markdown",
   "metadata": {},
   "source": [
    "**First, let's tell the system the location of our tutorial configuration file.**"
   ]
  },
  {
   "cell_type": "code",
   "execution_count": null,
   "metadata": {
    "collapsed": true
   },
   "outputs": [],
   "source": [
    "export PF_CONFIG_FILE=$PWD/data/pathfind.conf"
   ]
  },
  {
   "cell_type": "markdown",
   "metadata": {},
   "source": [
    "## Getting help with the commands\n",
    "\n",
    "Remember that you can always look at the usage for `pf` and the individual `pf` scripts (e.g. `pf data`) if you get stuck."
   ]
  },
  {
   "cell_type": "code",
   "execution_count": null,
   "metadata": {
    "collapsed": true
   },
   "outputs": [],
   "source": [
    "pf -h"
   ]
  },
  {
   "cell_type": "code",
   "execution_count": null,
   "metadata": {
    "collapsed": true
   },
   "outputs": [],
   "source": [
    "pf data -h"
   ]
  },
  {
   "cell_type": "markdown",
   "metadata": {},
   "source": [
    "## Getting \"No data found\"\n",
    "\n",
    "There are several reasons why you may be getting \"No data found\" when you search using the `pf` scripts.  All of these can be found on the Pathogen Informatics Wiki FAQs here:\n",
    "\n",
    "[http://mediawiki.internal.sanger.ac.uk/index.php/Pathogen_Informatics_FAQs](http://mediawiki.internal.sanger.ac.uk/index.php/Pathogen_Informatics_FAQs#Why_is_my_data_not_available_in_the_Pathogen_Informatics_pipelines.3F).\n",
    "\n",
    "If you're still stuck after reading the wiki, you can email Pathogen Informatics at **path-help@sanger.ac.uk**."
   ]
  },
  {
   "cell_type": "markdown",
   "metadata": {},
   "source": [
    "## Finding out about the analysis pipelines\n",
    "\n",
    "There are links to the various analysis pipeline documentation on the main wiki page: \n",
    "\n",
    "[http://mediawiki.internal.sanger.ac.uk/index.php/Pathogen_Informatics](http://mediawiki.internal.sanger.ac.uk/index.php/Pathogen_Informatics)"
   ]
  },
  {
   "cell_type": "markdown",
   "metadata": {},
   "source": [
    "**Congratulations, you have now reached the end of this tutorial!**\n",
    "\n",
    "To go back to the beginning, you'll want to head to the [index](index.ipynb).   \n",
    "Or, for the answers to the tutorial questions, head to the [answer section](answers.ipynb)."
   ]
  }
 ],
 "metadata": {
  "anaconda-cloud": {},
  "kernelspec": {
   "display_name": "Bash",
   "language": "bash",
   "name": "bash"
  },
  "language_info": {
   "codemirror_mode": "shell",
   "file_extension": ".sh",
   "mimetype": "text/x-sh",
   "name": "bash"
  }
 },
 "nbformat": 4,
 "nbformat_minor": 2
}
