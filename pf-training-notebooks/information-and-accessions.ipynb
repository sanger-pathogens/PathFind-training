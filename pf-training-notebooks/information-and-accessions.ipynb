{
 "cells": [
  {
   "cell_type": "markdown",
   "metadata": {},
   "source": [
    "# Sample information and accessions"
   ]
  },
  {
   "cell_type": "markdown",
   "metadata": {},
   "source": [
    "## Introduction"
   ]
  },
  {
   "cell_type": "markdown",
   "metadata": {},
   "source": [
    "Once your samples have been sequenced or imported, it can be useful to match up the internal lane identifiers with the sample and supplier identifiers.  We can look at the relationship between lane and sample using `pf info` which will return values for:\n",
    "\n",
    "  * Lane name\n",
    "  * Sample name\n",
    "  * Supplier name\n",
    "  * Public name\n",
    "  * Strain\n",
    "\n",
    "Alternatively, you might want to know the EBI sample and submission numbers for a particular lane or sample.  To get this, you can use `pf accession` which will return:\n",
    "\n",
    "  * Sample name\n",
    "  * Sample accession\n",
    "  * Lane name\n",
    "  * Lane accession\n",
    "\n",
    "For more information about EBI accession number format please see [www.ebi.ac.uk/ena/submit/read-data-format](https://www.ebi.ac.uk/ena/submit/read-data-format#accession_number_format).\n",
    "\n",
    "You can also use pf to generate a spreadsheet with supplementary data, which can be useful for publication. `pf supplementary` will return:\n",
    "\n",
    "  * Sample name\n",
    "  * Sample accession\n",
    "  * Lane name\n",
    "  * Lane accession\n",
    "  * Supplier name\n",
    "  * Public name\n",
    "  * Strain\n",
    "  * Study ID\n",
    "  * Study accession\n",
    "\n",
    "Optionally, `pf supplementary` can also return the sample description.\n",
    "\n",
    "In this section of the tutorial we will cover:\n",
    "\n",
    "  * using `pf info` to get sample metadata\n",
    "  * using `pf accession` to get sample accessions\n",
    "  * using `pf supplementary` to get supplementary data.\n"
   ]
  },
  {
   "cell_type": "markdown",
   "metadata": {},
   "source": [
    "## Exercise 3\n",
    "\n",
    "**First make sure you're in the directory you created at the start, as described in the [index notebook](index.ipynb), before running the following commands to make it easier to remove everything at the end.**"
   ]
  },
  {
   "cell_type": "markdown",
   "metadata": {},
   "source": [
    "### Metadata\n",
    "\n",
    "We can get the metadata associated with our lanes using `pf info`.\n",
    "\n",
    "**Let's take a look at the usage information for `pf info`.**"
   ]
  },
  {
   "cell_type": "code",
   "execution_count": null,
   "metadata": {
    "collapsed": false,
    "jupyter": {
     "outputs_hidden": false
    }
   },
   "outputs": [],
   "source": [
    "pf info -h"
   ]
  },
  {
   "cell_type": "markdown",
   "metadata": {},
   "source": [
    "**Let's get the sample name that corresponds to lane 5477_6#1.**"
   ]
  },
  {
   "cell_type": "code",
   "execution_count": null,
   "metadata": {
    "collapsed": false,
    "jupyter": {
     "outputs_hidden": false
    }
   },
   "outputs": [],
   "source": [
    "pf info -t lane -i 5477_6#1"
   ]
  },
  {
   "cell_type": "markdown",
   "metadata": {},
   "source": [
    "Here we can see that several pieces of metadata have been returned. One of these is the sample name: **Tw01_0055**.\n",
    "\n",
    "**Now, let's get the sample names for all lanes associated with study 664.**"
   ]
  },
  {
   "cell_type": "code",
   "execution_count": null,
   "metadata": {
    "collapsed": false,
    "jupyter": {
     "outputs_hidden": false
    }
   },
   "outputs": [],
   "source": [
    "pf info -t study -i 664"
   ]
  },
  {
   "cell_type": "markdown",
   "metadata": {},
   "source": [
    "We can write this information to file using the `-o` or `--outfile` option.\n",
    "\n",
    "**Let's write our lane metadata to file.**"
   ]
  },
  {
   "cell_type": "code",
   "execution_count": null,
   "metadata": {
    "collapsed": false,
    "jupyter": {
     "outputs_hidden": false
    }
   },
   "outputs": [],
   "source": [
    "pf info -t study -i 664 -o"
   ]
  },
  {
   "cell_type": "markdown",
   "metadata": {},
   "source": [
    "This has generated a new file \"infofind.csv\" which contains our comma-separated lane metadata."
   ]
  },
  {
   "cell_type": "code",
   "execution_count": null,
   "metadata": {
    "collapsed": false,
    "jupyter": {
     "outputs_hidden": false
    }
   },
   "outputs": [],
   "source": [
    "cat infofind.csv"
   ]
  },
  {
   "cell_type": "markdown",
   "metadata": {},
   "source": [
    "We can also give the output file a different name.\n",
    "\n",
    "**Let's call the metadata file for study 664 \"study_664_info.csv\".**"
   ]
  },
  {
   "cell_type": "code",
   "execution_count": null,
   "metadata": {
    "collapsed": false,
    "jupyter": {
     "outputs_hidden": false
    }
   },
   "outputs": [],
   "source": [
    "pf info -t study -i 664 -o study_664_info.csv"
   ]
  },
  {
   "cell_type": "markdown",
   "metadata": {},
   "source": [
    "This generates the file \"study_664_info.csv\" which contains our metadata."
   ]
  },
  {
   "cell_type": "code",
   "execution_count": null,
   "metadata": {
    "collapsed": false,
    "jupyter": {
     "outputs_hidden": false
    }
   },
   "outputs": [],
   "source": [
    "cat study_664_info.csv"
   ]
  },
  {
   "cell_type": "markdown",
   "metadata": {},
   "source": [
    "### Accessions\n",
    "\n",
    "If available, we can also get the EBI raw sequence data and sample accessions for the lanes associated with study 664 using `pf accession`.\n",
    "\n",
    "**Let's take a look at the usage information for `pf accession`.**"
   ]
  },
  {
   "cell_type": "code",
   "execution_count": null,
   "metadata": {
    "collapsed": false,
    "jupyter": {
     "outputs_hidden": false
    }
   },
   "outputs": [],
   "source": [
    "pf accession -h"
   ]
  },
  {
   "cell_type": "markdown",
   "metadata": {},
   "source": [
    "**Let's get the EBI accessions for all lanes associated with study 664.**"
   ]
  },
  {
   "cell_type": "code",
   "execution_count": null,
   "metadata": {
    "collapsed": false,
    "jupyter": {
     "outputs_hidden": false
    }
   },
   "outputs": [],
   "source": [
    "pf accession -t study -i 664"
   ]
  },
  {
   "cell_type": "markdown",
   "metadata": {},
   "source": [
    "As with `pf info` we can also write the output of `pf accession` to a comma-delimited file.\n",
    "\n",
    "**Let's write the accessions associated with study 664 to a file called \"study_664_accessions.csv\".**"
   ]
  },
  {
   "cell_type": "code",
   "execution_count": null,
   "metadata": {
    "collapsed": false,
    "jupyter": {
     "outputs_hidden": false
    }
   },
   "outputs": [],
   "source": [
    "pf accession -t study -i 664 -o study_664_accessions.csv"
   ]
  },
  {
   "cell_type": "markdown",
   "metadata": {},
   "source": [
    "This generates the file \"study_664_accessions.csv\" which contains our comma-separated accessions."
   ]
  },
  {
   "cell_type": "code",
   "execution_count": null,
   "metadata": {
    "collapsed": false,
    "jupyter": {
     "outputs_hidden": false
    }
   },
   "outputs": [],
   "source": [
    "cat study_664_accessions.csv"
   ]
  },
  {
   "cell_type": "markdown",
   "metadata": {},
   "source": [
    "### Supplementary data\n",
    "\n",
    "We can get the supplementary data associated with our lanes using `pf supplementary`.\n",
    "\n",
    "**Let's take a look at the usage information for `pf supplementary`.**"
   ]
  },
  {
   "cell_type": "code",
   "execution_count": null,
   "metadata": {
    "collapsed": true,
    "jupyter": {
     "outputs_hidden": true
    }
   },
   "outputs": [],
   "source": [
    "pf supplementary -h"
   ]
  },
  {
   "cell_type": "markdown",
   "metadata": {},
   "source": [
    "**Let's get the supplementary data for all lanes associated with study 664.**"
   ]
  },
  {
   "cell_type": "code",
   "execution_count": null,
   "metadata": {
    "collapsed": true,
    "jupyter": {
     "outputs_hidden": true
    }
   },
   "outputs": [],
   "source": [
    "pf supplementary -t study -i 664"
   ]
  },
  {
   "cell_type": "markdown",
   "metadata": {},
   "source": [
    "As with `pf info` and `pf accession` we can also write the output of `pf supplementary` to a comma-delimited file.\n",
    "\n",
    "**Let's write the supplementary data associated with study 664 to a file called \"study_664_supplementary.csv\".**"
   ]
  },
  {
   "cell_type": "code",
   "execution_count": null,
   "metadata": {
    "collapsed": true,
    "jupyter": {
     "outputs_hidden": true
    }
   },
   "outputs": [],
   "source": [
    "pf supplementary -t study -i 664 -o study_664_supplementary.csv"
   ]
  },
  {
   "cell_type": "markdown",
   "metadata": {},
   "source": [
    "This generates the file \"study_664_supplementary.csv\" which contains our comma-separated supplementary data."
   ]
  },
  {
   "cell_type": "code",
   "execution_count": null,
   "metadata": {
    "collapsed": true,
    "jupyter": {
     "outputs_hidden": true
    }
   },
   "outputs": [],
   "source": [
    "cat study_664_supplementary.csv"
   ]
  },
  {
   "cell_type": "markdown",
   "metadata": {},
   "source": [
    "Finally, we can include sample description in the supplementary information by using the `-d` or `--description` option. \n",
    "\n",
    "**Let's get the supplementary data for all lanes associated with study 664, including the sample description**"
   ]
  },
  {
   "cell_type": "code",
   "execution_count": null,
   "metadata": {
    "collapsed": true,
    "jupyter": {
     "outputs_hidden": true
    }
   },
   "outputs": [],
   "source": [
    "pf supplementary -t study -i 664 -d"
   ]
  },
  {
   "cell_type": "markdown",
   "metadata": {},
   "source": [
    "## Questions"
   ]
  },
  {
   "cell_type": "markdown",
   "metadata": {},
   "source": [
    "**Q1: What is the sample name that corresponds with lane 10018_1#1?**"
   ]
  },
  {
   "cell_type": "code",
   "execution_count": null,
   "metadata": {
    "collapsed": false,
    "jupyter": {
     "outputs_hidden": false
    }
   },
   "outputs": [],
   "source": [
    "# Enter your answer here"
   ]
  },
  {
   "cell_type": "markdown",
   "metadata": {},
   "source": [
    "**Q2: What lane name(s) correspond with sample APP_T1_OP2?**"
   ]
  },
  {
   "cell_type": "code",
   "execution_count": null,
   "metadata": {
    "collapsed": false,
    "jupyter": {
     "outputs_hidden": false
    }
   },
   "outputs": [],
   "source": [
    "# Enter your answer here"
   ]
  },
  {
   "cell_type": "markdown",
   "metadata": {},
   "source": [
    "**Q3: What are the sample names of the lanes in the file \"lanes.txt\" that you created in the introduction notebook. (If you have removed this file go back to the [introduction notebook](introduction.ipynb))**  \n",
    "_Hint: you could use `awk` to get only the column you want"
   ]
  },
  {
   "cell_type": "code",
   "execution_count": null,
   "metadata": {
    "collapsed": false,
    "jupyter": {
     "outputs_hidden": false
    }
   },
   "outputs": [],
   "source": [
    "# Enter your answer here"
   ]
  },
  {
   "cell_type": "markdown",
   "metadata": {},
   "source": [
    "**Q4: What are the sample and lane accessions for lane 5477_6#1?**"
   ]
  },
  {
   "cell_type": "code",
   "execution_count": null,
   "metadata": {
    "collapsed": false,
    "jupyter": {
     "outputs_hidden": false
    }
   },
   "outputs": [],
   "source": [
    "# Enter your answer here"
   ]
  },
  {
   "cell_type": "markdown",
   "metadata": {},
   "source": [
    "## What's next?\n",
    "\n",
    "You can head back to [finding your data](finding-your-data.ipynb).\n",
    "\n",
    "Otherwise, let's move on to looking at [analysis pipeline status](pipeline-status.ipynb)."
   ]
  }
 ],
 "metadata": {
  "anaconda-cloud": {},
  "kernelspec": {
   "display_name": "Bash",
   "language": "bash",
   "name": "bash"
  },
  "language_info": {
   "codemirror_mode": "shell",
   "file_extension": ".sh",
   "mimetype": "text/x-sh",
   "name": "bash"
  }
 },
 "nbformat": 4,
 "nbformat_minor": 4
}
