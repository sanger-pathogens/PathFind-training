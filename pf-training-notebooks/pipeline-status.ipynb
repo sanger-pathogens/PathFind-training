{
 "cells": [
  {
   "cell_type": "markdown",
   "metadata": {},
   "source": [
    "# Analysis pipeline status"
   ]
  },
  {
   "cell_type": "markdown",
   "metadata": {},
   "source": [
    "## Introduction\n",
    "\n",
    "You can use the `pf status` script to return information about the status of your samples within the automated analysis pipelines, allowing you to see which pipelines have been run on the data. \n",
    "\n",
    "The automated analysis pipelines available include:\n",
    "\n",
    "  * Quality control (QC)\n",
    "  * Mapping\n",
    "  * SNP calling\n",
    "  * Bacterial, Eukaryote and Pacbio assembly\n",
    "  * Annotation\n",
    "  * RNA-Seq expression\n",
    "\n",
    "Running `pf status` will return a table with one row per lane and one column per pipeline. In that table, you will see either a '-' meaning that the pipeline hasn't been run or, if the pipelines have been requested, 'Running', 'Done' or 'Failed' for each of the lanes.\n",
    "\n",
    "Let's take lane 5477_6#1 as an example. Here is the output from `pf status`.\n",
    "\n",
    "| Name     | Import | QC   | Mapping | Archive | Improve | SNP call | RNASeq | Assemble | Annotate |\n",
    "| :-:      | :-:    | :-:  | :-:     | :-:     | :-:     | :-:      | :-:    | :-:      | :-:      |\n",
    "| 5477_6#1 | Done   | Done | Done    | Done    | -       | Done     | -      | Done     | Done     |\n",
    "\n",
    "This tells us that for lane 5477_6#1, the import, QC, mapping, archive, SNP calling, assembly and annotation pipelines have been run and are finished (Done).\n",
    "\n",
    "In this section of the tutorial we will cover:\n",
    "\n",
    "  * using `pf status` to determine the status of samples in the various pathogen informatics pipelines\n"
   ]
  },
  {
   "cell_type": "markdown",
   "metadata": {},
   "source": [
    "## Exercise 4 \n",
    "\n",
    "**First, let's tell the system the location of our tutorial configuration file.**"
   ]
  },
  {
   "cell_type": "code",
   "execution_count": null,
   "metadata": {
    "collapsed": false
   },
   "outputs": [],
   "source": [
    "export PF_CONFIG_FILE=$PWD/data/pathfind.conf"
   ]
  },
  {
   "cell_type": "markdown",
   "metadata": {},
   "source": [
    "We can get the status of all lanes associated with a study by setting the type (`-t` or `--type`) to \"study\" and giving the study ID or name as the identifier (`-i` or `--id`).\n",
    "\n",
    "**Let's get the status of the lanes associated with study 664.**"
   ]
  },
  {
   "cell_type": "code",
   "execution_count": null,
   "metadata": {
    "collapsed": false
   },
   "outputs": [],
   "source": [
    "pf status -t study -i 664"
   ]
  },
  {
   "cell_type": "markdown",
   "metadata": {},
   "source": [
    "Here you can see that the import, QC, mapping, archive, SNP calling, assembly and annotation pipelines have been run and are finished (Done) for all of the lanes associated with study 664.\n",
    "\n",
    "**Let's try this again using the study name, \"Streptococcus pneumoniae global lineages\", instead.**"
   ]
  },
  {
   "cell_type": "code",
   "execution_count": null,
   "metadata": {
    "collapsed": false
   },
   "outputs": [],
   "source": [
    "pf status -t study -i \"Streptococcus pneumoniae global lineages\""
   ]
  },
  {
   "cell_type": "markdown",
   "metadata": {},
   "source": [
    "You can see that we get the same result as if we'd used the study ID. It's important to remember to put the study name in quotes (\") because it has spaces in in.\n",
    "\n",
    "**Let's try using our study name without the quotes.**"
   ]
  },
  {
   "cell_type": "code",
   "execution_count": null,
   "metadata": {
    "collapsed": false
   },
   "outputs": [],
   "source": [
    "pf status -t study -i Streptococcus pneumoniae global lineages"
   ]
  },
  {
   "cell_type": "markdown",
   "metadata": {},
   "source": [
    "Oh, errors and the usage. This is why you should get into the habbit of putting the study name between double quotes.\n",
    "\n",
    "**Let's get the status of the lane 5477_6#1.**"
   ]
  },
  {
   "cell_type": "code",
   "execution_count": null,
   "metadata": {
    "collapsed": false
   },
   "outputs": [],
   "source": [
    "pf status -t lane -i 5477_6#1"
   ]
  },
  {
   "cell_type": "markdown",
   "metadata": {},
   "source": [
    "Alternatively, we can get the sample name for that lane with `pf info` and use the sample name to get the status.\n",
    "\n",
    "**Let's get the corresponding sample name for lane 5477_6#1.**"
   ]
  },
  {
   "cell_type": "code",
   "execution_count": null,
   "metadata": {
    "collapsed": false
   },
   "outputs": [],
   "source": [
    "pf info -t lane -i 5477_6#1"
   ]
  },
  {
   "cell_type": "markdown",
   "metadata": {},
   "source": [
    "**Now let's use the sample name that was returned, Tw01_0055, to get the status.**"
   ]
  },
  {
   "cell_type": "code",
   "execution_count": null,
   "metadata": {
    "collapsed": false
   },
   "outputs": [],
   "source": [
    "pf status -t sample -i Tw01_0055"
   ]
  },
  {
   "cell_type": "markdown",
   "metadata": {},
   "source": [
    "**Finally, let's get the status of the lanes in \"data/lanes.txt\".**"
   ]
  },
  {
   "cell_type": "code",
   "execution_count": null,
   "metadata": {
    "collapsed": false
   },
   "outputs": [],
   "source": [
    "pf status -t file -i data/lanes.txt"
   ]
  },
  {
   "cell_type": "markdown",
   "metadata": {},
   "source": [
    "## Questions"
   ]
  },
  {
   "cell_type": "markdown",
   "metadata": {},
   "source": [
    "**Q1: Has the assembly pipeline been run on lane 10018_1#1? If so, what is the status?**"
   ]
  },
  {
   "cell_type": "code",
   "execution_count": null,
   "metadata": {
    "collapsed": false
   },
   "outputs": [],
   "source": [
    "# Enter your answer here"
   ]
  },
  {
   "cell_type": "markdown",
   "metadata": {},
   "source": [
    "**Q2: Which lanes in study 607 has the assembly pipeline been run on?**  \n",
    "_Hint: you could use `awk` to get the assembly column (9th column)_"
   ]
  },
  {
   "cell_type": "code",
   "execution_count": null,
   "metadata": {
    "collapsed": false
   },
   "outputs": [],
   "source": [
    "# Enter your answer here"
   ]
  },
  {
   "cell_type": "markdown",
   "metadata": {},
   "source": [
    "**Q3: How many lanes in study 607 has the mapping pipeline been run on?**  \n",
    "_Hint: you could use `awk` to get the mapping column (4th column) and `wc` to count the number of lines returned_"
   ]
  },
  {
   "cell_type": "code",
   "execution_count": null,
   "metadata": {
    "collapsed": false
   },
   "outputs": [],
   "source": [
    "# Enter your answer here"
   ]
  },
  {
   "cell_type": "markdown",
   "metadata": {},
   "source": [
    "## What's next?\n",
    "\n",
    "For a quick recap of how to get metadata and accessions, head back to [sample information and accessions](information-and-accessions.ipynb).\n",
    "\n",
    "Otherwise, let's move on to how to get your [QC pipeline results](qc-pipeline-results.ipynb).\n"
   ]
  }
 ],
 "metadata": {
  "anaconda-cloud": {},
  "kernelspec": {
   "display_name": "Bash",
   "language": "bash",
   "name": "bash"
  },
  "language_info": {
   "codemirror_mode": "shell",
   "file_extension": ".sh",
   "mimetype": "text/x-sh",
   "name": "bash"
  }
 },
 "nbformat": 4,
 "nbformat_minor": 2
}
