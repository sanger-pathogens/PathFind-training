{
 "cells": [
  {
   "cell_type": "markdown",
   "metadata": {},
   "source": [
    "# Quality control (QC) pipeline results"
   ]
  },
  {
   "cell_type": "markdown",
   "metadata": {},
   "source": [
    "## Introduction\n",
    "\n",
    "When your sample data is in the Pathogen Informatics databases, it becomes available to the automated analysis pipelines. After the analysis pipelines have been requested and run, you can use the `pf` scripts to return the results of each of the automated analysis pipelines.\n",
    "\n",
    "First up, we're going to look at how you can get the output from the QC pipeline. The [QC pipeline](http://mediawiki.internal.sanger.ac.uk/index.php/Pathogen_Sequencing_Informatics#QC_Pipeline) generates a series of QC statistics about your data and runs [Kraken](https://ccb.jhu.edu/software/kraken/) which assigns each read to a taxon and will broadly tell you what's been sequenced. To get the QC results, we use `pf qc` which returns the location of the Kraken report for a given study, sample or lane.\n",
    "\n",
    "In this section of the tutorial we will cover:\n",
    "\n",
    "  * using `pf qc` to get Kraken reports\n",
    "  * using `pf qc` to get a summary of the Kraken report at different taxonomic levels\n"
   ]
  },
  {
   "cell_type": "markdown",
   "metadata": {},
   "source": [
    "## Exercise 5"
   ]
  },
  {
   "cell_type": "markdown",
   "metadata": {},
   "source": [
    "**First, let's tell the system the location of our tutorial configuration file.**"
   ]
  },
  {
   "cell_type": "code",
   "execution_count": null,
   "metadata": {
    "collapsed": false
   },
   "outputs": [],
   "source": [
    "export PF_CONFIG_FILE=$PWD/data/pathfind.conf"
   ]
  },
  {
   "cell_type": "markdown",
   "metadata": {},
   "source": [
    "**Let's take a look at the `pf qc` usage.**"
   ]
  },
  {
   "cell_type": "code",
   "execution_count": null,
   "metadata": {
    "collapsed": false
   },
   "outputs": [],
   "source": [
    "pf qc -h"
   ]
  },
  {
   "cell_type": "markdown",
   "metadata": {},
   "source": [
    "**Now, let's get the QC pipeline results for lane 5477_6#1.**"
   ]
  },
  {
   "cell_type": "code",
   "execution_count": null,
   "metadata": {
    "collapsed": false
   },
   "outputs": [],
   "source": [
    "pf qc -t lane -i 5477_6#1"
   ]
  },
  {
   "cell_type": "markdown",
   "metadata": {},
   "source": [
    "This returned the location of the Kraken report on disk.\n",
    "\n",
    "**Let's take a quick look at the Kraken report.**"
   ]
  },
  {
   "cell_type": "code",
   "execution_count": null,
   "metadata": {
    "collapsed": false
   },
   "outputs": [],
   "source": [
    "pf qc -t lane -i 5477_6#1 | xargs head"
   ]
  },
  {
   "cell_type": "markdown",
   "metadata": {},
   "source": [
    "Notice that we used `xargs` to give the filename that was returned to another command, in this case `head`. \n",
    "\n",
    "We can get a summary of this Kraken report using the `--summary` or `-s` option that will generate a new file called \"qc_summary.csv\" containing the taxon level Kraken results.\n",
    "\n",
    "**Let's get our _taxon_ (strain) level QC summary for lane 5477_6#1.**"
   ]
  },
  {
   "cell_type": "code",
   "execution_count": null,
   "metadata": {
    "collapsed": false
   },
   "outputs": [],
   "source": [
    "pf qc -t lane -i 5477_6#1 -s"
   ]
  },
  {
   "cell_type": "code",
   "execution_count": null,
   "metadata": {
    "collapsed": false
   },
   "outputs": [],
   "source": [
    "head qc_summary.csv"
   ]
  },
  {
   "cell_type": "markdown",
   "metadata": {},
   "source": [
    "Here you can see the taxon level Kraken results i.e 1.08% of the reads were assigned to the _Streptococcus pneumoniae_ strain Hungary19A-6.\n",
    "\n",
    "We can look at the results for different taxonomic levels using the `--level` or `-L` option.\n",
    "\n",
    "**Let's try looking at the species level QC results for lane 5477_6#1.**"
   ]
  },
  {
   "cell_type": "code",
   "execution_count": null,
   "metadata": {
    "collapsed": false
   },
   "outputs": [],
   "source": [
    "pf qc -t lane -i 5477_6#1 -L S -s qc_species_summary.csv -F"
   ]
  },
  {
   "cell_type": "code",
   "execution_count": null,
   "metadata": {
    "collapsed": false
   },
   "outputs": [],
   "source": [
    "head qc_species_summary.csv"
   ]
  },
  {
   "cell_type": "markdown",
   "metadata": {},
   "source": [
    "Here we can see that 87.61% of the reads were classified as _Streptococcus pneumoniae_. This is promising as the sample is from _Streptococcus pneumoniae_."
   ]
  },
  {
   "cell_type": "markdown",
   "metadata": {},
   "source": [
    "### QC Grind\n",
    "\n",
    "The QC pipeline also generates a series of QC statistics for a given study, sample or lane which can be found on [QC Grind](http://pathweb.internal.sanger.ac.uk:8000/cgi-bin/overview.pl)."
   ]
  },
  {
   "cell_type": "markdown",
   "metadata": {},
   "source": [
    "## Questions\n",
    "\n",
    "**Q1: What percentage of the reads from lane 10018_1#1 were \"unclassified\" by Kraken?**  \n",
    "_Hint: you can use `xargs` and `head` to look at the start of the Kraken report returned by `pf qc`_"
   ]
  },
  {
   "cell_type": "code",
   "execution_count": null,
   "metadata": {
    "collapsed": false
   },
   "outputs": [],
   "source": [
    "# Enter your answer here"
   ]
  },
  {
   "cell_type": "markdown",
   "metadata": {},
   "source": [
    "**Q2: What percentage of the reads from the lane 10018_1#1 were classified to the genus _Actinobacillus_ by Kraken?**  \n",
    "_Hint: look at the level options in the `pf qc` usage_"
   ]
  },
  {
   "cell_type": "code",
   "execution_count": null,
   "metadata": {
    "collapsed": false
   },
   "outputs": [],
   "source": [
    "# Enter your answer here"
   ]
  },
  {
   "cell_type": "code",
   "execution_count": null,
   "metadata": {
    "collapsed": false
   },
   "outputs": [],
   "source": [
    "# Enter your answer here"
   ]
  },
  {
   "cell_type": "markdown",
   "metadata": {},
   "source": [
    "## What's next?\n",
    "\n",
    "For a quick recap of how to get metadata and accessions, head back to [analysis pipeline status](pipeline-status.ipynb).\n",
    "\n",
    "Otherwise, let's move on to how to get your [mapping pipeline results](mapping-pipeline-results.ipynb)."
   ]
  }
 ],
 "metadata": {
  "anaconda-cloud": {},
  "kernelspec": {
   "display_name": "Bash",
   "language": "bash",
   "name": "bash"
  },
  "language_info": {
   "codemirror_mode": "shell",
   "file_extension": ".sh",
   "mimetype": "text/x-sh",
   "name": "bash"
  }
 },
 "nbformat": 4,
 "nbformat_minor": 2
}
