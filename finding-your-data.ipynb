{
 "cells": [
  {
   "cell_type": "markdown",
   "metadata": {},
   "source": [
    "# Finding your data"
   ]
  },
  {
   "cell_type": "markdown",
   "metadata": {},
   "source": [
    "***"
   ]
  },
  {
   "cell_type": "markdown",
   "metadata": {},
   "source": [
    "## Introduction\n",
    "\n",
    "To search for the location(s) of data stored in the pathogen databasese, we can use `pf data`.  In the [previous](intro.ipynb) section, we looked at two options which are used by most of the pf scripts, **type** (**`-t`**) and **id** (**`-i`**).  \n",
    "\n",
    "In this section of the tutorial we will be looking at several other functions which `pf data` can perform that may be useful when finding, sharing or using your sequencing data. \n",
    "\n",
    "By default, `pf data` will return a directory. It not only contains the imported sequence data, but also the results of any of the analysis pipelines which have been run on that data.\n",
    "\n",
    "In this section of the tutorial we will cover:\n",
    "\n",
    "  * the `pf data` command format\n",
    "  * using `pf data` to find the top level directory where sequence data and analysis pipeline results are stored\n",
    "  * using `pf data` to find sequence data files\n",
    "  * using `pf data` to symlink files and directories\n",
    "  * using `pf data` to compress files and directories\n",
    "  * using `pf data` to generate sequencing data statistics\n",
    "\n",
    "### Filetypes\n",
    "\n",
    "However, you might not want to know the top level directory location.  You might want to know where the sequence data files are and what they are called so that you can use them in a downstream analysis. To do this, we ask `pf data` to find the sequence files using the **filetype** (**--filetype** or **-f**). \n",
    "\n",
    "\n",
    "### Symlinking\n",
    "\n",
    "Pathogen Informatics asks users not to copy sequence data or results that are already in the pathogen databases. This is because copying data uses up precious disk space. \n",
    "\n",
    "Instead we ask users to **symlink** the data. Symlinks contain no data, simply referencing the location of the original file or directory. To most commands, the symlink looks like the original file, but the operations the command performs (e.g reading from the file) are directed to the original file which the symlink is pointed to.\n",
    "\n",
    "You can symlink a file or directory that's returned by a `pf data` search by using the **`--symlink`** or **`-l`** option.\n",
    "\n",
    "### Archiving or compressing data\n",
    "\n",
    "\n",
    "### Getting statistics"
   ]
  },
  {
   "cell_type": "markdown",
   "metadata": {},
   "source": [
    "***"
   ]
  },
  {
   "cell_type": "markdown",
   "metadata": {},
   "source": [
    "## Exercise 2\n",
    "\n",
    "**First, let's tell the system the location of our tutorial configuration file.**"
   ]
  },
  {
   "cell_type": "code",
   "execution_count": null,
   "metadata": {
    "collapsed": false
   },
   "outputs": [],
   "source": [
    "export PF_CONFIG_FILE=$PWD/data/pathfind.conf"
   ]
  },
  {
   "cell_type": "markdown",
   "metadata": {},
   "source": [
    "You can see the available options for `pf data` using the **`--help`** or **`-h`** option.\n",
    "\n",
    "**Let's take a look at the usage information for `pf data`**."
   ]
  },
  {
   "cell_type": "code",
   "execution_count": 40,
   "metadata": {
    "collapsed": false
   },
   "outputs": [
    {
     "name": "stdout",
     "output_type": "stream",
     "text": [
      "\u001b[1musage:\u001b[0m\r\n",
      "      pf data --id <id> --type <ID type> [options]\r\n",
      "\r\n",
      "\u001b[1mdescription:\u001b[0m\r\n",
      "    This pathfind command will output the path(s) on disk to the data\r\n",
      "    associated with sequencing run(s). Specify the type of data using --type\r\n",
      "    and give the accession, name or identifier for the data using --id.\r\n",
      "    \r\n",
      "    You can search for data using several types of ID: lane, library, sample,\r\n",
      "    study, or species. *Note* that searching using study or species can\r\n",
      "    produce a large number of results and can be very slow.\r\n",
      "    \r\n",
      "    Use \"pf man\" or \"pf man data\" to see more information.\r\n",
      "\r\n",
      "\u001b[1moptions:\u001b[0m\r\n",
      "    --id -i                     ID or name of file containing IDs [Required;\r\n",
      "                                Env: PF_ID]\r\n",
      "    --type -t                   ID type. Use \"file\" to read IDs from file [\r\n",
      "                                Required; Possible values: database, file,\r\n",
      "                                lane, library, sample, species, study; Env:\r\n",
      "                                PF_TYPE]\r\n",
      "    --file-id-type --ft         type of IDs in the input file [Default:\"lane\"\r\n",
      "                                ; Possible values: lane, library, sample,\r\n",
      "                                species, study]\r\n",
      "    --csv-separator -c          field separator to use when writing CSV files\r\n",
      "                                [Default:\",\"; Env: PF_CSV_SEP]\r\n",
      "    --no-progress-bars -N       don't show progress bars [Flag; Env: PF_NO_\r\n",
      "                                PROGRESS_BARS]\r\n",
      "    --rename -r                 replace hash (#) with underscore (_) in\r\n",
      "                                filenames [Flag]\r\n",
      "    --force -F                  force commands to overwrite existing files [\r\n",
      "                                Flag; Env: PF_FORCE_OVERWRITE]\r\n",
      "    --ignore-processed-flag -I  ignore \"processed\" flag when finding lanes [\r\n",
      "                                Flag]\r\n",
      "    --verbose -v                show debugging messages [Default:\"0\"; Integer\r\n",
      "                                ; Env: PF_VERBOSE]\r\n",
      "    --no-tar-compression -u     don't compress tar archives [Flag]\r\n",
      "    --zip -z                    create a zip archive of data files\r\n",
      "    --stats -s                  filename for statistics CSV output\r\n",
      "    --symlink -l                create symlinks for data files in the\r\n",
      "                                specified directory\r\n",
      "    --archive -a                create a tar archive of data files\r\n",
      "    --filetype -f               type of files to find [Possible values: bam,\r\n",
      "                                corrected, fastq, pacbio]\r\n",
      "    --qc -q                     filter results by lane QC state [Possible\r\n",
      "                                values: failed, passed, pending]\r\n",
      "    --help -h --usage -?        Prints this usage information. [Flag]\r\n",
      "\r\n"
     ]
    }
   ],
   "source": [
    "pf data -h"
   ]
  },
  {
   "cell_type": "markdown",
   "metadata": {},
   "source": [
    "Here we can see that basic `pf data` command uses just the **type** (**`--type`** or **`-t`**) and **id** (**`--id`** or **`-i`**) options.\n",
    "\n",
    "```\n",
    " pf data --id <id> --type <ID type> [options]\n",
    "```\n",
    "\n",
    "**Let's search for the location of data associated with lane 5477_6#1.**"
   ]
  },
  {
   "cell_type": "code",
   "execution_count": null,
   "metadata": {
    "collapsed": false
   },
   "outputs": [],
   "source": [
    "pf data -t lane -i 5477_6#1"
   ]
  },
  {
   "cell_type": "markdown",
   "metadata": {},
   "source": [
    "The disk location `pf data` returned is the **top level** directory where all of data and results associated with lane 5477_6#1 are stored. \n",
    "\n",
    "### Filetypes\n",
    "\n",
    "We may want to find the sequence data files which were imported so that we can use them for a subsequent analysis.\n",
    "\n",
    "**Let's find the FASTQ files which were imported for lane 5477_6#1.**"
   ]
  },
  {
   "cell_type": "code",
   "execution_count": null,
   "metadata": {
    "collapsed": false
   },
   "outputs": [],
   "source": [
    "pf data -t lane -i 5477_6#1 -f fastq"
   ]
  },
  {
   "cell_type": "markdown",
   "metadata": {},
   "source": [
    "As this is Illumina paired end data, there are two gzipped (.gz) FASTQ-formatted sequence data files returned which correspond to the left (_1) and right (_2) reads."
   ]
  },
  {
   "cell_type": "markdown",
   "metadata": {},
   "source": [
    "### Symlinking\n",
    "\n",
    "We don't want to copy these files to where we're running the analysis because this uses up disk space unnecessarily. Instead, we'll symlink them.\n",
    "\n",
    "**First, let's try symlinking our two FASTA files from lane 5477_6#1 in your current working directory.**"
   ]
  },
  {
   "cell_type": "code",
   "execution_count": null,
   "metadata": {
    "collapsed": false
   },
   "outputs": [],
   "source": [
    "pf data -t lane -i 5477_6#1 -f fastq -l ."
   ]
  },
  {
   "cell_type": "markdown",
   "metadata": {},
   "source": [
    "Now, if we look at the directory with `ls` we should see our two symlinked files \"5477_6#1_1.fastq.gz\" and \"5477_6#1_1.fastq.gz\"."
   ]
  },
  {
   "cell_type": "code",
   "execution_count": null,
   "metadata": {
    "collapsed": false
   },
   "outputs": [],
   "source": [
    "ls"
   ]
  },
  {
   "cell_type": "markdown",
   "metadata": {},
   "source": [
    "But, if we take a closer look using `ls -l` we can see that those files are symlinks to our tutorial data files."
   ]
  },
  {
   "cell_type": "code",
   "execution_count": null,
   "metadata": {
    "collapsed": false
   },
   "outputs": [],
   "source": [
    "ls -l | grep fastq"
   ]
  },
  {
   "cell_type": "markdown",
   "metadata": {},
   "source": [
    "**Now, let's try symlinking to a new directory called \"my_lanes\".**"
   ]
  },
  {
   "cell_type": "code",
   "execution_count": null,
   "metadata": {
    "collapsed": false
   },
   "outputs": [],
   "source": [
    "pf data -t lane -i 5477_6#1 -f fastq -l my_lanes"
   ]
  },
  {
   "cell_type": "markdown",
   "metadata": {},
   "source": [
    "We can now see that a new directory called \"my_lanes\" has been created."
   ]
  },
  {
   "cell_type": "code",
   "execution_count": null,
   "metadata": {
    "collapsed": false
   },
   "outputs": [],
   "source": [
    "ls"
   ]
  },
  {
   "cell_type": "markdown",
   "metadata": {},
   "source": [
    "And inside the \"my lanes\" directory are our two symlinked files."
   ]
  },
  {
   "cell_type": "code",
   "execution_count": null,
   "metadata": {
    "collapsed": false
   },
   "outputs": [],
   "source": [
    "ls -l my_lanes"
   ]
  },
  {
   "cell_type": "markdown",
   "metadata": {},
   "source": [
    "So, we've been symlinking our FASTQ files.  But, what if we want to symlink all of the data and results associated with our lane.\n",
    "\n",
    "**Instead of symlinking just our sequence data, let's symlink all of the data and results for lane 5477_6#1 to a new directory called \"my_lane_data\".**"
   ]
  },
  {
   "cell_type": "code",
   "execution_count": null,
   "metadata": {
    "collapsed": false
   },
   "outputs": [],
   "source": [
    "pf data -t lane -i 5477_6#1 -l my_lane_data"
   ]
  },
  {
   "cell_type": "markdown",
   "metadata": {},
   "source": [
    "Looking inside \"my_lane_data\" we see a directory which has the same name as our lane, 5477_6#1. This directory is symlinked to the tutorial data directory for this lane. "
   ]
  },
  {
   "cell_type": "code",
   "execution_count": null,
   "metadata": {
    "collapsed": false
   },
   "outputs": [],
   "source": [
    "ls -l my_lane_data"
   ]
  },
  {
   "cell_type": "markdown",
   "metadata": {},
   "source": [
    "**Finally, let's try symlinking the data and results for all lanes associated with a study.**"
   ]
  },
  {
   "cell_type": "code",
   "execution_count": null,
   "metadata": {
    "collapsed": false
   },
   "outputs": [],
   "source": [
    "pf data -t study -i 664 -l my_study_lanes"
   ]
  },
  {
   "cell_type": "markdown",
   "metadata": {},
   "source": [
    "Here we see 11 symlinked directories which have the names of the 11 lanes associated with study 664."
   ]
  },
  {
   "cell_type": "code",
   "execution_count": null,
   "metadata": {
    "collapsed": false
   },
   "outputs": [],
   "source": [
    "ls -l my_study_lanes"
   ]
  },
  {
   "cell_type": "code",
   "execution_count": null,
   "metadata": {
    "collapsed": true
   },
   "outputs": [],
   "source": [
    "### Archiving data"
   ]
  },
  {
   "cell_type": "code",
   "execution_count": null,
   "metadata": {
    "collapsed": true
   },
   "outputs": [],
   "source": []
  },
  {
   "cell_type": "code",
   "execution_count": null,
   "metadata": {
    "collapsed": true
   },
   "outputs": [],
   "source": [
    "### Data statistics"
   ]
  },
  {
   "cell_type": "code",
   "execution_count": 47,
   "metadata": {
    "collapsed": false
   },
   "outputs": [
    {
     "name": "stdout",
     "output_type": "stream",
     "text": [
      "\r",
      "finding lanes:   0% [                                                ]\r",
      "finding lanes: 100% [================================================]D 0h00m01s\r",
      "                                                                                \r",
      "\r",
      "                                                                                \r",
      "/Users/vo1/sanger-pathogens/pathogen-informatics-training/Notebooks/PathFind/data/prokaryotes/seq-pipelines/Streptococcus/pneumoniae/TRACKING/664/Tw01_0055/SLX/Tw01_0055_1373893/5477_6#1\r\n"
     ]
    }
   ],
   "source": [
    "pf data -t lane -i 5477_6#1 -s"
   ]
  },
  {
   "cell_type": "code",
   "execution_count": 43,
   "metadata": {
    "collapsed": false
   },
   "outputs": [
    {
     "name": "stdout",
     "output_type": "stream",
     "text": [
      "-rw-r--r--   1 vo1  1662     0 10 Aug 19:13 166720.pe.raw.sorted.bam.cover\r\n",
      "-rw-r--r--   1 vo1  1662     0 10 Aug 19:13 166720.pe.raw.sorted.bam.bc\r\n",
      "-rw-r--r--   1 vo1  1662     0 10 Aug 19:13 166720.pe.raw.sorted.bam.bas\r\n",
      "-rw-r--r--   1 vo1  1662     0 10 Aug 19:13 166720.pe.raw.sorted.bam.bai\r\n",
      "-rw-r--r--   1 vo1  1662     0 10 Aug 19:13 166720.pe.raw.sorted.bam\r\n",
      "-rw-r--r--   1 vo1  1662     0 10 Aug 19:13 166720.pe.markdup.snp\r\n",
      "-rw-r--r--   1 vo1  1662     0 10 Aug 19:13 166720.pe.markdup.bam_graphs\r\n",
      "-rw-r--r--   1 vo1  1662     0 10 Aug 19:13 166720.pe.markdup.bam.bc\r\n",
      "-rw-r--r--   1 vo1  1662     0 10 Aug 19:13 166720.pe.markdup.bam.bai\r\n",
      "-rw-r--r--   1 vo1  1662     0 10 Aug 19:13 166720.pe.markdup.bam\r\n"
     ]
    }
   ],
   "source": [
    "ls -lart | tail"
   ]
  },
  {
   "cell_type": "code",
   "execution_count": 46,
   "metadata": {
    "collapsed": false
   },
   "outputs": [
    {
     "name": "stdout",
     "output_type": "stream",
     "text": [
      "\r",
      "finding lanes:   0% [                                                ]\r",
      "finding lanes: 100% [================================================]D 0h00m00s\r",
      "                                                                                \r",
      "\r",
      "                                                                                \r",
      "\r",
      "collecting stats:   0% [                                             ]\r",
      "collecting stats:   9% [====                                         ]0m00s Left\r",
      "collecting stats:  18% [========                                     ]0m00s Left\r",
      "collecting stats:  27% [============                                 ]0m00s Left\r",
      "collecting stats:  36% [================                             ]0m00s Left\r",
      "collecting stats:  45% [====================                         ]0m00s Left\r",
      "collecting stats:  54% [========================                     ]0m00s Left\r",
      "collecting stats:  81% [====================================         ]0m00s Left\r",
      "collecting stats: 100% [=============================================]D 0h00m01s\r",
      "                                                                                \r",
      "Wrote statistics to \"/Users/vo1/sanger-pathogens/pathogen-informatics-training/Notebooks/PathFind/664.pathfind_stats.csv\"\r\n",
      "\r",
      "                                                                                \r"
     ]
    }
   ],
   "source": [
    "pf data -t study -i 664 --stats"
   ]
  },
  {
   "cell_type": "markdown",
   "metadata": {},
   "source": [
    "***"
   ]
  },
  {
   "cell_type": "markdown",
   "metadata": {},
   "source": [
    "## Questions"
   ]
  },
  {
   "cell_type": "markdown",
   "metadata": {},
   "source": [
    "***"
   ]
  },
  {
   "cell_type": "markdown",
   "metadata": {},
   "source": [
    "## What's next?\n",
    "\n",
    "For a quick recap of what the pf scripts are, head back to the [introduction](introduction.ipynb).\n",
    "\n",
    "Otherwise, let's move on to [sample information and accessions](information-and-accessions.ipynb)."
   ]
  }
 ],
 "metadata": {
  "anaconda-cloud": {},
  "kernelspec": {
   "display_name": "Bash",
   "language": "bash",
   "name": "bash"
  },
  "language_info": {
   "codemirror_mode": "shell",
   "file_extension": ".sh",
   "mimetype": "text/x-sh",
   "name": "bash"
  }
 },
 "nbformat": 4,
 "nbformat_minor": 2
}
