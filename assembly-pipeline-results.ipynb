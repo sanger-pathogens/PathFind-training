{
 "cells": [
  {
   "cell_type": "markdown",
   "metadata": {},
   "source": [
    "# Assembly pipeline results"
   ]
  },
  {
   "cell_type": "markdown",
   "metadata": {},
   "source": [
    "## Introduction\n",
    "\n",
    "When your sample data is in the Pathogen Informatics databases, it becomes available to the automated analysis pipelines. After the analysis pipelines have been requested and run, you can use the `pf` scripts to return the results of each of the automated analysis pipelines.\n",
    "\n",
    "The genome assembly pipeline used depends on sequence data and organism:\n",
    "\n",
    "  * [bacteria assembly](http://mediawiki.internal.sanger.ac.uk/index.php/Pathogen_Informatics_Bacterial_Assembly_Pipeline)\n",
    "  * [virus assembly](http://mediawiki.internal.sanger.ac.uk/index.php/Pathogen_Informatics_Viral_Assembly_Pipeline)\n",
    "  * [eukaryote assembly](http://mediawiki.internal.sanger.ac.uk/index.php/Pathogen_Informatics_Eukaryote_Assembly_Pipeline)\n",
    "  * [pacbio assembly](http://mediawiki.internal.sanger.ac.uk/index.php/Pathogen_Informatics_Automated_PacBio_Assembly_Pipeline)\n",
    "\n",
    "We can use `pf assembly` to return the location of assembly pipeline results.\n",
    "\n",
    "In this section of the tutorial we will cover:\n",
    "\n",
    "  * using `pf assembly` to get assembly pipeline results\n",
    "  * filtering `pf assembly` results by program\n",
    "  * using `pf assembly` to symlink assembly pipeline results\n",
    "  * using `pf assembly` to get assembly statistics"
   ]
  },
  {
   "cell_type": "markdown",
   "metadata": {},
   "source": [
    "## Exercise 8"
   ]
  },
  {
   "cell_type": "markdown",
   "metadata": {},
   "source": [
    "**First, let's tell the system the location of our tutorial configuration file.**"
   ]
  },
  {
   "cell_type": "code",
   "execution_count": null,
   "metadata": {
    "collapsed": false
   },
   "outputs": [],
   "source": [
    "export PF_CONFIG_FILE=$PWD/data/pathfind.conf"
   ]
  },
  {
   "cell_type": "markdown",
   "metadata": {},
   "source": [
    "**Let's take a look at the `pf assembly` usage.**"
   ]
  },
  {
   "cell_type": "code",
   "execution_count": null,
   "metadata": {
    "collapsed": false
   },
   "outputs": [],
   "source": [
    "pf assembly -h"
   ]
  },
  {
   "cell_type": "markdown",
   "metadata": {},
   "source": [
    "**Now, let's get the assembly pipeline results for run 5477_6#1.**"
   ]
  },
  {
   "cell_type": "code",
   "execution_count": null,
   "metadata": {
    "collapsed": false
   },
   "outputs": [],
   "source": [
    "pf assembly -t lane -i 5477_6#1"
   ]
  },
  {
   "cell_type": "markdown",
   "metadata": {},
   "source": [
    "This returns the locations of the FASTA-formatted contig files which were produced by the assembly pipeline. \n",
    "\n",
    "By default, `pf assembly` will return the scaffolded contigs. But, what if you want to see all of the assembled contigs. To get these we can use the `--filetype` or `-f` option."
   ]
  },
  {
   "cell_type": "code",
   "execution_count": null,
   "metadata": {
    "collapsed": false
   },
   "outputs": [],
   "source": [
    "pf assembly -t lane -i 5477_6#1 -f all"
   ]
  },
  {
   "cell_type": "markdown",
   "metadata": {},
   "source": [
    "This returns a third file, \"unscaffolded_contigs.fa\".  \n",
    "\n",
    "Notice that the results are located in a directories which are named after the assembler that was used to generate the assembly e.g. \"spades_assembly\".  This tells us that [SPAdes](http://cab.spbu.ru/software/spades/) was the program used to generate the assembly. A quick way to filter assembly pipeline results by program is to use the `--progam` or `-P` option.\n",
    "\n",
    "**Let's get all assembly pipeline results for run 5477_6 which were generated using \"spades\".**"
   ]
  },
  {
   "cell_type": "code",
   "execution_count": null,
   "metadata": {
    "collapsed": false
   },
   "outputs": [],
   "source": [
    "pf assembly -t lane -i 5477_6 -P spades"
   ]
  },
  {
   "cell_type": "markdown",
   "metadata": {},
   "source": [
    "Here we can see that SPAdes was used to generate assemblies for lanes 5477_6#1 and 5477_6#3.  We can symlink these assemblies into a directory using the `--symlink` or `-l` option.\n",
    "\n",
    "**Let's symlink the assembly pipeline results for run 5477_6 which were generated with SPAdes to \"5477_6_spades\".**"
   ]
  },
  {
   "cell_type": "code",
   "execution_count": null,
   "metadata": {
    "collapsed": false
   },
   "outputs": [],
   "source": [
    "pf assembly -t lane -i 5477_6 -P spades -l 5477_6_spades"
   ]
  },
  {
   "cell_type": "code",
   "execution_count": null,
   "metadata": {
    "collapsed": false
   },
   "outputs": [],
   "source": [
    "ls 5477_6_spades"
   ]
  },
  {
   "cell_type": "markdown",
   "metadata": {},
   "source": [
    "We can also get some statistics from our assembly results using the `--stats` or `-s` option.\n",
    "\n",
    "**Let's get some assembly statistics for lane 10018_1#2.**"
   ]
  },
  {
   "cell_type": "code",
   "execution_count": null,
   "metadata": {
    "collapsed": false
   },
   "outputs": [],
   "source": [
    "pf assembly -t lane -i 5477_6#1 -s "
   ]
  },
  {
   "cell_type": "markdown",
   "metadata": {},
   "source": [
    "This generated a new file called \"5477_6_1.assemblyfind_stats.csv\" which contains our assembly statistics."
   ]
  },
  {
   "cell_type": "code",
   "execution_count": null,
   "metadata": {
    "collapsed": false
   },
   "outputs": [],
   "source": [
    "cat 5477_6_1.assemblyfind_stats.csv"
   ]
  },
  {
   "cell_type": "markdown",
   "metadata": {},
   "source": [
    "## Questions\n",
    "\n",
    "**Q1: How many assembly files are returned by default for lane 10018_1#50?**"
   ]
  },
  {
   "cell_type": "code",
   "execution_count": null,
   "metadata": {
    "collapsed": false
   },
   "outputs": [],
   "source": [
    "# Enter your answer here"
   ]
  },
  {
   "cell_type": "markdown",
   "metadata": {},
   "source": [
    "**Q2: Which program was used to generate the assembly for lane 10018_1#51?**  \n",
    "_Hint: look at the location path_"
   ]
  },
  {
   "cell_type": "code",
   "execution_count": null,
   "metadata": {
    "collapsed": false
   },
   "outputs": [],
   "source": [
    "# Enter your answer here"
   ]
  },
  {
   "cell_type": "markdown",
   "metadata": {},
   "source": [
    "**Q3: Symlink the assembly/assemblies generated by \"IVA\" for run 10018_1 into a new directory called \"iva_results\".**  \n",
    "_Hint: don't forget to filter the results if more than one program has been used_"
   ]
  },
  {
   "cell_type": "code",
   "execution_count": null,
   "metadata": {
    "collapsed": false
   },
   "outputs": [],
   "source": [
    "# Enter your answer here"
   ]
  },
  {
   "cell_type": "markdown",
   "metadata": {},
   "source": [
    "**Q4: How many contigs were assembled by velvet for lane 5477_6#2 and what is the N50?**  \n",
    "_Hint: you'll need to get some statistics for this lane and filter by program_"
   ]
  },
  {
   "cell_type": "code",
   "execution_count": null,
   "metadata": {
    "collapsed": false
   },
   "outputs": [],
   "source": [
    "# Enter your answer here"
   ]
  },
  {
   "cell_type": "code",
   "execution_count": null,
   "metadata": {
    "collapsed": false
   },
   "outputs": [],
   "source": [
    "# Enter your answer here"
   ]
  },
  {
   "cell_type": "markdown",
   "metadata": {},
   "source": [
    "## What's next?\n",
    "\n",
    "For a quick recap of how to get QC pipeline results, head back to [SNP calling pipeline results](snp-pipeline-results.ipynb).\n",
    "\n",
    "Otherwise, let's move on to how to get your [annotation pipeline results](annotation-pipeline-results.ipynb)."
   ]
  }
 ],
 "metadata": {
  "anaconda-cloud": {},
  "kernelspec": {
   "display_name": "Bash",
   "language": "bash",
   "name": "bash"
  },
  "language_info": {
   "codemirror_mode": "shell",
   "file_extension": ".sh",
   "mimetype": "text/x-sh",
   "name": "bash"
  }
 },
 "nbformat": 4,
 "nbformat_minor": 2
}
