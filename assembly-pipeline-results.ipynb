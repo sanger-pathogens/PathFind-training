{
 "cells": [
  {
   "cell_type": "markdown",
   "metadata": {},
   "source": [
    "# Assembly pipeline results"
   ]
  },
  {
   "cell_type": "markdown",
   "metadata": {},
   "source": [
    "***"
   ]
  },
  {
   "cell_type": "markdown",
   "metadata": {},
   "source": [
    "## Introduction\n",
    "\n",
    "When your sample data is in the Pathogen Informatics databases, it becomes available to the automated analysis pipelines. After the analysis pipelines have been requested and run, you can use the `pf` scripts to return the results of each of the automated analysis pipelines.\n",
    "\n",
    "The genome assembly pipeline used depends on sequence data and organism:\n",
    "\n",
    "  * [bacteria assembly](http://mediawiki.internal.sanger.ac.uk/index.php/Pathogen_Informatics_Bacterial_Assembly_Pipeline)\n",
    "  * [virus assembly](http://mediawiki.internal.sanger.ac.uk/index.php/Pathogen_Informatics_Viral_Assembly_Pipeline)\n",
    "  * [eukaryote assembly](http://mediawiki.internal.sanger.ac.uk/index.php/Pathogen_Informatics_Eukaryote_Assembly_Pipeline)\n",
    "  * [pacbio assembly](http://mediawiki.internal.sanger.ac.uk/index.php/Pathogen_Informatics_Automated_PacBio_Assembly_Pipeline)\n",
    "\n",
    "We can use `pf assembly` to return the location of assembly pipeline results.\n",
    "\n",
    "In this section of the tutorial we will cover:\n",
    "\n",
    "  * using `pf assembly` to get assembly pipeline results\n",
    "  * filtering `pf assembly` results by program\n",
    "  * using `pf assembly` to symlink assembly pipeline results\n",
    "  * using `pf assembly` to get assembly statistics"
   ]
  },
  {
   "cell_type": "markdown",
   "metadata": {},
   "source": [
    "***"
   ]
  },
  {
   "cell_type": "markdown",
   "metadata": {},
   "source": [
    "## Exercise 8"
   ]
  },
  {
   "cell_type": "markdown",
   "metadata": {},
   "source": [
    "**First, let's tell the system the location of our tutorial configuration file.**"
   ]
  },
  {
   "cell_type": "code",
   "execution_count": 9,
   "metadata": {
    "collapsed": false
   },
   "outputs": [
    {
     "name": "stdout",
     "output_type": "stream",
     "text": []
    }
   ],
   "source": [
    "export PF_CONFIG_FILE=$PWD/data/pathfind.conf"
   ]
  },
  {
   "cell_type": "markdown",
   "metadata": {},
   "source": [
    "**Let's take a look at the `pf assembly` usage.**"
   ]
  },
  {
   "cell_type": "code",
   "execution_count": null,
   "metadata": {
    "collapsed": false
   },
   "outputs": [],
   "source": [
    "pf assembly -h"
   ]
  },
  {
   "cell_type": "code",
   "execution_count": 20,
   "metadata": {
    "collapsed": false
   },
   "outputs": [
    {
     "name": "stdout",
     "output_type": "stream",
     "text": [
      "\r",
      "finding lanes:   0% [                                                ]\r",
      "finding lanes: 100% [================================================]D 0h00m00s\r",
      "                                                                                \r",
      "\r",
      "                                                                                \r",
      "\r",
      "collecting info:   0% [                                              ]\r",
      "collecting info:   9% [====                                          ]0m10s Left\r",
      "collecting info:  18% [========                                      ]0m04s Left\r",
      "collecting info:  27% [============                                  ]0m02s Left\r",
      "collecting info:  45% [====================                          ]0m01s Left\r",
      "collecting info:  72% [=================================             ]0m00s Left\r",
      "collecting info: 100% [==============================================]D 0h00m01s\r",
      "                                                                                \r",
      "Lane            Sample                    Supplier Name             Public Name               Strain\r\n",
      "5477_6#1        Tw01_0055                 NA                        NA                        NA\r\n",
      "5477_6#2        HK01_0168                 NA                        NA                        NA\r\n",
      "5477_6#3        HK01_0036                 NA                        NA                        NA\r\n",
      "5477_6#4        HK01_0147                 NA                        NA                        NA\r\n",
      "5477_6#5        M01_9962                  NA                        NA                        NA\r\n",
      "5477_6#6        M01_9964                  NA                        NA                        NA\r\n",
      "5477_6#7        M01_0087                  NA                        NA                        NA\r\n",
      "5477_6#8        M01_9995                  NA                        NA                        NA\r\n",
      "5477_6#9        V01_99112                 NA                        NA                        NA\r\n",
      "5477_6#10       V01_01107                 NA                        NA                        NA\r\n",
      "5477_6#11       deltaCPS                  NA                        NA                        NA\r\n",
      "\r",
      "                                                                                \r"
     ]
    }
   ],
   "source": [
    "pf info -t study -i 664"
   ]
  },
  {
   "cell_type": "code",
   "execution_count": 22,
   "metadata": {
    "collapsed": false
   },
   "outputs": [
    {
     "name": "stdout",
     "output_type": "stream",
     "text": [
      "\r",
      "finding lanes:   0% [                                                ]\r",
      "finding lanes: 100% [================================================]D 0h00m00s\r",
      "                                                                                \r",
      "\r",
      "                                                                                \r",
      "\r",
      "collecting info:   0% [                                              ]\r",
      "collecting info:   2% [=                                             ]0m49s Left\r",
      "collecting info:   6% [==                                            ]0m15s Left\r",
      "collecting info:  10% [====                                          ]0m09s Left\r",
      "collecting info:  16% [=======                                       ]0m05s Left\r",
      "collecting info:  24% [===========                                   ]0m03s Left\r",
      "collecting info:  36% [================                              ]0m01s Left\r",
      "collecting info:  54% [========================                      ]0m00s Left\r",
      "collecting info:  82% [=====================================         ]0m00s Left\r",
      "collecting info: 100% [==============================================]D 0h00m01s\r",
      "                                                                                \r",
      "Lane            Sample                    Supplier Name             Public Name               Strain\r\n",
      "10018_1#1       APP_N2_OP1                NA                        APP_N2_OP1                NA\r\n",
      "10018_1#2       APP_IN_2                  NA                        APP_IN_2                  NA\r\n",
      "10018_1#3       APP_T1_OP2                NA                        APP_T1_OP2                NA\r\n",
      "10018_1#4       APP_IN_4                  NA                        APP_IN_4                  NA\r\n",
      "10018_1#5       APP_N1_OP2                NA                        APP_N1_OP2                NA\r\n",
      "10018_1#6       APP_N1_OP1                NA                        APP_N1_OP1                NA\r\n",
      "10018_1#7       APP_T1_OP1                NA                        APP_T1_OP1                NA\r\n",
      "10018_1#8       APP_IN_3                  NA                        APP_IN_3                  NA\r\n",
      "10018_1#9       APP_N2_OP2                NA                        APP_N2_OP2                NA\r\n",
      "10018_1#10      APP_IN_1                  NA                        APP_IN_1                  NA\r\n",
      "10018_1#11      APP_T2_OP1                NA                        APP_T2_OP1                NA\r\n",
      "10018_1#12      APP_T2_OP2                NA                        APP_T2_OP2                NA\r\n",
      "10018_1#13      APP_IN_5                  NA                        APP_IN_5                  NA\r\n",
      "10018_1#14      APP_N3_OP1                NA                        APP_N3_OP1                NA\r\n",
      "10018_1#15      APP_N3_OP2                NA                        APP_N3_OP2                NA\r\n",
      "10018_1#16      APP_N4_OP1                NA                        APP_N4_OP1                NA\r\n",
      "10018_1#17      APP_N4_OP2                NA                        APP_N4_OP2                NA\r\n",
      "10018_1#18      APP_N5_OP1                NA                        APP_N5_OP1                NA\r\n",
      "10018_1#19      APP_N5_OP2                NA                        APP_N5_OP2                NA\r\n",
      "10018_1#20      APP_T3_OP1                NA                        APP_T3_OP1                NA\r\n",
      "10018_1#21      APP_T3_OP2                NA                        APP_T3_OP2                NA\r\n",
      "10018_1#22      APP_T4_OP1                NA                        APP_T4_OP1                NA\r\n",
      "10018_1#23      APP_T4_OP2                NA                        APP_T4_OP2                NA\r\n",
      "10018_1#24      APP_T5_OP1                NA                        APP_T5_OP1                NA\r\n",
      "10018_1#25      APP_T5_OP2                NA                        APP_T5_OP2                NA\r\n",
      "10018_1#27      APP_IN_1                  NA                        APP_IN_1                  NA\r\n",
      "10018_1#28      APP_IN_2                  NA                        APP_IN_2                  NA\r\n",
      "10018_1#29      APP_N1_OP1                NA                        APP_N1_OP1                NA\r\n",
      "10018_1#30      APP_N1_OP2                NA                        APP_N1_OP2                NA\r\n",
      "10018_1#31      APP_N2_OP1                NA                        APP_N2_OP1                NA\r\n",
      "10018_1#32      APP_N2_OP2                NA                        APP_N2_OP2                NA\r\n",
      "10018_1#33      APP_T1_OP1                NA                        APP_T1_OP1                NA\r\n",
      "10018_1#34      APP_T1_OP2                NA                        APP_T1_OP2                NA\r\n",
      "10018_1#35      APP_T2_OP1                NA                        APP_T2_OP1                NA\r\n",
      "10018_1#36      APP_T2_OP2                NA                        APP_T2_OP2                NA\r\n",
      "10018_1#37      APP_IN_3                  NA                        APP_IN_3                  NA\r\n",
      "10018_1#38      APP_IN_4                  NA                        APP_IN_4                  NA\r\n",
      "10018_1#39      APP_IN_5                  NA                        APP_IN_5                  NA\r\n",
      "10018_1#40      APP_N3_OP1                NA                        APP_N3_OP1                NA\r\n",
      "10018_1#41      APP_N3_OP2                NA                        APP_N3_OP2                NA\r\n",
      "10018_1#42      APP_N4_OP1                NA                        APP_N4_OP1                NA\r\n",
      "10018_1#43      APP_N4_OP2                NA                        APP_N4_OP2                NA\r\n",
      "10018_1#44      APP_N5_OP1                NA                        APP_N5_OP1                NA\r\n",
      "10018_1#45      APP_N5_OP2                NA                        APP_N5_OP2                NA\r\n",
      "10018_1#46      APP_T3_OP1                NA                        APP_T3_OP1                NA\r\n",
      "10018_1#47      APP_T3_OP2                NA                        APP_T3_OP2                NA\r\n",
      "10018_1#48      APP_T4_OP1                NA                        APP_T4_OP1                NA\r\n",
      "10018_1#49      APP_T4_OP2                NA                        APP_T4_OP2                NA\r\n",
      "10018_1#50      APP_T5_OP1                NA                        APP_T5_OP1                NA\r\n",
      "10018_1#51      APP_T5_OP2                NA                        APP_T5_OP2                NA\r\n",
      "\r",
      "                                                                                \r"
     ]
    }
   ],
   "source": [
    "pf info -t study -i 607"
   ]
  },
  {
   "cell_type": "markdown",
   "metadata": {},
   "source": [
    "**Now, let's get the assembly pipeline results for run 10018_1#2.**"
   ]
  },
  {
   "cell_type": "code",
   "execution_count": null,
   "metadata": {
    "collapsed": false
   },
   "outputs": [],
   "source": [
    "pf assembly -t lane -i 10018_1#2"
   ]
  },
  {
   "cell_type": "markdown",
   "metadata": {},
   "source": [
    "This returns the locations of the FASTA-formatted contig files which were produced by the assembly pipeline. \n",
    "\n",
    "By default, `pf assembly` will return the scaffolded contigs. But, what if you want to see all of the assembled contigs. To get these we can use the `--filetype` or `-f` option."
   ]
  },
  {
   "cell_type": "code",
   "execution_count": null,
   "metadata": {
    "collapsed": false
   },
   "outputs": [],
   "source": [
    "pf assembly -t lane -i 10018_1#2 -f all"
   ]
  },
  {
   "cell_type": "markdown",
   "metadata": {},
   "source": [
    "This returns two files \"contigs.fa\" and \"unscaffolded_contigs.fa\".  \n",
    "\n",
    "Notice that these results are located in a directory called \"spades_assembly\".  This tells us that [SPAdes](http://cab.spbu.ru/software/spades/) was the program used to generate the assembly. A quick way to filter assembly pipeline results by program is to use the `--progam` or `-P` option.\n",
    "\n",
    "**Let's get all assembly pipeline results for run 10018_1 which were generated using \"spades\".**"
   ]
  },
  {
   "cell_type": "code",
   "execution_count": null,
   "metadata": {
    "collapsed": false
   },
   "outputs": [],
   "source": [
    "pf assembly -t lane -i 10018_1 -P spades"
   ]
  },
  {
   "cell_type": "markdown",
   "metadata": {},
   "source": [
    "Here we can see that SPAdes was used to generate assemblies for lanes 10018_1#2, 10018_1#3 and 10018_1#50.  We can symlink these assemblies into a directory using the `--symlink` or `-l` option.\n",
    "\n",
    "**Let's symlink the assembly pipeline results for run 10018_1 which were generated with SPAdes to \"10018_1_spades\".**"
   ]
  },
  {
   "cell_type": "code",
   "execution_count": null,
   "metadata": {
    "collapsed": false
   },
   "outputs": [],
   "source": [
    "pf assembly -t lane -i 10018_1 -P spades -l 10018_1_spades"
   ]
  },
  {
   "cell_type": "code",
   "execution_count": null,
   "metadata": {
    "collapsed": false
   },
   "outputs": [],
   "source": [
    "ls 10018_1_spades"
   ]
  },
  {
   "cell_type": "markdown",
   "metadata": {},
   "source": [
    "We can also get some statistics from our assembly results using the `--stats` or `-s` option.\n",
    "\n",
    "**Let's get some assembly statistics for lane 10018_1#2.**"
   ]
  },
  {
   "cell_type": "code",
   "execution_count": 7,
   "metadata": {
    "collapsed": false
   },
   "outputs": [
    {
     "name": "stdout",
     "output_type": "stream",
     "text": [
      "ERROR: output file \"10018_1_2.assemblyfind_stats.csv\" already exists; not overwriting existing file. Use \"-F\" t- force overwriting\r\n"
     ]
    }
   ],
   "source": [
    "pf assembly -t lane -i 10018_1#2 -s "
   ]
  },
  {
   "cell_type": "markdown",
   "metadata": {},
   "source": [
    "This generated a new file called \"10018_1_2.assemblyfind_stats.csv\" which contains our assembly statistics."
   ]
  },
  {
   "cell_type": "code",
   "execution_count": 8,
   "metadata": {
    "collapsed": false
   },
   "outputs": [
    {
     "name": "stdout",
     "output_type": "stream",
     "text": [
      "Lane,\"Assembly Type\",\"Total Length\",\"No Contigs\",\"Avg Contig Length\",\"Largest Contig\",N50,\"Contigs in N50\",N60,\"Contigs in N60\",N70,\"Contigs in N70\",N80,\"Contigs in N80\",N90,\"Contigs in N90\",N100,\"Contigs in N100\",\"No scaffolded bases (N)\",\"Total Raw Reads\",\"Reads Mapped\",\"Reads Unmapped\",\"Reads Paired\",\"Reads Unpaired\",\"Total Raw Bases\",\"Total Bases Mapped\",\"Total Bases Mapped (Cigar)\",\"Average Read Length\",\"Maximum Read Length\",\"Average Quality\",\"Insert Size Average\",\"Insert Size Std Dev\"\r\n",
      "10018_1#2,\"Scaffold: Correction, Normalisation, Primer Removal + SPAdes + Improvement\"\r\n"
     ]
    }
   ],
   "source": [
    "cat 10018_1_2.assemblyfind_stats.csv"
   ]
  },
  {
   "cell_type": "markdown",
   "metadata": {},
   "source": [
    "***"
   ]
  },
  {
   "cell_type": "markdown",
   "metadata": {},
   "source": [
    "## Questions\n",
    "\n",
    "**Q1: How many assembly files are returned by default for lane 10018_1#50?**"
   ]
  },
  {
   "cell_type": "code",
   "execution_count": null,
   "metadata": {
    "collapsed": false
   },
   "outputs": [],
   "source": [
    "# Enter your answer here"
   ]
  },
  {
   "cell_type": "markdown",
   "metadata": {},
   "source": [
    "**Q2: Which program was used to generate the assembly for lane 10018_1#51?**  \n",
    "_Hint: look at the location path_"
   ]
  },
  {
   "cell_type": "code",
   "execution_count": null,
   "metadata": {
    "collapsed": false
   },
   "outputs": [],
   "source": [
    "# Enter your answer here"
   ]
  },
  {
   "cell_type": "markdown",
   "metadata": {},
   "source": [
    "**Q3: Symlink the assembly/assemblies generated by \"IVA\" for run 10018_1 into a new directory called \"iva_results\".**  \n",
    "_Hint: don't forget to filter the results if more than one program has been used_"
   ]
  },
  {
   "cell_type": "code",
   "execution_count": null,
   "metadata": {
    "collapsed": false
   },
   "outputs": [],
   "source": [
    "# Enter your answer here"
   ]
  },
  {
   "cell_type": "markdown",
   "metadata": {},
   "source": [
    "**Q4: How many contigs were assembled by velvet for lane 5477_6#1 and what is the N50?**  \n",
    "_Hint: you'll need to get some statistics for this lane and filter by program_"
   ]
  },
  {
   "cell_type": "code",
   "execution_count": null,
   "metadata": {
    "collapsed": false
   },
   "outputs": [],
   "source": [
    "# Enter your answer here"
   ]
  },
  {
   "cell_type": "code",
   "execution_count": null,
   "metadata": {
    "collapsed": false
   },
   "outputs": [],
   "source": [
    "# Enter your answer here"
   ]
  },
  {
   "cell_type": "markdown",
   "metadata": {},
   "source": [
    "***"
   ]
  },
  {
   "cell_type": "markdown",
   "metadata": {},
   "source": [
    "## What's next?\n",
    "\n",
    "For a quick recap of how to get QC pipeline results, head back to [SNP calling pipeline results](snp-pipeline-results.ipynb).\n",
    "\n",
    "Otherwise, let's move on to how to get your [annotation pipeline results](annotation-pipeline-results.ipynb)."
   ]
  }
 ],
 "metadata": {
  "anaconda-cloud": {},
  "kernelspec": {
   "display_name": "Bash",
   "language": "bash",
   "name": "bash"
  },
  "language_info": {
   "codemirror_mode": "shell",
   "file_extension": ".sh",
   "mimetype": "text/x-sh",
   "name": "bash"
  }
 },
 "nbformat": 4,
 "nbformat_minor": 2
}
